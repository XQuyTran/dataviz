{
 "cells": [
  {
   "cell_type": "markdown",
   "id": "855d3de8-56fe-4240-a07b-9de2d207eefd",
   "metadata": {},
   "source": [
    "# Môn: Trực quan hóa dữ liệu - 18_21\n",
    "# Đồ án cuối kỳ\n",
    "\n",
    "**Nhóm 7 - thông tin thành viên:**\n"
   ]
  },
  {
   "cell_type": "code",
   "execution_count": 1,
   "id": "b49f0154-86c5-4597-b92d-f271ae284e82",
   "metadata": {},
   "outputs": [],
   "source": [
    "import pandas as pd, matplotlib.pyplot as plt, seaborn as sns\n",
    "import plotly.express as px\n",
    "from plotly.subplots import make_subplots\n",
    "from statsmodels.api import add_constant, OLS\n",
    "\n",
    "pd.set_option(\"display.max_columns\", None)"
   ]
  },
  {
   "cell_type": "markdown",
   "id": "4f57d67a-8562-416e-bdfd-391112e009d5",
   "metadata": {},
   "source": [
    "# Đọc dữ liệu"
   ]
  },
  {
   "cell_type": "code",
   "execution_count": 2,
   "id": "e43821a8-6ddb-44c0-a663-95f96ed76caa",
   "metadata": {},
   "outputs": [
    {
     "data": {
      "text/html": [
       "<div>\n",
       "<style scoped>\n",
       "    .dataframe tbody tr th:only-of-type {\n",
       "        vertical-align: middle;\n",
       "    }\n",
       "\n",
       "    .dataframe tbody tr th {\n",
       "        vertical-align: top;\n",
       "    }\n",
       "\n",
       "    .dataframe thead th {\n",
       "        text-align: right;\n",
       "    }\n",
       "</style>\n",
       "<table border=\"1\" class=\"dataframe\">\n",
       "  <thead>\n",
       "    <tr style=\"text-align: right;\">\n",
       "      <th></th>\n",
       "      <th>Climatic region</th>\n",
       "      <th>Ownership</th>\n",
       "      <th>Number of occupants</th>\n",
       "      <th>House age</th>\n",
       "      <th>House typology</th>\n",
       "      <th>Function other than residential</th>\n",
       "      <th>Number of floor</th>\n",
       "      <th>Total floor area</th>\n",
       "      <th>summer daylight</th>\n",
       "      <th>summer thermal comfort</th>\n",
       "      <th>summer natural ventilation</th>\n",
       "      <th>Winter daylight</th>\n",
       "      <th>Winter thermal comfort</th>\n",
       "      <th>Winter natural ventilation</th>\n",
       "      <th>Source of energy</th>\n",
       "      <th>Gas consumption</th>\n",
       "      <th>maximum electricity consumption</th>\n",
       "      <th>minimum electricity consumption</th>\n",
       "      <th>number of airconditioning</th>\n",
       "      <th>number of electricity water heater</th>\n",
       "      <th>Solar hotwater</th>\n",
       "      <th>Energy efficiency equipment</th>\n",
       "      <th>total energy consumption</th>\n",
       "      <th>energy per person</th>\n",
       "    </tr>\n",
       "  </thead>\n",
       "  <tbody>\n",
       "    <tr>\n",
       "      <th>0</th>\n",
       "      <td>North</td>\n",
       "      <td>shared rent</td>\n",
       "      <td>4</td>\n",
       "      <td>5.0</td>\n",
       "      <td>Attached row house</td>\n",
       "      <td>No</td>\n",
       "      <td>3</td>\n",
       "      <td>110.0</td>\n",
       "      <td>4</td>\n",
       "      <td>2</td>\n",
       "      <td>3</td>\n",
       "      <td>2</td>\n",
       "      <td>2</td>\n",
       "      <td>3</td>\n",
       "      <td>Electricity and gas</td>\n",
       "      <td>100000.0</td>\n",
       "      <td>440000.0</td>\n",
       "      <td>100000.0</td>\n",
       "      <td>0</td>\n",
       "      <td>1</td>\n",
       "      <td>No</td>\n",
       "      <td>Yes</td>\n",
       "      <td>540000</td>\n",
       "      <td>135000.000000</td>\n",
       "    </tr>\n",
       "    <tr>\n",
       "      <th>1</th>\n",
       "      <td>Center</td>\n",
       "      <td>privately own</td>\n",
       "      <td>6</td>\n",
       "      <td>5.0</td>\n",
       "      <td>Detached house</td>\n",
       "      <td>No</td>\n",
       "      <td>5</td>\n",
       "      <td>180.0</td>\n",
       "      <td>4</td>\n",
       "      <td>3</td>\n",
       "      <td>4</td>\n",
       "      <td>4</td>\n",
       "      <td>2</td>\n",
       "      <td>4</td>\n",
       "      <td>Electricity and gas</td>\n",
       "      <td>375000.0</td>\n",
       "      <td>1800000.0</td>\n",
       "      <td>1800000.0</td>\n",
       "      <td>5</td>\n",
       "      <td>5</td>\n",
       "      <td>Yes</td>\n",
       "      <td>No</td>\n",
       "      <td>2175000</td>\n",
       "      <td>362500.000000</td>\n",
       "    </tr>\n",
       "    <tr>\n",
       "      <th>2</th>\n",
       "      <td>North</td>\n",
       "      <td>privately rent</td>\n",
       "      <td>4</td>\n",
       "      <td>5.0</td>\n",
       "      <td>Attached row house</td>\n",
       "      <td>No</td>\n",
       "      <td>3</td>\n",
       "      <td>30.0</td>\n",
       "      <td>5</td>\n",
       "      <td>1</td>\n",
       "      <td>3</td>\n",
       "      <td>5</td>\n",
       "      <td>3</td>\n",
       "      <td>3</td>\n",
       "      <td>Electricity and gas</td>\n",
       "      <td>100000.0</td>\n",
       "      <td>240000.0</td>\n",
       "      <td>240000.0</td>\n",
       "      <td>0</td>\n",
       "      <td>1</td>\n",
       "      <td>No</td>\n",
       "      <td>No</td>\n",
       "      <td>340000</td>\n",
       "      <td>85000.000000</td>\n",
       "    </tr>\n",
       "    <tr>\n",
       "      <th>3</th>\n",
       "      <td>North</td>\n",
       "      <td>privately rent</td>\n",
       "      <td>1</td>\n",
       "      <td>5.0</td>\n",
       "      <td>Attached row house</td>\n",
       "      <td>No</td>\n",
       "      <td>5</td>\n",
       "      <td>30.0</td>\n",
       "      <td>4</td>\n",
       "      <td>3</td>\n",
       "      <td>3</td>\n",
       "      <td>4</td>\n",
       "      <td>4</td>\n",
       "      <td>3</td>\n",
       "      <td>Electricity and gas</td>\n",
       "      <td>100000.0</td>\n",
       "      <td>100000.0</td>\n",
       "      <td>100000.0</td>\n",
       "      <td>0</td>\n",
       "      <td>0</td>\n",
       "      <td>No</td>\n",
       "      <td>No</td>\n",
       "      <td>200000</td>\n",
       "      <td>200000.000000</td>\n",
       "    </tr>\n",
       "    <tr>\n",
       "      <th>4</th>\n",
       "      <td>North</td>\n",
       "      <td>privately own</td>\n",
       "      <td>7</td>\n",
       "      <td>5.0</td>\n",
       "      <td>Attached row house</td>\n",
       "      <td>office</td>\n",
       "      <td>5</td>\n",
       "      <td>240.0</td>\n",
       "      <td>4</td>\n",
       "      <td>3</td>\n",
       "      <td>3</td>\n",
       "      <td>4</td>\n",
       "      <td>4</td>\n",
       "      <td>3</td>\n",
       "      <td>Electricity</td>\n",
       "      <td>NaN</td>\n",
       "      <td>1800000.0</td>\n",
       "      <td>1330000.0</td>\n",
       "      <td>5</td>\n",
       "      <td>5</td>\n",
       "      <td>No</td>\n",
       "      <td>Yes</td>\n",
       "      <td>1800000</td>\n",
       "      <td>257142.857143</td>\n",
       "    </tr>\n",
       "    <tr>\n",
       "      <th>...</th>\n",
       "      <td>...</td>\n",
       "      <td>...</td>\n",
       "      <td>...</td>\n",
       "      <td>...</td>\n",
       "      <td>...</td>\n",
       "      <td>...</td>\n",
       "      <td>...</td>\n",
       "      <td>...</td>\n",
       "      <td>...</td>\n",
       "      <td>...</td>\n",
       "      <td>...</td>\n",
       "      <td>...</td>\n",
       "      <td>...</td>\n",
       "      <td>...</td>\n",
       "      <td>...</td>\n",
       "      <td>...</td>\n",
       "      <td>...</td>\n",
       "      <td>...</td>\n",
       "      <td>...</td>\n",
       "      <td>...</td>\n",
       "      <td>...</td>\n",
       "      <td>...</td>\n",
       "      <td>...</td>\n",
       "      <td>...</td>\n",
       "    </tr>\n",
       "    <tr>\n",
       "      <th>148</th>\n",
       "      <td>North</td>\n",
       "      <td>privately own</td>\n",
       "      <td>4</td>\n",
       "      <td>15.0</td>\n",
       "      <td>Attached row house</td>\n",
       "      <td>No</td>\n",
       "      <td>2</td>\n",
       "      <td>70.0</td>\n",
       "      <td>4</td>\n",
       "      <td>4</td>\n",
       "      <td>4</td>\n",
       "      <td>4</td>\n",
       "      <td>4</td>\n",
       "      <td>4</td>\n",
       "      <td>Electricity and gas</td>\n",
       "      <td>100000.0</td>\n",
       "      <td>675000.0</td>\n",
       "      <td>100000.0</td>\n",
       "      <td>1</td>\n",
       "      <td>2</td>\n",
       "      <td>No</td>\n",
       "      <td>Yes</td>\n",
       "      <td>775000</td>\n",
       "      <td>193750.000000</td>\n",
       "    </tr>\n",
       "    <tr>\n",
       "      <th>149</th>\n",
       "      <td>North</td>\n",
       "      <td>privately own</td>\n",
       "      <td>3</td>\n",
       "      <td>5.0</td>\n",
       "      <td>Attached row house</td>\n",
       "      <td>No</td>\n",
       "      <td>4</td>\n",
       "      <td>180.0</td>\n",
       "      <td>4</td>\n",
       "      <td>2</td>\n",
       "      <td>3</td>\n",
       "      <td>4</td>\n",
       "      <td>3</td>\n",
       "      <td>3</td>\n",
       "      <td>Electricity</td>\n",
       "      <td>NaN</td>\n",
       "      <td>1330000.0</td>\n",
       "      <td>930000.0</td>\n",
       "      <td>1</td>\n",
       "      <td>1</td>\n",
       "      <td>Yes</td>\n",
       "      <td>Yes</td>\n",
       "      <td>1330000</td>\n",
       "      <td>443333.333333</td>\n",
       "    </tr>\n",
       "    <tr>\n",
       "      <th>150</th>\n",
       "      <td>South</td>\n",
       "      <td>privately rent</td>\n",
       "      <td>2</td>\n",
       "      <td>5.0</td>\n",
       "      <td>Apartment</td>\n",
       "      <td>No</td>\n",
       "      <td>1</td>\n",
       "      <td>110.0</td>\n",
       "      <td>2</td>\n",
       "      <td>2</td>\n",
       "      <td>2</td>\n",
       "      <td>1</td>\n",
       "      <td>1</td>\n",
       "      <td>1</td>\n",
       "      <td>Electricity and gas</td>\n",
       "      <td>100000.0</td>\n",
       "      <td>675000.0</td>\n",
       "      <td>240000.0</td>\n",
       "      <td>3</td>\n",
       "      <td>2</td>\n",
       "      <td>No</td>\n",
       "      <td>No</td>\n",
       "      <td>775000</td>\n",
       "      <td>387500.000000</td>\n",
       "    </tr>\n",
       "    <tr>\n",
       "      <th>151</th>\n",
       "      <td>North</td>\n",
       "      <td>privately own</td>\n",
       "      <td>2</td>\n",
       "      <td>5.0</td>\n",
       "      <td>Attached row house</td>\n",
       "      <td>No</td>\n",
       "      <td>2</td>\n",
       "      <td>180.0</td>\n",
       "      <td>3</td>\n",
       "      <td>3</td>\n",
       "      <td>3</td>\n",
       "      <td>3</td>\n",
       "      <td>3</td>\n",
       "      <td>2</td>\n",
       "      <td>Electricity and gas</td>\n",
       "      <td>100000.0</td>\n",
       "      <td>240000.0</td>\n",
       "      <td>100000.0</td>\n",
       "      <td>1</td>\n",
       "      <td>1</td>\n",
       "      <td>Yes</td>\n",
       "      <td>Yes</td>\n",
       "      <td>340000</td>\n",
       "      <td>170000.000000</td>\n",
       "    </tr>\n",
       "    <tr>\n",
       "      <th>152</th>\n",
       "      <td>South</td>\n",
       "      <td>privately own</td>\n",
       "      <td>4</td>\n",
       "      <td>15.0</td>\n",
       "      <td>semi- detached house</td>\n",
       "      <td>No</td>\n",
       "      <td>2</td>\n",
       "      <td>240.0</td>\n",
       "      <td>3</td>\n",
       "      <td>3</td>\n",
       "      <td>3</td>\n",
       "      <td>3</td>\n",
       "      <td>3</td>\n",
       "      <td>3</td>\n",
       "      <td>Electricity and gas</td>\n",
       "      <td>375000.0</td>\n",
       "      <td>675000.0</td>\n",
       "      <td>440000.0</td>\n",
       "      <td>3</td>\n",
       "      <td>3</td>\n",
       "      <td>Yes</td>\n",
       "      <td>Yes</td>\n",
       "      <td>1050000</td>\n",
       "      <td>262500.000000</td>\n",
       "    </tr>\n",
       "  </tbody>\n",
       "</table>\n",
       "<p>153 rows × 24 columns</p>\n",
       "</div>"
      ],
      "text/plain": [
       "    Climatic region       Ownership  Number of occupants  House age  \\\n",
       "0             North     shared rent                    4        5.0   \n",
       "1            Center   privately own                    6        5.0   \n",
       "2             North  privately rent                    4        5.0   \n",
       "3             North  privately rent                    1        5.0   \n",
       "4             North   privately own                    7        5.0   \n",
       "..              ...             ...                  ...        ...   \n",
       "148           North   privately own                    4       15.0   \n",
       "149           North   privately own                    3        5.0   \n",
       "150           South  privately rent                    2        5.0   \n",
       "151           North   privately own                    2        5.0   \n",
       "152           South   privately own                    4       15.0   \n",
       "\n",
       "           House typology Function other than residential  Number of floor  \\\n",
       "0      Attached row house                              No                3   \n",
       "1          Detached house                              No                5   \n",
       "2      Attached row house                              No                3   \n",
       "3      Attached row house                              No                5   \n",
       "4      Attached row house                          office                5   \n",
       "..                    ...                             ...              ...   \n",
       "148    Attached row house                              No                2   \n",
       "149    Attached row house                              No                4   \n",
       "150             Apartment                              No                1   \n",
       "151    Attached row house                              No                2   \n",
       "152  semi- detached house                              No                2   \n",
       "\n",
       "     Total floor area  summer daylight  summer thermal comfort  \\\n",
       "0               110.0                4                       2   \n",
       "1               180.0                4                       3   \n",
       "2                30.0                5                       1   \n",
       "3                30.0                4                       3   \n",
       "4               240.0                4                       3   \n",
       "..                ...              ...                     ...   \n",
       "148              70.0                4                       4   \n",
       "149             180.0                4                       2   \n",
       "150             110.0                2                       2   \n",
       "151             180.0                3                       3   \n",
       "152             240.0                3                       3   \n",
       "\n",
       "     summer natural ventilation  Winter daylight  Winter thermal comfort  \\\n",
       "0                             3                2                       2   \n",
       "1                             4                4                       2   \n",
       "2                             3                5                       3   \n",
       "3                             3                4                       4   \n",
       "4                             3                4                       4   \n",
       "..                          ...              ...                     ...   \n",
       "148                           4                4                       4   \n",
       "149                           3                4                       3   \n",
       "150                           2                1                       1   \n",
       "151                           3                3                       3   \n",
       "152                           3                3                       3   \n",
       "\n",
       "     Winter natural ventilation     Source of energy  Gas consumption  \\\n",
       "0                             3  Electricity and gas         100000.0   \n",
       "1                             4  Electricity and gas         375000.0   \n",
       "2                             3  Electricity and gas         100000.0   \n",
       "3                             3  Electricity and gas         100000.0   \n",
       "4                             3          Electricity              NaN   \n",
       "..                          ...                  ...              ...   \n",
       "148                           4  Electricity and gas         100000.0   \n",
       "149                           3          Electricity              NaN   \n",
       "150                           1  Electricity and gas         100000.0   \n",
       "151                           2  Electricity and gas         100000.0   \n",
       "152                           3  Electricity and gas         375000.0   \n",
       "\n",
       "     maximum electricity consumption  minimum electricity consumption  \\\n",
       "0                           440000.0                         100000.0   \n",
       "1                          1800000.0                        1800000.0   \n",
       "2                           240000.0                         240000.0   \n",
       "3                           100000.0                         100000.0   \n",
       "4                          1800000.0                        1330000.0   \n",
       "..                               ...                              ...   \n",
       "148                         675000.0                         100000.0   \n",
       "149                        1330000.0                         930000.0   \n",
       "150                         675000.0                         240000.0   \n",
       "151                         240000.0                         100000.0   \n",
       "152                         675000.0                         440000.0   \n",
       "\n",
       "     number of airconditioning  number of electricity water heater  \\\n",
       "0                            0                                   1   \n",
       "1                            5                                   5   \n",
       "2                            0                                   1   \n",
       "3                            0                                   0   \n",
       "4                            5                                   5   \n",
       "..                         ...                                 ...   \n",
       "148                          1                                   2   \n",
       "149                          1                                   1   \n",
       "150                          3                                   2   \n",
       "151                          1                                   1   \n",
       "152                          3                                   3   \n",
       "\n",
       "    Solar hotwater Energy efficiency equipment  total energy consumption  \\\n",
       "0               No                         Yes                    540000   \n",
       "1              Yes                          No                   2175000   \n",
       "2               No                          No                    340000   \n",
       "3               No                          No                    200000   \n",
       "4               No                         Yes                   1800000   \n",
       "..             ...                         ...                       ...   \n",
       "148             No                         Yes                    775000   \n",
       "149            Yes                         Yes                   1330000   \n",
       "150             No                          No                    775000   \n",
       "151            Yes                         Yes                    340000   \n",
       "152            Yes                         Yes                   1050000   \n",
       "\n",
       "     energy per person  \n",
       "0        135000.000000  \n",
       "1        362500.000000  \n",
       "2         85000.000000  \n",
       "3        200000.000000  \n",
       "4        257142.857143  \n",
       "..                 ...  \n",
       "148      193750.000000  \n",
       "149      443333.333333  \n",
       "150      387500.000000  \n",
       "151      170000.000000  \n",
       "152      262500.000000  \n",
       "\n",
       "[153 rows x 24 columns]"
      ]
     },
     "execution_count": 2,
     "metadata": {},
     "output_type": "execute_result"
    }
   ],
   "source": [
    "data_df = pd.read_excel('energy_consuming.xlsx')\n",
    "data_df"
   ]
  },
  {
   "cell_type": "code",
   "execution_count": 4,
   "id": "30b98242-8c01-4874-9cae-d00c849e19ed",
   "metadata": {},
   "outputs": [
    {
     "data": {
      "text/plain": [
       "Climatic region                        object\n",
       "Ownership                              object\n",
       "Number of occupants                     int64\n",
       "House age                             float64\n",
       "House typology                         object\n",
       "Function other than residential        object\n",
       "Number of floor                         int64\n",
       "Total floor area                      float64\n",
       "summer daylight                         int64\n",
       "summer thermal comfort                  int64\n",
       "summer natural ventilation              int64\n",
       "Winter daylight                         int64\n",
       "Winter thermal comfort                  int64\n",
       "Winter natural ventilation              int64\n",
       "Source of energy                       object\n",
       "Gas consumption                       float64\n",
       "maximum electricity consumption       float64\n",
       "minimum electricity consumption       float64\n",
       "number of airconditioning               int64\n",
       "number of electricity water heater      int64\n",
       "Solar hotwater                         object\n",
       "Energy efficiency equipment            object\n",
       "total energy consumption                int64\n",
       "energy per person                     float64\n",
       "dtype: object"
      ]
     },
     "execution_count": 4,
     "metadata": {},
     "output_type": "execute_result"
    }
   ],
   "source": [
    "data_df.dtypes"
   ]
  },
  {
   "cell_type": "code",
   "execution_count": 5,
   "id": "f9101503-fad4-4c07-9183-43a6019dbe13",
   "metadata": {},
   "outputs": [
    {
     "data": {
      "text/html": [
       "<div>\n",
       "<style scoped>\n",
       "    .dataframe tbody tr th:only-of-type {\n",
       "        vertical-align: middle;\n",
       "    }\n",
       "\n",
       "    .dataframe tbody tr th {\n",
       "        vertical-align: top;\n",
       "    }\n",
       "\n",
       "    .dataframe thead th {\n",
       "        text-align: right;\n",
       "    }\n",
       "</style>\n",
       "<table border=\"1\" class=\"dataframe\">\n",
       "  <thead>\n",
       "    <tr style=\"text-align: right;\">\n",
       "      <th></th>\n",
       "      <th>Number of occupants</th>\n",
       "      <th>House age</th>\n",
       "      <th>Number of floor</th>\n",
       "      <th>Total floor area</th>\n",
       "      <th>summer daylight</th>\n",
       "      <th>summer thermal comfort</th>\n",
       "      <th>summer natural ventilation</th>\n",
       "      <th>Winter daylight</th>\n",
       "      <th>Winter thermal comfort</th>\n",
       "      <th>Winter natural ventilation</th>\n",
       "      <th>Gas consumption</th>\n",
       "      <th>maximum electricity consumption</th>\n",
       "      <th>minimum electricity consumption</th>\n",
       "      <th>number of airconditioning</th>\n",
       "      <th>number of electricity water heater</th>\n",
       "      <th>total energy consumption</th>\n",
       "      <th>energy per person</th>\n",
       "    </tr>\n",
       "  </thead>\n",
       "  <tbody>\n",
       "    <tr>\n",
       "      <th>count</th>\n",
       "      <td>153.000000</td>\n",
       "      <td>150.000000</td>\n",
       "      <td>153.000000</td>\n",
       "      <td>146.000000</td>\n",
       "      <td>153.00000</td>\n",
       "      <td>153.000000</td>\n",
       "      <td>153.000000</td>\n",
       "      <td>153.000000</td>\n",
       "      <td>153.000000</td>\n",
       "      <td>153.000000</td>\n",
       "      <td>97.000000</td>\n",
       "      <td>1.510000e+02</td>\n",
       "      <td>1.510000e+02</td>\n",
       "      <td>153.000000</td>\n",
       "      <td>153.000000</td>\n",
       "      <td>1.530000e+02</td>\n",
       "      <td>1.530000e+02</td>\n",
       "    </tr>\n",
       "    <tr>\n",
       "      <th>mean</th>\n",
       "      <td>4.019608</td>\n",
       "      <td>11.800000</td>\n",
       "      <td>3.032680</td>\n",
       "      <td>127.945205</td>\n",
       "      <td>3.54902</td>\n",
       "      <td>2.941176</td>\n",
       "      <td>3.261438</td>\n",
       "      <td>3.366013</td>\n",
       "      <td>3.254902</td>\n",
       "      <td>3.346405</td>\n",
       "      <td>238659.793814</td>\n",
       "      <td>9.328808e+05</td>\n",
       "      <td>5.153311e+05</td>\n",
       "      <td>2.000000</td>\n",
       "      <td>1.712418</td>\n",
       "      <td>1.071993e+06</td>\n",
       "      <td>2.774647e+05</td>\n",
       "    </tr>\n",
       "    <tr>\n",
       "      <th>std</th>\n",
       "      <td>1.519481</td>\n",
       "      <td>7.969741</td>\n",
       "      <td>1.378492</td>\n",
       "      <td>71.166806</td>\n",
       "      <td>0.99301</td>\n",
       "      <td>1.040213</td>\n",
       "      <td>0.991883</td>\n",
       "      <td>1.056008</td>\n",
       "      <td>0.970143</td>\n",
       "      <td>0.948130</td>\n",
       "      <td>168171.098798</td>\n",
       "      <td>5.456780e+05</td>\n",
       "      <td>3.749278e+05</td>\n",
       "      <td>1.292692</td>\n",
       "      <td>1.110199</td>\n",
       "      <td>6.248285e+05</td>\n",
       "      <td>1.626045e+05</td>\n",
       "    </tr>\n",
       "    <tr>\n",
       "      <th>min</th>\n",
       "      <td>1.000000</td>\n",
       "      <td>5.000000</td>\n",
       "      <td>1.000000</td>\n",
       "      <td>30.000000</td>\n",
       "      <td>1.00000</td>\n",
       "      <td>1.000000</td>\n",
       "      <td>1.000000</td>\n",
       "      <td>1.000000</td>\n",
       "      <td>1.000000</td>\n",
       "      <td>1.000000</td>\n",
       "      <td>100000.000000</td>\n",
       "      <td>1.000000e+05</td>\n",
       "      <td>1.000000e+05</td>\n",
       "      <td>0.000000</td>\n",
       "      <td>0.000000</td>\n",
       "      <td>0.000000e+00</td>\n",
       "      <td>0.000000e+00</td>\n",
       "    </tr>\n",
       "    <tr>\n",
       "      <th>25%</th>\n",
       "      <td>3.000000</td>\n",
       "      <td>5.000000</td>\n",
       "      <td>2.000000</td>\n",
       "      <td>70.000000</td>\n",
       "      <td>3.00000</td>\n",
       "      <td>2.000000</td>\n",
       "      <td>3.000000</td>\n",
       "      <td>3.000000</td>\n",
       "      <td>3.000000</td>\n",
       "      <td>3.000000</td>\n",
       "      <td>100000.000000</td>\n",
       "      <td>4.400000e+05</td>\n",
       "      <td>2.400000e+05</td>\n",
       "      <td>1.000000</td>\n",
       "      <td>1.000000</td>\n",
       "      <td>5.400000e+05</td>\n",
       "      <td>1.700000e+05</td>\n",
       "    </tr>\n",
       "    <tr>\n",
       "      <th>50%</th>\n",
       "      <td>4.000000</td>\n",
       "      <td>10.000000</td>\n",
       "      <td>3.000000</td>\n",
       "      <td>110.000000</td>\n",
       "      <td>4.00000</td>\n",
       "      <td>3.000000</td>\n",
       "      <td>3.000000</td>\n",
       "      <td>3.000000</td>\n",
       "      <td>3.000000</td>\n",
       "      <td>3.000000</td>\n",
       "      <td>225000.000000</td>\n",
       "      <td>9.300000e+05</td>\n",
       "      <td>4.400000e+05</td>\n",
       "      <td>2.000000</td>\n",
       "      <td>1.000000</td>\n",
       "      <td>9.300000e+05</td>\n",
       "      <td>2.583333e+05</td>\n",
       "    </tr>\n",
       "    <tr>\n",
       "      <th>75%</th>\n",
       "      <td>5.000000</td>\n",
       "      <td>15.000000</td>\n",
       "      <td>4.000000</td>\n",
       "      <td>180.000000</td>\n",
       "      <td>4.00000</td>\n",
       "      <td>4.000000</td>\n",
       "      <td>4.000000</td>\n",
       "      <td>4.000000</td>\n",
       "      <td>4.000000</td>\n",
       "      <td>4.000000</td>\n",
       "      <td>375000.000000</td>\n",
       "      <td>1.330000e+06</td>\n",
       "      <td>6.750000e+05</td>\n",
       "      <td>3.000000</td>\n",
       "      <td>2.000000</td>\n",
       "      <td>1.555000e+06</td>\n",
       "      <td>3.600000e+05</td>\n",
       "    </tr>\n",
       "    <tr>\n",
       "      <th>max</th>\n",
       "      <td>7.000000</td>\n",
       "      <td>35.000000</td>\n",
       "      <td>5.000000</td>\n",
       "      <td>240.000000</td>\n",
       "      <td>5.00000</td>\n",
       "      <td>5.000000</td>\n",
       "      <td>5.000000</td>\n",
       "      <td>5.000000</td>\n",
       "      <td>5.000000</td>\n",
       "      <td>5.000000</td>\n",
       "      <td>675000.000000</td>\n",
       "      <td>1.800000e+06</td>\n",
       "      <td>1.800000e+06</td>\n",
       "      <td>5.000000</td>\n",
       "      <td>5.000000</td>\n",
       "      <td>2.475000e+06</td>\n",
       "      <td>1.455000e+06</td>\n",
       "    </tr>\n",
       "  </tbody>\n",
       "</table>\n",
       "</div>"
      ],
      "text/plain": [
       "       Number of occupants   House age  Number of floor  Total floor area  \\\n",
       "count           153.000000  150.000000       153.000000        146.000000   \n",
       "mean              4.019608   11.800000         3.032680        127.945205   \n",
       "std               1.519481    7.969741         1.378492         71.166806   \n",
       "min               1.000000    5.000000         1.000000         30.000000   \n",
       "25%               3.000000    5.000000         2.000000         70.000000   \n",
       "50%               4.000000   10.000000         3.000000        110.000000   \n",
       "75%               5.000000   15.000000         4.000000        180.000000   \n",
       "max               7.000000   35.000000         5.000000        240.000000   \n",
       "\n",
       "       summer daylight  summer thermal comfort  summer natural ventilation  \\\n",
       "count        153.00000              153.000000                  153.000000   \n",
       "mean           3.54902                2.941176                    3.261438   \n",
       "std            0.99301                1.040213                    0.991883   \n",
       "min            1.00000                1.000000                    1.000000   \n",
       "25%            3.00000                2.000000                    3.000000   \n",
       "50%            4.00000                3.000000                    3.000000   \n",
       "75%            4.00000                4.000000                    4.000000   \n",
       "max            5.00000                5.000000                    5.000000   \n",
       "\n",
       "       Winter daylight  Winter thermal comfort  Winter natural ventilation  \\\n",
       "count       153.000000              153.000000                  153.000000   \n",
       "mean          3.366013                3.254902                    3.346405   \n",
       "std           1.056008                0.970143                    0.948130   \n",
       "min           1.000000                1.000000                    1.000000   \n",
       "25%           3.000000                3.000000                    3.000000   \n",
       "50%           3.000000                3.000000                    3.000000   \n",
       "75%           4.000000                4.000000                    4.000000   \n",
       "max           5.000000                5.000000                    5.000000   \n",
       "\n",
       "       Gas consumption  maximum electricity consumption  \\\n",
       "count        97.000000                     1.510000e+02   \n",
       "mean     238659.793814                     9.328808e+05   \n",
       "std      168171.098798                     5.456780e+05   \n",
       "min      100000.000000                     1.000000e+05   \n",
       "25%      100000.000000                     4.400000e+05   \n",
       "50%      225000.000000                     9.300000e+05   \n",
       "75%      375000.000000                     1.330000e+06   \n",
       "max      675000.000000                     1.800000e+06   \n",
       "\n",
       "       minimum electricity consumption  number of airconditioning  \\\n",
       "count                     1.510000e+02                 153.000000   \n",
       "mean                      5.153311e+05                   2.000000   \n",
       "std                       3.749278e+05                   1.292692   \n",
       "min                       1.000000e+05                   0.000000   \n",
       "25%                       2.400000e+05                   1.000000   \n",
       "50%                       4.400000e+05                   2.000000   \n",
       "75%                       6.750000e+05                   3.000000   \n",
       "max                       1.800000e+06                   5.000000   \n",
       "\n",
       "       number of electricity water heater  total energy consumption  \\\n",
       "count                          153.000000              1.530000e+02   \n",
       "mean                             1.712418              1.071993e+06   \n",
       "std                              1.110199              6.248285e+05   \n",
       "min                              0.000000              0.000000e+00   \n",
       "25%                              1.000000              5.400000e+05   \n",
       "50%                              1.000000              9.300000e+05   \n",
       "75%                              2.000000              1.555000e+06   \n",
       "max                              5.000000              2.475000e+06   \n",
       "\n",
       "       energy per person  \n",
       "count       1.530000e+02  \n",
       "mean        2.774647e+05  \n",
       "std         1.626045e+05  \n",
       "min         0.000000e+00  \n",
       "25%         1.700000e+05  \n",
       "50%         2.583333e+05  \n",
       "75%         3.600000e+05  \n",
       "max         1.455000e+06  "
      ]
     },
     "execution_count": 5,
     "metadata": {},
     "output_type": "execute_result"
    }
   ],
   "source": [
    "data_df.describe()"
   ]
  },
  {
   "cell_type": "markdown",
   "id": "eced82b7-fab5-4b5c-8c3e-9a7041769b37",
   "metadata": {},
   "source": [
    "# Khám phá dữ liệu\n",
    "## Độ phổ biến của các loại nhà ở những vùng khí hậu khác nhau."
   ]
  },
  {
   "cell_type": "code",
   "execution_count": 4,
   "id": "c27f1a4d-7110-44e0-bda2-d28703e87df2",
   "metadata": {},
   "outputs": [
    {
     "data": {
      "application/vnd.plotly.v1+json": {
       "config": {
        "plotlyServerURL": "https://plot.ly"
       },
       "data": [
        {
         "alignmentgroup": "True",
         "bingroup": "x",
         "hovertemplate": "House typology=Attached row house<br>Climatic region=%{x}<br>count=%{y}<extra></extra>",
         "legendgroup": "Attached row house",
         "marker": {
          "color": "#636efa",
          "pattern": {
           "shape": ""
          }
         },
         "name": "Attached row house",
         "offsetgroup": "Attached row house",
         "orientation": "v",
         "showlegend": true,
         "type": "histogram",
         "visible": true,
         "x": [
          "North",
          "North",
          "North",
          "North",
          "North",
          "North",
          "North",
          "North",
          "North",
          "North",
          "North",
          "North",
          "North",
          "North",
          "North",
          "North",
          "North",
          "Center",
          "North",
          "North",
          "North",
          "North",
          "North",
          "North",
          "North",
          "Center",
          "North",
          "North",
          "North",
          "North",
          "North",
          "North",
          "North",
          "North",
          "South",
          "North",
          "North",
          "North",
          "North",
          "North",
          "North",
          "North",
          "North",
          "North",
          "South",
          "North",
          "North",
          "North",
          "Center",
          "North",
          "North",
          "North",
          "North",
          "North",
          "North",
          "South",
          "North",
          "North",
          "North",
          "North",
          "North",
          "North",
          "North",
          "North",
          "North",
          "North",
          "North",
          "North",
          "North",
          "Center",
          "North",
          "Center",
          "North",
          "North",
          "North",
          "North",
          "North",
          "North",
          "North",
          "North",
          "Center",
          "North",
          "Center",
          "North",
          "North",
          "North",
          "North",
          "Center",
          "North",
          "North",
          "North",
          "North",
          "North",
          "North",
          "North"
         ],
         "xaxis": "x",
         "yaxis": "y"
        },
        {
         "alignmentgroup": "True",
         "bingroup": "x",
         "hovertemplate": "House typology=Detached house<br>Climatic region=%{x}<br>count=%{y}<extra></extra>",
         "legendgroup": "Detached house",
         "marker": {
          "color": "#EF553B",
          "pattern": {
           "shape": ""
          }
         },
         "name": "Detached house",
         "offsetgroup": "Detached house",
         "orientation": "v",
         "showlegend": true,
         "type": "histogram",
         "x": [
          "Center",
          "North",
          "North",
          "Center",
          "North",
          "North",
          "North",
          "North",
          "South",
          "North",
          "South",
          "Center",
          "North"
         ],
         "xaxis": "x",
         "yaxis": "y"
        },
        {
         "alignmentgroup": "True",
         "bingroup": "x",
         "hovertemplate": "House typology=Apartment<br>Climatic region=%{x}<br>count=%{y}<extra></extra>",
         "legendgroup": "Apartment",
         "marker": {
          "color": "#00cc96",
          "pattern": {
           "shape": ""
          }
         },
         "name": "Apartment",
         "offsetgroup": "Apartment",
         "orientation": "v",
         "showlegend": true,
         "type": "histogram",
         "x": [
          "South",
          "North",
          "North",
          "North",
          "North",
          "North",
          "North",
          "North",
          "North",
          "North",
          "North",
          "North",
          "North",
          "Center",
          "North",
          "North",
          "South",
          "North",
          "North",
          "North",
          "North",
          "North",
          "North",
          "North",
          "North",
          "North",
          "South",
          "North",
          "South",
          "North",
          "North",
          "North",
          "North",
          "North",
          "North",
          "North",
          "North",
          "North",
          "Center",
          "North",
          "North",
          "South",
          "South"
         ],
         "xaxis": "x",
         "yaxis": "y"
        },
        {
         "alignmentgroup": "True",
         "bingroup": "x",
         "hovertemplate": "House typology=semi- detached house<br>Climatic region=%{x}<br>count=%{y}<extra></extra>",
         "legendgroup": "semi- detached house",
         "marker": {
          "color": "#ab63fa",
          "pattern": {
           "shape": ""
          }
         },
         "name": "semi- detached house",
         "offsetgroup": "semi- detached house",
         "orientation": "v",
         "showlegend": true,
         "type": "histogram",
         "visible": true,
         "x": [
          "South",
          "South"
         ],
         "xaxis": "x",
         "yaxis": "y"
        }
       ],
       "layout": {
        "autosize": true,
        "barmode": "group",
        "legend": {
         "title": {
          "text": "House typology"
         },
         "tracegroupgap": 0
        },
        "margin": {
         "t": 60
        },
        "template": {
         "data": {
          "bar": [
           {
            "error_x": {
             "color": "#2a3f5f"
            },
            "error_y": {
             "color": "#2a3f5f"
            },
            "marker": {
             "line": {
              "color": "#E5ECF6",
              "width": 0.5
             },
             "pattern": {
              "fillmode": "overlay",
              "size": 10,
              "solidity": 0.2
             }
            },
            "type": "bar"
           }
          ],
          "barpolar": [
           {
            "marker": {
             "line": {
              "color": "#E5ECF6",
              "width": 0.5
             },
             "pattern": {
              "fillmode": "overlay",
              "size": 10,
              "solidity": 0.2
             }
            },
            "type": "barpolar"
           }
          ],
          "carpet": [
           {
            "aaxis": {
             "endlinecolor": "#2a3f5f",
             "gridcolor": "white",
             "linecolor": "white",
             "minorgridcolor": "white",
             "startlinecolor": "#2a3f5f"
            },
            "baxis": {
             "endlinecolor": "#2a3f5f",
             "gridcolor": "white",
             "linecolor": "white",
             "minorgridcolor": "white",
             "startlinecolor": "#2a3f5f"
            },
            "type": "carpet"
           }
          ],
          "choropleth": [
           {
            "colorbar": {
             "outlinewidth": 0,
             "ticks": ""
            },
            "type": "choropleth"
           }
          ],
          "contour": [
           {
            "colorbar": {
             "outlinewidth": 0,
             "ticks": ""
            },
            "colorscale": [
             [
              0,
              "#0d0887"
             ],
             [
              0.1111111111111111,
              "#46039f"
             ],
             [
              0.2222222222222222,
              "#7201a8"
             ],
             [
              0.3333333333333333,
              "#9c179e"
             ],
             [
              0.4444444444444444,
              "#bd3786"
             ],
             [
              0.5555555555555556,
              "#d8576b"
             ],
             [
              0.6666666666666666,
              "#ed7953"
             ],
             [
              0.7777777777777778,
              "#fb9f3a"
             ],
             [
              0.8888888888888888,
              "#fdca26"
             ],
             [
              1,
              "#f0f921"
             ]
            ],
            "type": "contour"
           }
          ],
          "contourcarpet": [
           {
            "colorbar": {
             "outlinewidth": 0,
             "ticks": ""
            },
            "type": "contourcarpet"
           }
          ],
          "heatmap": [
           {
            "colorbar": {
             "outlinewidth": 0,
             "ticks": ""
            },
            "colorscale": [
             [
              0,
              "#0d0887"
             ],
             [
              0.1111111111111111,
              "#46039f"
             ],
             [
              0.2222222222222222,
              "#7201a8"
             ],
             [
              0.3333333333333333,
              "#9c179e"
             ],
             [
              0.4444444444444444,
              "#bd3786"
             ],
             [
              0.5555555555555556,
              "#d8576b"
             ],
             [
              0.6666666666666666,
              "#ed7953"
             ],
             [
              0.7777777777777778,
              "#fb9f3a"
             ],
             [
              0.8888888888888888,
              "#fdca26"
             ],
             [
              1,
              "#f0f921"
             ]
            ],
            "type": "heatmap"
           }
          ],
          "heatmapgl": [
           {
            "colorbar": {
             "outlinewidth": 0,
             "ticks": ""
            },
            "colorscale": [
             [
              0,
              "#0d0887"
             ],
             [
              0.1111111111111111,
              "#46039f"
             ],
             [
              0.2222222222222222,
              "#7201a8"
             ],
             [
              0.3333333333333333,
              "#9c179e"
             ],
             [
              0.4444444444444444,
              "#bd3786"
             ],
             [
              0.5555555555555556,
              "#d8576b"
             ],
             [
              0.6666666666666666,
              "#ed7953"
             ],
             [
              0.7777777777777778,
              "#fb9f3a"
             ],
             [
              0.8888888888888888,
              "#fdca26"
             ],
             [
              1,
              "#f0f921"
             ]
            ],
            "type": "heatmapgl"
           }
          ],
          "histogram": [
           {
            "marker": {
             "pattern": {
              "fillmode": "overlay",
              "size": 10,
              "solidity": 0.2
             }
            },
            "type": "histogram"
           }
          ],
          "histogram2d": [
           {
            "colorbar": {
             "outlinewidth": 0,
             "ticks": ""
            },
            "colorscale": [
             [
              0,
              "#0d0887"
             ],
             [
              0.1111111111111111,
              "#46039f"
             ],
             [
              0.2222222222222222,
              "#7201a8"
             ],
             [
              0.3333333333333333,
              "#9c179e"
             ],
             [
              0.4444444444444444,
              "#bd3786"
             ],
             [
              0.5555555555555556,
              "#d8576b"
             ],
             [
              0.6666666666666666,
              "#ed7953"
             ],
             [
              0.7777777777777778,
              "#fb9f3a"
             ],
             [
              0.8888888888888888,
              "#fdca26"
             ],
             [
              1,
              "#f0f921"
             ]
            ],
            "type": "histogram2d"
           }
          ],
          "histogram2dcontour": [
           {
            "colorbar": {
             "outlinewidth": 0,
             "ticks": ""
            },
            "colorscale": [
             [
              0,
              "#0d0887"
             ],
             [
              0.1111111111111111,
              "#46039f"
             ],
             [
              0.2222222222222222,
              "#7201a8"
             ],
             [
              0.3333333333333333,
              "#9c179e"
             ],
             [
              0.4444444444444444,
              "#bd3786"
             ],
             [
              0.5555555555555556,
              "#d8576b"
             ],
             [
              0.6666666666666666,
              "#ed7953"
             ],
             [
              0.7777777777777778,
              "#fb9f3a"
             ],
             [
              0.8888888888888888,
              "#fdca26"
             ],
             [
              1,
              "#f0f921"
             ]
            ],
            "type": "histogram2dcontour"
           }
          ],
          "mesh3d": [
           {
            "colorbar": {
             "outlinewidth": 0,
             "ticks": ""
            },
            "type": "mesh3d"
           }
          ],
          "parcoords": [
           {
            "line": {
             "colorbar": {
              "outlinewidth": 0,
              "ticks": ""
             }
            },
            "type": "parcoords"
           }
          ],
          "pie": [
           {
            "automargin": true,
            "type": "pie"
           }
          ],
          "scatter": [
           {
            "marker": {
             "colorbar": {
              "outlinewidth": 0,
              "ticks": ""
             }
            },
            "type": "scatter"
           }
          ],
          "scatter3d": [
           {
            "line": {
             "colorbar": {
              "outlinewidth": 0,
              "ticks": ""
             }
            },
            "marker": {
             "colorbar": {
              "outlinewidth": 0,
              "ticks": ""
             }
            },
            "type": "scatter3d"
           }
          ],
          "scattercarpet": [
           {
            "marker": {
             "colorbar": {
              "outlinewidth": 0,
              "ticks": ""
             }
            },
            "type": "scattercarpet"
           }
          ],
          "scattergeo": [
           {
            "marker": {
             "colorbar": {
              "outlinewidth": 0,
              "ticks": ""
             }
            },
            "type": "scattergeo"
           }
          ],
          "scattergl": [
           {
            "marker": {
             "colorbar": {
              "outlinewidth": 0,
              "ticks": ""
             }
            },
            "type": "scattergl"
           }
          ],
          "scattermapbox": [
           {
            "marker": {
             "colorbar": {
              "outlinewidth": 0,
              "ticks": ""
             }
            },
            "type": "scattermapbox"
           }
          ],
          "scatterpolar": [
           {
            "marker": {
             "colorbar": {
              "outlinewidth": 0,
              "ticks": ""
             }
            },
            "type": "scatterpolar"
           }
          ],
          "scatterpolargl": [
           {
            "marker": {
             "colorbar": {
              "outlinewidth": 0,
              "ticks": ""
             }
            },
            "type": "scatterpolargl"
           }
          ],
          "scatterternary": [
           {
            "marker": {
             "colorbar": {
              "outlinewidth": 0,
              "ticks": ""
             }
            },
            "type": "scatterternary"
           }
          ],
          "surface": [
           {
            "colorbar": {
             "outlinewidth": 0,
             "ticks": ""
            },
            "colorscale": [
             [
              0,
              "#0d0887"
             ],
             [
              0.1111111111111111,
              "#46039f"
             ],
             [
              0.2222222222222222,
              "#7201a8"
             ],
             [
              0.3333333333333333,
              "#9c179e"
             ],
             [
              0.4444444444444444,
              "#bd3786"
             ],
             [
              0.5555555555555556,
              "#d8576b"
             ],
             [
              0.6666666666666666,
              "#ed7953"
             ],
             [
              0.7777777777777778,
              "#fb9f3a"
             ],
             [
              0.8888888888888888,
              "#fdca26"
             ],
             [
              1,
              "#f0f921"
             ]
            ],
            "type": "surface"
           }
          ],
          "table": [
           {
            "cells": {
             "fill": {
              "color": "#EBF0F8"
             },
             "line": {
              "color": "white"
             }
            },
            "header": {
             "fill": {
              "color": "#C8D4E3"
             },
             "line": {
              "color": "white"
             }
            },
            "type": "table"
           }
          ]
         },
         "layout": {
          "annotationdefaults": {
           "arrowcolor": "#2a3f5f",
           "arrowhead": 0,
           "arrowwidth": 1
          },
          "autotypenumbers": "strict",
          "coloraxis": {
           "colorbar": {
            "outlinewidth": 0,
            "ticks": ""
           }
          },
          "colorscale": {
           "diverging": [
            [
             0,
             "#8e0152"
            ],
            [
             0.1,
             "#c51b7d"
            ],
            [
             0.2,
             "#de77ae"
            ],
            [
             0.3,
             "#f1b6da"
            ],
            [
             0.4,
             "#fde0ef"
            ],
            [
             0.5,
             "#f7f7f7"
            ],
            [
             0.6,
             "#e6f5d0"
            ],
            [
             0.7,
             "#b8e186"
            ],
            [
             0.8,
             "#7fbc41"
            ],
            [
             0.9,
             "#4d9221"
            ],
            [
             1,
             "#276419"
            ]
           ],
           "sequential": [
            [
             0,
             "#0d0887"
            ],
            [
             0.1111111111111111,
             "#46039f"
            ],
            [
             0.2222222222222222,
             "#7201a8"
            ],
            [
             0.3333333333333333,
             "#9c179e"
            ],
            [
             0.4444444444444444,
             "#bd3786"
            ],
            [
             0.5555555555555556,
             "#d8576b"
            ],
            [
             0.6666666666666666,
             "#ed7953"
            ],
            [
             0.7777777777777778,
             "#fb9f3a"
            ],
            [
             0.8888888888888888,
             "#fdca26"
            ],
            [
             1,
             "#f0f921"
            ]
           ],
           "sequentialminus": [
            [
             0,
             "#0d0887"
            ],
            [
             0.1111111111111111,
             "#46039f"
            ],
            [
             0.2222222222222222,
             "#7201a8"
            ],
            [
             0.3333333333333333,
             "#9c179e"
            ],
            [
             0.4444444444444444,
             "#bd3786"
            ],
            [
             0.5555555555555556,
             "#d8576b"
            ],
            [
             0.6666666666666666,
             "#ed7953"
            ],
            [
             0.7777777777777778,
             "#fb9f3a"
            ],
            [
             0.8888888888888888,
             "#fdca26"
            ],
            [
             1,
             "#f0f921"
            ]
           ]
          },
          "colorway": [
           "#636efa",
           "#EF553B",
           "#00cc96",
           "#ab63fa",
           "#FFA15A",
           "#19d3f3",
           "#FF6692",
           "#B6E880",
           "#FF97FF",
           "#FECB52"
          ],
          "font": {
           "color": "#2a3f5f"
          },
          "geo": {
           "bgcolor": "white",
           "lakecolor": "white",
           "landcolor": "#E5ECF6",
           "showlakes": true,
           "showland": true,
           "subunitcolor": "white"
          },
          "hoverlabel": {
           "align": "left"
          },
          "hovermode": "closest",
          "mapbox": {
           "style": "light"
          },
          "paper_bgcolor": "white",
          "plot_bgcolor": "#E5ECF6",
          "polar": {
           "angularaxis": {
            "gridcolor": "white",
            "linecolor": "white",
            "ticks": ""
           },
           "bgcolor": "#E5ECF6",
           "radialaxis": {
            "gridcolor": "white",
            "linecolor": "white",
            "ticks": ""
           }
          },
          "scene": {
           "xaxis": {
            "backgroundcolor": "#E5ECF6",
            "gridcolor": "white",
            "gridwidth": 2,
            "linecolor": "white",
            "showbackground": true,
            "ticks": "",
            "zerolinecolor": "white"
           },
           "yaxis": {
            "backgroundcolor": "#E5ECF6",
            "gridcolor": "white",
            "gridwidth": 2,
            "linecolor": "white",
            "showbackground": true,
            "ticks": "",
            "zerolinecolor": "white"
           },
           "zaxis": {
            "backgroundcolor": "#E5ECF6",
            "gridcolor": "white",
            "gridwidth": 2,
            "linecolor": "white",
            "showbackground": true,
            "ticks": "",
            "zerolinecolor": "white"
           }
          },
          "shapedefaults": {
           "line": {
            "color": "#2a3f5f"
           }
          },
          "ternary": {
           "aaxis": {
            "gridcolor": "white",
            "linecolor": "white",
            "ticks": ""
           },
           "baxis": {
            "gridcolor": "white",
            "linecolor": "white",
            "ticks": ""
           },
           "bgcolor": "#E5ECF6",
           "caxis": {
            "gridcolor": "white",
            "linecolor": "white",
            "ticks": ""
           }
          },
          "title": {
           "x": 0.05
          },
          "xaxis": {
           "automargin": true,
           "gridcolor": "white",
           "linecolor": "white",
           "ticks": "",
           "title": {
            "standoff": 15
           },
           "zerolinecolor": "white",
           "zerolinewidth": 2
          },
          "yaxis": {
           "automargin": true,
           "gridcolor": "white",
           "linecolor": "white",
           "ticks": "",
           "title": {
            "standoff": 15
           },
           "zerolinecolor": "white",
           "zerolinewidth": 2
          }
         }
        },
        "xaxis": {
         "anchor": "y",
         "autorange": true,
         "domain": [
          0,
          1
         ],
         "range": [
          -0.5,
          2.5
         ],
         "showspikes": false,
         "title": {
          "text": "Climatic region"
         },
         "type": "category"
        },
        "yaxis": {
         "anchor": "x",
         "autorange": true,
         "domain": [
          0,
          1
         ],
         "range": [
          0,
          88.42105263157895
         ],
         "showspikes": false,
         "title": {
          "text": "count"
         }
        }
       }
      },
      "image/png": "[encoded data removed]",
      "text/html": [
       "<div>                            <div id=\"1e574929-a232-4bcc-bd99-f8513afb3466\" class=\"plotly-graph-div\" style=\"height:525px; width:100%;\"></div>            <script type=\"text/javascript\">                require([\"plotly\"], function(Plotly) {                    window.PLOTLYENV=window.PLOTLYENV || {};                                    if (document.getElementById(\"1e574929-a232-4bcc-bd99-f8513afb3466\")) {                    Plotly.newPlot(                        \"1e574929-a232-4bcc-bd99-f8513afb3466\",                        [{\"alignmentgroup\":\"True\",\"bingroup\":\"x\",\"hovertemplate\":\"House typology=Attached row house<br>Climatic region=%{x}<br>count=%{y}<extra></extra>\",\"legendgroup\":\"Attached row house\",\"marker\":{\"color\":\"#636efa\",\"pattern\":{\"shape\":\"\"}},\"name\":\"Attached row house\",\"offsetgroup\":\"Attached row house\",\"orientation\":\"v\",\"showlegend\":true,\"type\":\"histogram\",\"x\":[\"North\",\"North\",\"North\",\"North\",\"North\",\"North\",\"North\",\"North\",\"North\",\"North\",\"North\",\"North\",\"North\",\"North\",\"North\",\"North\",\"North\",\"Center\",\"North\",\"North\",\"North\",\"North\",\"North\",\"North\",\"North\",\"Center\",\"North\",\"North\",\"North\",\"North\",\"North\",\"North\",\"North\",\"North\",\"South\",\"North\",\"North\",\"North\",\"North\",\"North\",\"North\",\"North\",\"North\",\"North\",\"South\",\"North\",\"North\",\"North\",\"Center\",\"North\",\"North\",\"North\",\"North\",\"North\",\"North\",\"South\",\"North\",\"North\",\"North\",\"North\",\"North\",\"North\",\"North\",\"North\",\"North\",\"North\",\"North\",\"North\",\"North\",\"Center\",\"North\",\"Center\",\"North\",\"North\",\"North\",\"North\",\"North\",\"North\",\"North\",\"North\",\"Center\",\"North\",\"Center\",\"North\",\"North\",\"North\",\"North\",\"Center\",\"North\",\"North\",\"North\",\"North\",\"North\",\"North\",\"North\"],\"xaxis\":\"x\",\"yaxis\":\"y\"},{\"alignmentgroup\":\"True\",\"bingroup\":\"x\",\"hovertemplate\":\"House typology=Detached house<br>Climatic region=%{x}<br>count=%{y}<extra></extra>\",\"legendgroup\":\"Detached house\",\"marker\":{\"color\":\"#EF553B\",\"pattern\":{\"shape\":\"\"}},\"name\":\"Detached house\",\"offsetgroup\":\"Detached house\",\"orientation\":\"v\",\"showlegend\":true,\"type\":\"histogram\",\"x\":[\"Center\",\"North\",\"North\",\"Center\",\"North\",\"North\",\"North\",\"North\",\"South\",\"North\",\"South\",\"Center\",\"North\"],\"xaxis\":\"x\",\"yaxis\":\"y\"},{\"alignmentgroup\":\"True\",\"bingroup\":\"x\",\"hovertemplate\":\"House typology=Apartment<br>Climatic region=%{x}<br>count=%{y}<extra></extra>\",\"legendgroup\":\"Apartment\",\"marker\":{\"color\":\"#00cc96\",\"pattern\":{\"shape\":\"\"}},\"name\":\"Apartment\",\"offsetgroup\":\"Apartment\",\"orientation\":\"v\",\"showlegend\":true,\"type\":\"histogram\",\"x\":[\"South\",\"North\",\"North\",\"North\",\"North\",\"North\",\"North\",\"North\",\"North\",\"North\",\"North\",\"North\",\"North\",\"Center\",\"North\",\"North\",\"South\",\"North\",\"North\",\"North\",\"North\",\"North\",\"North\",\"North\",\"North\",\"North\",\"South\",\"North\",\"South\",\"North\",\"North\",\"North\",\"North\",\"North\",\"North\",\"North\",\"North\",\"North\",\"Center\",\"North\",\"North\",\"South\",\"South\"],\"xaxis\":\"x\",\"yaxis\":\"y\"},{\"alignmentgroup\":\"True\",\"bingroup\":\"x\",\"hovertemplate\":\"House typology=semi- detached house<br>Climatic region=%{x}<br>count=%{y}<extra></extra>\",\"legendgroup\":\"semi- detached house\",\"marker\":{\"color\":\"#ab63fa\",\"pattern\":{\"shape\":\"\"}},\"name\":\"semi- detached house\",\"offsetgroup\":\"semi- detached house\",\"orientation\":\"v\",\"showlegend\":true,\"type\":\"histogram\",\"x\":[\"South\",\"South\"],\"xaxis\":\"x\",\"yaxis\":\"y\"}],                        {\"barmode\":\"group\",\"legend\":{\"title\":{\"text\":\"House typology\"},\"tracegroupgap\":0},\"margin\":{\"t\":60},\"template\":{\"data\":{\"bar\":[{\"error_x\":{\"color\":\"#2a3f5f\"},\"error_y\":{\"color\":\"#2a3f5f\"},\"marker\":{\"line\":{\"color\":\"#E5ECF6\",\"width\":0.5},\"pattern\":{\"fillmode\":\"overlay\",\"size\":10,\"solidity\":0.2}},\"type\":\"bar\"}],\"barpolar\":[{\"marker\":{\"line\":{\"color\":\"#E5ECF6\",\"width\":0.5},\"pattern\":{\"fillmode\":\"overlay\",\"size\":10,\"solidity\":0.2}},\"type\":\"barpolar\"}],\"carpet\":[{\"aaxis\":{\"endlinecolor\":\"#2a3f5f\",\"gridcolor\":\"white\",\"linecolor\":\"white\",\"minorgridcolor\":\"white\",\"startlinecolor\":\"#2a3f5f\"},\"baxis\":{\"endlinecolor\":\"#2a3f5f\",\"gridcolor\":\"white\",\"linecolor\":\"white\",\"minorgridcolor\":\"white\",\"startlinecolor\":\"#2a3f5f\"},\"type\":\"carpet\"}],\"choropleth\":[{\"colorbar\":{\"outlinewidth\":0,\"ticks\":\"\"},\"type\":\"choropleth\"}],\"contour\":[{\"colorbar\":{\"outlinewidth\":0,\"ticks\":\"\"},\"colorscale\":[[0.0,\"#0d0887\"],[0.1111111111111111,\"#46039f\"],[0.2222222222222222,\"#7201a8\"],[0.3333333333333333,\"#9c179e\"],[0.4444444444444444,\"#bd3786\"],[0.5555555555555556,\"#d8576b\"],[0.6666666666666666,\"#ed7953\"],[0.7777777777777778,\"#fb9f3a\"],[0.8888888888888888,\"#fdca26\"],[1.0,\"#f0f921\"]],\"type\":\"contour\"}],\"contourcarpet\":[{\"colorbar\":{\"outlinewidth\":0,\"ticks\":\"\"},\"type\":\"contourcarpet\"}],\"heatmap\":[{\"colorbar\":{\"outlinewidth\":0,\"ticks\":\"\"},\"colorscale\":[[0.0,\"#0d0887\"],[0.1111111111111111,\"#46039f\"],[0.2222222222222222,\"#7201a8\"],[0.3333333333333333,\"#9c179e\"],[0.4444444444444444,\"#bd3786\"],[0.5555555555555556,\"#d8576b\"],[0.6666666666666666,\"#ed7953\"],[0.7777777777777778,\"#fb9f3a\"],[0.8888888888888888,\"#fdca26\"],[1.0,\"#f0f921\"]],\"type\":\"heatmap\"}],\"heatmapgl\":[{\"colorbar\":{\"outlinewidth\":0,\"ticks\":\"\"},\"colorscale\":[[0.0,\"#0d0887\"],[0.1111111111111111,\"#46039f\"],[0.2222222222222222,\"#7201a8\"],[0.3333333333333333,\"#9c179e\"],[0.4444444444444444,\"#bd3786\"],[0.5555555555555556,\"#d8576b\"],[0.6666666666666666,\"#ed7953\"],[0.7777777777777778,\"#fb9f3a\"],[0.8888888888888888,\"#fdca26\"],[1.0,\"#f0f921\"]],\"type\":\"heatmapgl\"}],\"histogram\":[{\"marker\":{\"pattern\":{\"fillmode\":\"overlay\",\"size\":10,\"solidity\":0.2}},\"type\":\"histogram\"}],\"histogram2d\":[{\"colorbar\":{\"outlinewidth\":0,\"ticks\":\"\"},\"colorscale\":[[0.0,\"#0d0887\"],[0.1111111111111111,\"#46039f\"],[0.2222222222222222,\"#7201a8\"],[0.3333333333333333,\"#9c179e\"],[0.4444444444444444,\"#bd3786\"],[0.5555555555555556,\"#d8576b\"],[0.6666666666666666,\"#ed7953\"],[0.7777777777777778,\"#fb9f3a\"],[0.8888888888888888,\"#fdca26\"],[1.0,\"#f0f921\"]],\"type\":\"histogram2d\"}],\"histogram2dcontour\":[{\"colorbar\":{\"outlinewidth\":0,\"ticks\":\"\"},\"colorscale\":[[0.0,\"#0d0887\"],[0.1111111111111111,\"#46039f\"],[0.2222222222222222,\"#7201a8\"],[0.3333333333333333,\"#9c179e\"],[0.4444444444444444,\"#bd3786\"],[0.5555555555555556,\"#d8576b\"],[0.6666666666666666,\"#ed7953\"],[0.7777777777777778,\"#fb9f3a\"],[0.8888888888888888,\"#fdca26\"],[1.0,\"#f0f921\"]],\"type\":\"histogram2dcontour\"}],\"mesh3d\":[{\"colorbar\":{\"outlinewidth\":0,\"ticks\":\"\"},\"type\":\"mesh3d\"}],\"parcoords\":[{\"line\":{\"colorbar\":{\"outlinewidth\":0,\"ticks\":\"\"}},\"type\":\"parcoords\"}],\"pie\":[{\"automargin\":true,\"type\":\"pie\"}],\"scatter\":[{\"marker\":{\"colorbar\":{\"outlinewidth\":0,\"ticks\":\"\"}},\"type\":\"scatter\"}],\"scatter3d\":[{\"line\":{\"colorbar\":{\"outlinewidth\":0,\"ticks\":\"\"}},\"marker\":{\"colorbar\":{\"outlinewidth\":0,\"ticks\":\"\"}},\"type\":\"scatter3d\"}],\"scattercarpet\":[{\"marker\":{\"colorbar\":{\"outlinewidth\":0,\"ticks\":\"\"}},\"type\":\"scattercarpet\"}],\"scattergeo\":[{\"marker\":{\"colorbar\":{\"outlinewidth\":0,\"ticks\":\"\"}},\"type\":\"scattergeo\"}],\"scattergl\":[{\"marker\":{\"colorbar\":{\"outlinewidth\":0,\"ticks\":\"\"}},\"type\":\"scattergl\"}],\"scattermapbox\":[{\"marker\":{\"colorbar\":{\"outlinewidth\":0,\"ticks\":\"\"}},\"type\":\"scattermapbox\"}],\"scatterpolar\":[{\"marker\":{\"colorbar\":{\"outlinewidth\":0,\"ticks\":\"\"}},\"type\":\"scatterpolar\"}],\"scatterpolargl\":[{\"marker\":{\"colorbar\":{\"outlinewidth\":0,\"ticks\":\"\"}},\"type\":\"scatterpolargl\"}],\"scatterternary\":[{\"marker\":{\"colorbar\":{\"outlinewidth\":0,\"ticks\":\"\"}},\"type\":\"scatterternary\"}],\"surface\":[{\"colorbar\":{\"outlinewidth\":0,\"ticks\":\"\"},\"colorscale\":[[0.0,\"#0d0887\"],[0.1111111111111111,\"#46039f\"],[0.2222222222222222,\"#7201a8\"],[0.3333333333333333,\"#9c179e\"],[0.4444444444444444,\"#bd3786\"],[0.5555555555555556,\"#d8576b\"],[0.6666666666666666,\"#ed7953\"],[0.7777777777777778,\"#fb9f3a\"],[0.8888888888888888,\"#fdca26\"],[1.0,\"#f0f921\"]],\"type\":\"surface\"}],\"table\":[{\"cells\":{\"fill\":{\"color\":\"#EBF0F8\"},\"line\":{\"color\":\"white\"}},\"header\":{\"fill\":{\"color\":\"#C8D4E3\"},\"line\":{\"color\":\"white\"}},\"type\":\"table\"}]},\"layout\":{\"annotationdefaults\":{\"arrowcolor\":\"#2a3f5f\",\"arrowhead\":0,\"arrowwidth\":1},\"autotypenumbers\":\"strict\",\"coloraxis\":{\"colorbar\":{\"outlinewidth\":0,\"ticks\":\"\"}},\"colorscale\":{\"diverging\":[[0,\"#8e0152\"],[0.1,\"#c51b7d\"],[0.2,\"#de77ae\"],[0.3,\"#f1b6da\"],[0.4,\"#fde0ef\"],[0.5,\"#f7f7f7\"],[0.6,\"#e6f5d0\"],[0.7,\"#b8e186\"],[0.8,\"#7fbc41\"],[0.9,\"#4d9221\"],[1,\"#276419\"]],\"sequential\":[[0.0,\"#0d0887\"],[0.1111111111111111,\"#46039f\"],[0.2222222222222222,\"#7201a8\"],[0.3333333333333333,\"#9c179e\"],[0.4444444444444444,\"#bd3786\"],[0.5555555555555556,\"#d8576b\"],[0.6666666666666666,\"#ed7953\"],[0.7777777777777778,\"#fb9f3a\"],[0.8888888888888888,\"#fdca26\"],[1.0,\"#f0f921\"]],\"sequentialminus\":[[0.0,\"#0d0887\"],[0.1111111111111111,\"#46039f\"],[0.2222222222222222,\"#7201a8\"],[0.3333333333333333,\"#9c179e\"],[0.4444444444444444,\"#bd3786\"],[0.5555555555555556,\"#d8576b\"],[0.6666666666666666,\"#ed7953\"],[0.7777777777777778,\"#fb9f3a\"],[0.8888888888888888,\"#fdca26\"],[1.0,\"#f0f921\"]]},\"colorway\":[\"#636efa\",\"#EF553B\",\"#00cc96\",\"#ab63fa\",\"#FFA15A\",\"#19d3f3\",\"#FF6692\",\"#B6E880\",\"#FF97FF\",\"#FECB52\"],\"font\":{\"color\":\"#2a3f5f\"},\"geo\":{\"bgcolor\":\"white\",\"lakecolor\":\"white\",\"landcolor\":\"#E5ECF6\",\"showlakes\":true,\"showland\":true,\"subunitcolor\":\"white\"},\"hoverlabel\":{\"align\":\"left\"},\"hovermode\":\"closest\",\"mapbox\":{\"style\":\"light\"},\"paper_bgcolor\":\"white\",\"plot_bgcolor\":\"#E5ECF6\",\"polar\":{\"angularaxis\":{\"gridcolor\":\"white\",\"linecolor\":\"white\",\"ticks\":\"\"},\"bgcolor\":\"#E5ECF6\",\"radialaxis\":{\"gridcolor\":\"white\",\"linecolor\":\"white\",\"ticks\":\"\"}},\"scene\":{\"xaxis\":{\"backgroundcolor\":\"#E5ECF6\",\"gridcolor\":\"white\",\"gridwidth\":2,\"linecolor\":\"white\",\"showbackground\":true,\"ticks\":\"\",\"zerolinecolor\":\"white\"},\"yaxis\":{\"backgroundcolor\":\"#E5ECF6\",\"gridcolor\":\"white\",\"gridwidth\":2,\"linecolor\":\"white\",\"showbackground\":true,\"ticks\":\"\",\"zerolinecolor\":\"white\"},\"zaxis\":{\"backgroundcolor\":\"#E5ECF6\",\"gridcolor\":\"white\",\"gridwidth\":2,\"linecolor\":\"white\",\"showbackground\":true,\"ticks\":\"\",\"zerolinecolor\":\"white\"}},\"shapedefaults\":{\"line\":{\"color\":\"#2a3f5f\"}},\"ternary\":{\"aaxis\":{\"gridcolor\":\"white\",\"linecolor\":\"white\",\"ticks\":\"\"},\"baxis\":{\"gridcolor\":\"white\",\"linecolor\":\"white\",\"ticks\":\"\"},\"bgcolor\":\"#E5ECF6\",\"caxis\":{\"gridcolor\":\"white\",\"linecolor\":\"white\",\"ticks\":\"\"}},\"title\":{\"x\":0.05},\"xaxis\":{\"automargin\":true,\"gridcolor\":\"white\",\"linecolor\":\"white\",\"ticks\":\"\",\"title\":{\"standoff\":15},\"zerolinecolor\":\"white\",\"zerolinewidth\":2},\"yaxis\":{\"automargin\":true,\"gridcolor\":\"white\",\"linecolor\":\"white\",\"ticks\":\"\",\"title\":{\"standoff\":15},\"zerolinecolor\":\"white\",\"zerolinewidth\":2}}},\"xaxis\":{\"anchor\":\"y\",\"domain\":[0.0,1.0],\"title\":{\"text\":\"Climatic region\"}},\"yaxis\":{\"anchor\":\"x\",\"domain\":[0.0,1.0],\"title\":{\"text\":\"count\"}}},                        {\"responsive\": true}                    ).then(function(){\n",
       "                            \n",
       "var gd = document.getElementById('1e574929-a232-4bcc-bd99-f8513afb3466');\n",
       "var x = new MutationObserver(function (mutations, observer) {{\n",
       "        var display = window.getComputedStyle(gd).display;\n",
       "        if (!display || display === 'none') {{\n",
       "            console.log([gd, 'removed!']);\n",
       "            Plotly.purge(gd);\n",
       "            observer.disconnect();\n",
       "        }}\n",
       "}});\n",
       "\n",
       "// Listen for the removal of the full notebook cells\n",
       "var notebookContainer = gd.closest('#notebook-container');\n",
       "if (notebookContainer) {{\n",
       "    x.observe(notebookContainer, {childList: true});\n",
       "}}\n",
       "\n",
       "// Listen for the clearing of the current output cell\n",
       "var outputEl = gd.closest('.output');\n",
       "if (outputEl) {{\n",
       "    x.observe(outputEl, {childList: true});\n",
       "}}\n",
       "\n",
       "                        })                };                });            </script>        </div>"
      ]
     },
     "metadata": {},
     "output_type": "display_data"
    }
   ],
   "source": [
    "# fig, ax = plt.subplots(figsize=(12, 8))\n",
    "# sns.countplot(data=data_df, x='Climatic region', hue='House typology', ax=ax)\n",
    "fig = px.histogram(data_df, 'Climatic region', color='House typology', barmode='group')\n",
    "fig.show()"
   ]
  },
  {
   "cell_type": "markdown",
   "id": "8cb5adfb-8140-4795-a859-ff50ecb9d0c1",
   "metadata": {},
   "source": [
    "**Nhận xét:**\n",
    "- Đa số những người tham gia khảo sát ở vùng khí hậu miền Bắc, với tổng cộng 127/153 khảo sát. 2 khu vực còn lại không có quá 10 khảo sát ở mỗi loại nhà.\n",
    "- Đa số những người thực hiện khảo sát ở khu vực khí hậu miền Bắc và miền Trung ở trong nhà mặt đất liền kề.\n",
    "- Căn hộ chung cư là loại nhà ở phổ biến thứ 2 ở miền Bắc nhưng lại ít phổ biến nhất ở miền Trung.\n",
    "- Kiểu nhà ở song lập chỉ xuất hiện tại vùng khí hậu miền Nam trong khảo sát này.\n",
    "- Nhà ở liền kề không phổ biến bằng nhà chung cư đối với những người khảo sáy trong vùng khí hậu phía Nam.\n",
    "\n",
    "## Phân bố độ tuổi của ngôi nhà và số người trong nhà"
   ]
  },
  {
   "cell_type": "code",
   "execution_count": 4,
   "id": "dddec1ef-764a-46cc-9224-46c676b1c316",
   "metadata": {},
   "outputs": [
    {
     "data": {
      "application/vnd.plotly.v1+json": {
       "config": {
        "plotlyServerURL": "https://plot.ly"
       },
       "data": [
        {
         "alignmentgroup": "True",
         "boxpoints": "all",
         "fillcolor": "rgba(255,255,255,0)",
         "hoveron": "points",
         "hovertemplate": "House typology=Attached row house<br>Number of occupants=%{x}<br>House age=%{y}<extra></extra>",
         "legendgroup": "Attached row house",
         "line": {
          "color": "rgba(255,255,255,0)"
         },
         "marker": {
          "color": "#636efa"
         },
         "name": "Attached row house",
         "offsetgroup": "Attached row house",
         "orientation": "v",
         "pointpos": 0,
         "showlegend": true,
         "type": "box",
         "visible": true,
         "x": [
          4,
          4,
          1,
          7,
          7,
          6,
          4,
          5,
          5,
          2,
          4,
          4,
          1,
          4,
          4,
          6,
          3,
          3,
          3,
          7,
          5,
          5,
          4,
          6,
          6,
          5,
          2,
          5,
          5,
          4,
          4,
          5,
          3,
          3,
          4,
          4,
          3,
          5,
          7,
          3,
          5,
          5,
          4,
          5,
          6,
          4,
          3,
          3,
          6,
          3,
          2,
          5,
          5,
          5,
          1,
          3,
          4,
          6,
          5,
          6,
          3,
          2,
          4,
          3,
          7,
          5,
          5,
          4,
          7,
          3,
          4,
          3,
          5,
          6,
          7,
          5,
          4,
          6,
          4,
          5,
          4,
          4,
          4,
          4,
          5,
          4,
          2,
          5,
          3,
          5,
          3,
          4,
          4,
          3,
          2
         ],
         "x0": " ",
         "xaxis": "x",
         "y": [
          5,
          5,
          5,
          5,
          15,
          15,
          15,
          5,
          5,
          null,
          15,
          5,
          null,
          5,
          5,
          5,
          15,
          5,
          25,
          5,
          5,
          15,
          15,
          5,
          35,
          5,
          15,
          5,
          5,
          15,
          15,
          5,
          25,
          15,
          15,
          15,
          5,
          5,
          15,
          15,
          5,
          5,
          15,
          25,
          5,
          15,
          35,
          15,
          25,
          25,
          5,
          15,
          5,
          5,
          15,
          5,
          5,
          15,
          5,
          25,
          5,
          5,
          5,
          5,
          5,
          25,
          15,
          15,
          5,
          15,
          5,
          15,
          25,
          15,
          15,
          15,
          5,
          5,
          5,
          5,
          5,
          5,
          15,
          15,
          5,
          15,
          15,
          15,
          25,
          5,
          25,
          25,
          15,
          5,
          5
         ],
         "y0": " ",
         "yaxis": "y"
        },
        {
         "alignmentgroup": "True",
         "boxpoints": "all",
         "fillcolor": "rgba(255,255,255,0)",
         "hoveron": "points",
         "hovertemplate": "House typology=Detached house<br>Number of occupants=%{x}<br>House age=%{y}<extra></extra>",
         "legendgroup": "Detached house",
         "line": {
          "color": "rgba(255,255,255,0)"
         },
         "marker": {
          "color": "#EF553B"
         },
         "name": "Detached house",
         "offsetgroup": "Detached house",
         "orientation": "v",
         "pointpos": 0,
         "showlegend": true,
         "type": "box",
         "visible": true,
         "x": [
          6,
          4,
          7,
          6,
          4,
          7,
          4,
          5,
          3,
          6,
          3,
          5,
          6
         ],
         "x0": " ",
         "xaxis": "x",
         "y": [
          5,
          15,
          5,
          5,
          5,
          15,
          5,
          5,
          15,
          25,
          25,
          25,
          15
         ],
         "y0": " ",
         "yaxis": "y"
        },
        {
         "alignmentgroup": "True",
         "boxpoints": "all",
         "fillcolor": "rgba(255,255,255,0)",
         "hoveron": "points",
         "hovertemplate": "House typology=Apartment<br>Number of occupants=%{x}<br>House age=%{y}<extra></extra>",
         "legendgroup": "Apartment",
         "line": {
          "color": "rgba(255,255,255,0)"
         },
         "marker": {
          "color": "#00cc96"
         },
         "name": "Apartment",
         "offsetgroup": "Apartment",
         "orientation": "v",
         "pointpos": 0,
         "showlegend": true,
         "type": "box",
         "visible": true,
         "x": [
          2,
          4,
          3,
          5,
          3,
          5,
          6,
          4,
          2,
          4,
          2,
          1,
          1,
          2,
          4,
          4,
          4,
          4,
          2,
          4,
          2,
          1,
          4,
          2,
          5,
          5,
          4,
          1,
          3,
          6,
          3,
          3,
          2,
          1,
          3,
          4,
          3,
          3,
          2,
          2,
          4,
          2,
          2
         ],
         "x0": " ",
         "xaxis": "x",
         "y": [
          5,
          25,
          25,
          5,
          5,
          5,
          5,
          5,
          15,
          5,
          5,
          5,
          15,
          15,
          15,
          5,
          15,
          5,
          15,
          5,
          5,
          35,
          5,
          5,
          15,
          15,
          5,
          15,
          15,
          5,
          5,
          25,
          35,
          5,
          15,
          25,
          25,
          null,
          15,
          5,
          15,
          5,
          5
         ],
         "y0": " ",
         "yaxis": "y"
        },
        {
         "alignmentgroup": "True",
         "boxpoints": "all",
         "fillcolor": "rgba(255,255,255,0)",
         "hoveron": "points",
         "hovertemplate": "House typology=semi- detached house<br>Number of occupants=%{x}<br>House age=%{y}<extra></extra>",
         "legendgroup": "semi- detached house",
         "line": {
          "color": "rgba(255,255,255,0)"
         },
         "marker": {
          "color": "#ab63fa"
         },
         "name": "semi- detached house",
         "offsetgroup": "semi- detached house",
         "orientation": "v",
         "pointpos": 0,
         "showlegend": true,
         "type": "box",
         "visible": true,
         "x": [
          6,
          4
         ],
         "x0": " ",
         "xaxis": "x",
         "y": [
          5,
          15
         ],
         "y0": " ",
         "yaxis": "y"
        }
       ],
       "layout": {
        "autosize": true,
        "boxmode": "group",
        "legend": {
         "title": {
          "text": "House typology"
         },
         "tracegroupgap": 0
        },
        "margin": {
         "t": 60
        },
        "template": {
         "data": {
          "bar": [
           {
            "error_x": {
             "color": "#2a3f5f"
            },
            "error_y": {
             "color": "#2a3f5f"
            },
            "marker": {
             "line": {
              "color": "#E5ECF6",
              "width": 0.5
             },
             "pattern": {
              "fillmode": "overlay",
              "size": 10,
              "solidity": 0.2
             }
            },
            "type": "bar"
           }
          ],
          "barpolar": [
           {
            "marker": {
             "line": {
              "color": "#E5ECF6",
              "width": 0.5
             },
             "pattern": {
              "fillmode": "overlay",
              "size": 10,
              "solidity": 0.2
             }
            },
            "type": "barpolar"
           }
          ],
          "carpet": [
           {
            "aaxis": {
             "endlinecolor": "#2a3f5f",
             "gridcolor": "white",
             "linecolor": "white",
             "minorgridcolor": "white",
             "startlinecolor": "#2a3f5f"
            },
            "baxis": {
             "endlinecolor": "#2a3f5f",
             "gridcolor": "white",
             "linecolor": "white",
             "minorgridcolor": "white",
             "startlinecolor": "#2a3f5f"
            },
            "type": "carpet"
           }
          ],
          "choropleth": [
           {
            "colorbar": {
             "outlinewidth": 0,
             "ticks": ""
            },
            "type": "choropleth"
           }
          ],
          "contour": [
           {
            "colorbar": {
             "outlinewidth": 0,
             "ticks": ""
            },
            "colorscale": [
             [
              0,
              "#0d0887"
             ],
             [
              0.1111111111111111,
              "#46039f"
             ],
             [
              0.2222222222222222,
              "#7201a8"
             ],
             [
              0.3333333333333333,
              "#9c179e"
             ],
             [
              0.4444444444444444,
              "#bd3786"
             ],
             [
              0.5555555555555556,
              "#d8576b"
             ],
             [
              0.6666666666666666,
              "#ed7953"
             ],
             [
              0.7777777777777778,
              "#fb9f3a"
             ],
             [
              0.8888888888888888,
              "#fdca26"
             ],
             [
              1,
              "#f0f921"
             ]
            ],
            "type": "contour"
           }
          ],
          "contourcarpet": [
           {
            "colorbar": {
             "outlinewidth": 0,
             "ticks": ""
            },
            "type": "contourcarpet"
           }
          ],
          "heatmap": [
           {
            "colorbar": {
             "outlinewidth": 0,
             "ticks": ""
            },
            "colorscale": [
             [
              0,
              "#0d0887"
             ],
             [
              0.1111111111111111,
              "#46039f"
             ],
             [
              0.2222222222222222,
              "#7201a8"
             ],
             [
              0.3333333333333333,
              "#9c179e"
             ],
             [
              0.4444444444444444,
              "#bd3786"
             ],
             [
              0.5555555555555556,
              "#d8576b"
             ],
             [
              0.6666666666666666,
              "#ed7953"
             ],
             [
              0.7777777777777778,
              "#fb9f3a"
             ],
             [
              0.8888888888888888,
              "#fdca26"
             ],
             [
              1,
              "#f0f921"
             ]
            ],
            "type": "heatmap"
           }
          ],
          "heatmapgl": [
           {
            "colorbar": {
             "outlinewidth": 0,
             "ticks": ""
            },
            "colorscale": [
             [
              0,
              "#0d0887"
             ],
             [
              0.1111111111111111,
              "#46039f"
             ],
             [
              0.2222222222222222,
              "#7201a8"
             ],
             [
              0.3333333333333333,
              "#9c179e"
             ],
             [
              0.4444444444444444,
              "#bd3786"
             ],
             [
              0.5555555555555556,
              "#d8576b"
             ],
             [
              0.6666666666666666,
              "#ed7953"
             ],
             [
              0.7777777777777778,
              "#fb9f3a"
             ],
             [
              0.8888888888888888,
              "#fdca26"
             ],
             [
              1,
              "#f0f921"
             ]
            ],
            "type": "heatmapgl"
           }
          ],
          "histogram": [
           {
            "marker": {
             "pattern": {
              "fillmode": "overlay",
              "size": 10,
              "solidity": 0.2
             }
            },
            "type": "histogram"
           }
          ],
          "histogram2d": [
           {
            "colorbar": {
             "outlinewidth": 0,
             "ticks": ""
            },
            "colorscale": [
             [
              0,
              "#0d0887"
             ],
             [
              0.1111111111111111,
              "#46039f"
             ],
             [
              0.2222222222222222,
              "#7201a8"
             ],
             [
              0.3333333333333333,
              "#9c179e"
             ],
             [
              0.4444444444444444,
              "#bd3786"
             ],
             [
              0.5555555555555556,
              "#d8576b"
             ],
             [
              0.6666666666666666,
              "#ed7953"
             ],
             [
              0.7777777777777778,
              "#fb9f3a"
             ],
             [
              0.8888888888888888,
              "#fdca26"
             ],
             [
              1,
              "#f0f921"
             ]
            ],
            "type": "histogram2d"
           }
          ],
          "histogram2dcontour": [
           {
            "colorbar": {
             "outlinewidth": 0,
             "ticks": ""
            },
            "colorscale": [
             [
              0,
              "#0d0887"
             ],
             [
              0.1111111111111111,
              "#46039f"
             ],
             [
              0.2222222222222222,
              "#7201a8"
             ],
             [
              0.3333333333333333,
              "#9c179e"
             ],
             [
              0.4444444444444444,
              "#bd3786"
             ],
             [
              0.5555555555555556,
              "#d8576b"
             ],
             [
              0.6666666666666666,
              "#ed7953"
             ],
             [
              0.7777777777777778,
              "#fb9f3a"
             ],
             [
              0.8888888888888888,
              "#fdca26"
             ],
             [
              1,
              "#f0f921"
             ]
            ],
            "type": "histogram2dcontour"
           }
          ],
          "mesh3d": [
           {
            "colorbar": {
             "outlinewidth": 0,
             "ticks": ""
            },
            "type": "mesh3d"
           }
          ],
          "parcoords": [
           {
            "line": {
             "colorbar": {
              "outlinewidth": 0,
              "ticks": ""
             }
            },
            "type": "parcoords"
           }
          ],
          "pie": [
           {
            "automargin": true,
            "type": "pie"
           }
          ],
          "scatter": [
           {
            "marker": {
             "colorbar": {
              "outlinewidth": 0,
              "ticks": ""
             }
            },
            "type": "scatter"
           }
          ],
          "scatter3d": [
           {
            "line": {
             "colorbar": {
              "outlinewidth": 0,
              "ticks": ""
             }
            },
            "marker": {
             "colorbar": {
              "outlinewidth": 0,
              "ticks": ""
             }
            },
            "type": "scatter3d"
           }
          ],
          "scattercarpet": [
           {
            "marker": {
             "colorbar": {
              "outlinewidth": 0,
              "ticks": ""
             }
            },
            "type": "scattercarpet"
           }
          ],
          "scattergeo": [
           {
            "marker": {
             "colorbar": {
              "outlinewidth": 0,
              "ticks": ""
             }
            },
            "type": "scattergeo"
           }
          ],
          "scattergl": [
           {
            "marker": {
             "colorbar": {
              "outlinewidth": 0,
              "ticks": ""
             }
            },
            "type": "scattergl"
           }
          ],
          "scattermapbox": [
           {
            "marker": {
             "colorbar": {
              "outlinewidth": 0,
              "ticks": ""
             }
            },
            "type": "scattermapbox"
           }
          ],
          "scatterpolar": [
           {
            "marker": {
             "colorbar": {
              "outlinewidth": 0,
              "ticks": ""
             }
            },
            "type": "scatterpolar"
           }
          ],
          "scatterpolargl": [
           {
            "marker": {
             "colorbar": {
              "outlinewidth": 0,
              "ticks": ""
             }
            },
            "type": "scatterpolargl"
           }
          ],
          "scatterternary": [
           {
            "marker": {
             "colorbar": {
              "outlinewidth": 0,
              "ticks": ""
             }
            },
            "type": "scatterternary"
           }
          ],
          "surface": [
           {
            "colorbar": {
             "outlinewidth": 0,
             "ticks": ""
            },
            "colorscale": [
             [
              0,
              "#0d0887"
             ],
             [
              0.1111111111111111,
              "#46039f"
             ],
             [
              0.2222222222222222,
              "#7201a8"
             ],
             [
              0.3333333333333333,
              "#9c179e"
             ],
             [
              0.4444444444444444,
              "#bd3786"
             ],
             [
              0.5555555555555556,
              "#d8576b"
             ],
             [
              0.6666666666666666,
              "#ed7953"
             ],
             [
              0.7777777777777778,
              "#fb9f3a"
             ],
             [
              0.8888888888888888,
              "#fdca26"
             ],
             [
              1,
              "#f0f921"
             ]
            ],
            "type": "surface"
           }
          ],
          "table": [
           {
            "cells": {
             "fill": {
              "color": "#EBF0F8"
             },
             "line": {
              "color": "white"
             }
            },
            "header": {
             "fill": {
              "color": "#C8D4E3"
             },
             "line": {
              "color": "white"
             }
            },
            "type": "table"
           }
          ]
         },
         "layout": {
          "annotationdefaults": {
           "arrowcolor": "#2a3f5f",
           "arrowhead": 0,
           "arrowwidth": 1
          },
          "autotypenumbers": "strict",
          "coloraxis": {
           "colorbar": {
            "outlinewidth": 0,
            "ticks": ""
           }
          },
          "colorscale": {
           "diverging": [
            [
             0,
             "#8e0152"
            ],
            [
             0.1,
             "#c51b7d"
            ],
            [
             0.2,
             "#de77ae"
            ],
            [
             0.3,
             "#f1b6da"
            ],
            [
             0.4,
             "#fde0ef"
            ],
            [
             0.5,
             "#f7f7f7"
            ],
            [
             0.6,
             "#e6f5d0"
            ],
            [
             0.7,
             "#b8e186"
            ],
            [
             0.8,
             "#7fbc41"
            ],
            [
             0.9,
             "#4d9221"
            ],
            [
             1,
             "#276419"
            ]
           ],
           "sequential": [
            [
             0,
             "#0d0887"
            ],
            [
             0.1111111111111111,
             "#46039f"
            ],
            [
             0.2222222222222222,
             "#7201a8"
            ],
            [
             0.3333333333333333,
             "#9c179e"
            ],
            [
             0.4444444444444444,
             "#bd3786"
            ],
            [
             0.5555555555555556,
             "#d8576b"
            ],
            [
             0.6666666666666666,
             "#ed7953"
            ],
            [
             0.7777777777777778,
             "#fb9f3a"
            ],
            [
             0.8888888888888888,
             "#fdca26"
            ],
            [
             1,
             "#f0f921"
            ]
           ],
           "sequentialminus": [
            [
             0,
             "#0d0887"
            ],
            [
             0.1111111111111111,
             "#46039f"
            ],
            [
             0.2222222222222222,
             "#7201a8"
            ],
            [
             0.3333333333333333,
             "#9c179e"
            ],
            [
             0.4444444444444444,
             "#bd3786"
            ],
            [
             0.5555555555555556,
             "#d8576b"
            ],
            [
             0.6666666666666666,
             "#ed7953"
            ],
            [
             0.7777777777777778,
             "#fb9f3a"
            ],
            [
             0.8888888888888888,
             "#fdca26"
            ],
            [
             1,
             "#f0f921"
            ]
           ]
          },
          "colorway": [
           "#636efa",
           "#EF553B",
           "#00cc96",
           "#ab63fa",
           "#FFA15A",
           "#19d3f3",
           "#FF6692",
           "#B6E880",
           "#FF97FF",
           "#FECB52"
          ],
          "font": {
           "color": "#2a3f5f"
          },
          "geo": {
           "bgcolor": "white",
           "lakecolor": "white",
           "landcolor": "#E5ECF6",
           "showlakes": true,
           "showland": true,
           "subunitcolor": "white"
          },
          "hoverlabel": {
           "align": "left"
          },
          "hovermode": "closest",
          "mapbox": {
           "style": "light"
          },
          "paper_bgcolor": "white",
          "plot_bgcolor": "#E5ECF6",
          "polar": {
           "angularaxis": {
            "gridcolor": "white",
            "linecolor": "white",
            "ticks": ""
           },
           "bgcolor": "#E5ECF6",
           "radialaxis": {
            "gridcolor": "white",
            "linecolor": "white",
            "ticks": ""
           }
          },
          "scene": {
           "xaxis": {
            "backgroundcolor": "#E5ECF6",
            "gridcolor": "white",
            "gridwidth": 2,
            "linecolor": "white",
            "showbackground": true,
            "ticks": "",
            "zerolinecolor": "white"
           },
           "yaxis": {
            "backgroundcolor": "#E5ECF6",
            "gridcolor": "white",
            "gridwidth": 2,
            "linecolor": "white",
            "showbackground": true,
            "ticks": "",
            "zerolinecolor": "white"
           },
           "zaxis": {
            "backgroundcolor": "#E5ECF6",
            "gridcolor": "white",
            "gridwidth": 2,
            "linecolor": "white",
            "showbackground": true,
            "ticks": "",
            "zerolinecolor": "white"
           }
          },
          "shapedefaults": {
           "line": {
            "color": "#2a3f5f"
           }
          },
          "ternary": {
           "aaxis": {
            "gridcolor": "white",
            "linecolor": "white",
            "ticks": ""
           },
           "baxis": {
            "gridcolor": "white",
            "linecolor": "white",
            "ticks": ""
           },
           "bgcolor": "#E5ECF6",
           "caxis": {
            "gridcolor": "white",
            "linecolor": "white",
            "ticks": ""
           }
          },
          "title": {
           "x": 0.05
          },
          "xaxis": {
           "automargin": true,
           "gridcolor": "white",
           "linecolor": "white",
           "ticks": "",
           "title": {
            "standoff": 15
           },
           "zerolinecolor": "white",
           "zerolinewidth": 2
          },
          "yaxis": {
           "automargin": true,
           "gridcolor": "white",
           "linecolor": "white",
           "ticks": "",
           "title": {
            "standoff": 15
           },
           "zerolinecolor": "white",
           "zerolinewidth": 2
          }
         }
        },
        "xaxis": {
         "anchor": "y",
         "autorange": true,
         "domain": [
          0,
          1
         ],
         "range": [
          0.473551637279597,
          7.526448362720403
         ],
         "showspikes": false,
         "title": {
          "text": "Number of occupants"
         },
         "type": "linear"
        },
        "yaxis": {
         "anchor": "x",
         "autorange": true,
         "domain": [
          0,
          1
         ],
         "range": [
          3.333333333333333,
          36.666666666666664
         ],
         "showspikes": false,
         "title": {
          "text": "House age"
         },
         "type": "linear"
        }
       }
      },
      "image/png": "[encoded data removed]",
      "text/html": [
       "<div>                            <div id=\"bd63e866-509a-452d-a35d-5eeaad819d9b\" class=\"plotly-graph-div\" style=\"height:525px; width:100%;\"></div>            <script type=\"text/javascript\">                require([\"plotly\"], function(Plotly) {                    window.PLOTLYENV=window.PLOTLYENV || {};                                    if (document.getElementById(\"bd63e866-509a-452d-a35d-5eeaad819d9b\")) {                    Plotly.newPlot(                        \"bd63e866-509a-452d-a35d-5eeaad819d9b\",                        [{\"alignmentgroup\":\"True\",\"boxpoints\":\"all\",\"fillcolor\":\"rgba(255,255,255,0)\",\"hoveron\":\"points\",\"hovertemplate\":\"House typology=Attached row house<br>Number of occupants=%{x}<br>House age=%{y}<extra></extra>\",\"legendgroup\":\"Attached row house\",\"line\":{\"color\":\"rgba(255,255,255,0)\"},\"marker\":{\"color\":\"#636efa\"},\"name\":\"Attached row house\",\"offsetgroup\":\"Attached row house\",\"orientation\":\"v\",\"pointpos\":0,\"showlegend\":true,\"type\":\"box\",\"x\":[4,4,1,7,7,6,4,5,5,2,4,4,1,4,4,6,3,3,3,7,5,5,4,6,6,5,2,5,5,4,4,5,3,3,4,4,3,5,7,3,5,5,4,5,6,4,3,3,6,3,2,5,5,5,1,3,4,6,5,6,3,2,4,3,7,5,5,4,7,3,4,3,5,6,7,5,4,6,4,5,4,4,4,4,5,4,2,5,3,5,3,4,4,3,2],\"x0\":\" \",\"xaxis\":\"x\",\"y\":[5.0,5.0,5.0,5.0,15.0,15.0,15.0,5.0,5.0,null,15.0,5.0,null,5.0,5.0,5.0,15.0,5.0,25.0,5.0,5.0,15.0,15.0,5.0,35.0,5.0,15.0,5.0,5.0,15.0,15.0,5.0,25.0,15.0,15.0,15.0,5.0,5.0,15.0,15.0,5.0,5.0,15.0,25.0,5.0,15.0,35.0,15.0,25.0,25.0,5.0,15.0,5.0,5.0,15.0,5.0,5.0,15.0,5.0,25.0,5.0,5.0,5.0,5.0,5.0,25.0,15.0,15.0,5.0,15.0,5.0,15.0,25.0,15.0,15.0,15.0,5.0,5.0,5.0,5.0,5.0,5.0,15.0,15.0,5.0,15.0,15.0,15.0,25.0,5.0,25.0,25.0,15.0,5.0,5.0],\"y0\":\" \",\"yaxis\":\"y\"},{\"alignmentgroup\":\"True\",\"boxpoints\":\"all\",\"fillcolor\":\"rgba(255,255,255,0)\",\"hoveron\":\"points\",\"hovertemplate\":\"House typology=Detached house<br>Number of occupants=%{x}<br>House age=%{y}<extra></extra>\",\"legendgroup\":\"Detached house\",\"line\":{\"color\":\"rgba(255,255,255,0)\"},\"marker\":{\"color\":\"#EF553B\"},\"name\":\"Detached house\",\"offsetgroup\":\"Detached house\",\"orientation\":\"v\",\"pointpos\":0,\"showlegend\":true,\"type\":\"box\",\"x\":[6,4,7,6,4,7,4,5,3,6,3,5,6],\"x0\":\" \",\"xaxis\":\"x\",\"y\":[5.0,15.0,5.0,5.0,5.0,15.0,5.0,5.0,15.0,25.0,25.0,25.0,15.0],\"y0\":\" \",\"yaxis\":\"y\"},{\"alignmentgroup\":\"True\",\"boxpoints\":\"all\",\"fillcolor\":\"rgba(255,255,255,0)\",\"hoveron\":\"points\",\"hovertemplate\":\"House typology=Apartment<br>Number of occupants=%{x}<br>House age=%{y}<extra></extra>\",\"legendgroup\":\"Apartment\",\"line\":{\"color\":\"rgba(255,255,255,0)\"},\"marker\":{\"color\":\"#00cc96\"},\"name\":\"Apartment\",\"offsetgroup\":\"Apartment\",\"orientation\":\"v\",\"pointpos\":0,\"showlegend\":true,\"type\":\"box\",\"x\":[2,4,3,5,3,5,6,4,2,4,2,1,1,2,4,4,4,4,2,4,2,1,4,2,5,5,4,1,3,6,3,3,2,1,3,4,3,3,2,2,4,2,2],\"x0\":\" \",\"xaxis\":\"x\",\"y\":[5.0,25.0,25.0,5.0,5.0,5.0,5.0,5.0,15.0,5.0,5.0,5.0,15.0,15.0,15.0,5.0,15.0,5.0,15.0,5.0,5.0,35.0,5.0,5.0,15.0,15.0,5.0,15.0,15.0,5.0,5.0,25.0,35.0,5.0,15.0,25.0,25.0,null,15.0,5.0,15.0,5.0,5.0],\"y0\":\" \",\"yaxis\":\"y\"},{\"alignmentgroup\":\"True\",\"boxpoints\":\"all\",\"fillcolor\":\"rgba(255,255,255,0)\",\"hoveron\":\"points\",\"hovertemplate\":\"House typology=semi- detached house<br>Number of occupants=%{x}<br>House age=%{y}<extra></extra>\",\"legendgroup\":\"semi- detached house\",\"line\":{\"color\":\"rgba(255,255,255,0)\"},\"marker\":{\"color\":\"#ab63fa\"},\"name\":\"semi- detached house\",\"offsetgroup\":\"semi- detached house\",\"orientation\":\"v\",\"pointpos\":0,\"showlegend\":true,\"type\":\"box\",\"x\":[6,4],\"x0\":\" \",\"xaxis\":\"x\",\"y\":[5.0,15.0],\"y0\":\" \",\"yaxis\":\"y\"}],                        {\"boxmode\":\"group\",\"legend\":{\"title\":{\"text\":\"House typology\"},\"tracegroupgap\":0},\"margin\":{\"t\":60},\"template\":{\"data\":{\"bar\":[{\"error_x\":{\"color\":\"#2a3f5f\"},\"error_y\":{\"color\":\"#2a3f5f\"},\"marker\":{\"line\":{\"color\":\"#E5ECF6\",\"width\":0.5},\"pattern\":{\"fillmode\":\"overlay\",\"size\":10,\"solidity\":0.2}},\"type\":\"bar\"}],\"barpolar\":[{\"marker\":{\"line\":{\"color\":\"#E5ECF6\",\"width\":0.5},\"pattern\":{\"fillmode\":\"overlay\",\"size\":10,\"solidity\":0.2}},\"type\":\"barpolar\"}],\"carpet\":[{\"aaxis\":{\"endlinecolor\":\"#2a3f5f\",\"gridcolor\":\"white\",\"linecolor\":\"white\",\"minorgridcolor\":\"white\",\"startlinecolor\":\"#2a3f5f\"},\"baxis\":{\"endlinecolor\":\"#2a3f5f\",\"gridcolor\":\"white\",\"linecolor\":\"white\",\"minorgridcolor\":\"white\",\"startlinecolor\":\"#2a3f5f\"},\"type\":\"carpet\"}],\"choropleth\":[{\"colorbar\":{\"outlinewidth\":0,\"ticks\":\"\"},\"type\":\"choropleth\"}],\"contour\":[{\"colorbar\":{\"outlinewidth\":0,\"ticks\":\"\"},\"colorscale\":[[0.0,\"#0d0887\"],[0.1111111111111111,\"#46039f\"],[0.2222222222222222,\"#7201a8\"],[0.3333333333333333,\"#9c179e\"],[0.4444444444444444,\"#bd3786\"],[0.5555555555555556,\"#d8576b\"],[0.6666666666666666,\"#ed7953\"],[0.7777777777777778,\"#fb9f3a\"],[0.8888888888888888,\"#fdca26\"],[1.0,\"#f0f921\"]],\"type\":\"contour\"}],\"contourcarpet\":[{\"colorbar\":{\"outlinewidth\":0,\"ticks\":\"\"},\"type\":\"contourcarpet\"}],\"heatmap\":[{\"colorbar\":{\"outlinewidth\":0,\"ticks\":\"\"},\"colorscale\":[[0.0,\"#0d0887\"],[0.1111111111111111,\"#46039f\"],[0.2222222222222222,\"#7201a8\"],[0.3333333333333333,\"#9c179e\"],[0.4444444444444444,\"#bd3786\"],[0.5555555555555556,\"#d8576b\"],[0.6666666666666666,\"#ed7953\"],[0.7777777777777778,\"#fb9f3a\"],[0.8888888888888888,\"#fdca26\"],[1.0,\"#f0f921\"]],\"type\":\"heatmap\"}],\"heatmapgl\":[{\"colorbar\":{\"outlinewidth\":0,\"ticks\":\"\"},\"colorscale\":[[0.0,\"#0d0887\"],[0.1111111111111111,\"#46039f\"],[0.2222222222222222,\"#7201a8\"],[0.3333333333333333,\"#9c179e\"],[0.4444444444444444,\"#bd3786\"],[0.5555555555555556,\"#d8576b\"],[0.6666666666666666,\"#ed7953\"],[0.7777777777777778,\"#fb9f3a\"],[0.8888888888888888,\"#fdca26\"],[1.0,\"#f0f921\"]],\"type\":\"heatmapgl\"}],\"histogram\":[{\"marker\":{\"pattern\":{\"fillmode\":\"overlay\",\"size\":10,\"solidity\":0.2}},\"type\":\"histogram\"}],\"histogram2d\":[{\"colorbar\":{\"outlinewidth\":0,\"ticks\":\"\"},\"colorscale\":[[0.0,\"#0d0887\"],[0.1111111111111111,\"#46039f\"],[0.2222222222222222,\"#7201a8\"],[0.3333333333333333,\"#9c179e\"],[0.4444444444444444,\"#bd3786\"],[0.5555555555555556,\"#d8576b\"],[0.6666666666666666,\"#ed7953\"],[0.7777777777777778,\"#fb9f3a\"],[0.8888888888888888,\"#fdca26\"],[1.0,\"#f0f921\"]],\"type\":\"histogram2d\"}],\"histogram2dcontour\":[{\"colorbar\":{\"outlinewidth\":0,\"ticks\":\"\"},\"colorscale\":[[0.0,\"#0d0887\"],[0.1111111111111111,\"#46039f\"],[0.2222222222222222,\"#7201a8\"],[0.3333333333333333,\"#9c179e\"],[0.4444444444444444,\"#bd3786\"],[0.5555555555555556,\"#d8576b\"],[0.6666666666666666,\"#ed7953\"],[0.7777777777777778,\"#fb9f3a\"],[0.8888888888888888,\"#fdca26\"],[1.0,\"#f0f921\"]],\"type\":\"histogram2dcontour\"}],\"mesh3d\":[{\"colorbar\":{\"outlinewidth\":0,\"ticks\":\"\"},\"type\":\"mesh3d\"}],\"parcoords\":[{\"line\":{\"colorbar\":{\"outlinewidth\":0,\"ticks\":\"\"}},\"type\":\"parcoords\"}],\"pie\":[{\"automargin\":true,\"type\":\"pie\"}],\"scatter\":[{\"marker\":{\"colorbar\":{\"outlinewidth\":0,\"ticks\":\"\"}},\"type\":\"scatter\"}],\"scatter3d\":[{\"line\":{\"colorbar\":{\"outlinewidth\":0,\"ticks\":\"\"}},\"marker\":{\"colorbar\":{\"outlinewidth\":0,\"ticks\":\"\"}},\"type\":\"scatter3d\"}],\"scattercarpet\":[{\"marker\":{\"colorbar\":{\"outlinewidth\":0,\"ticks\":\"\"}},\"type\":\"scattercarpet\"}],\"scattergeo\":[{\"marker\":{\"colorbar\":{\"outlinewidth\":0,\"ticks\":\"\"}},\"type\":\"scattergeo\"}],\"scattergl\":[{\"marker\":{\"colorbar\":{\"outlinewidth\":0,\"ticks\":\"\"}},\"type\":\"scattergl\"}],\"scattermapbox\":[{\"marker\":{\"colorbar\":{\"outlinewidth\":0,\"ticks\":\"\"}},\"type\":\"scattermapbox\"}],\"scatterpolar\":[{\"marker\":{\"colorbar\":{\"outlinewidth\":0,\"ticks\":\"\"}},\"type\":\"scatterpolar\"}],\"scatterpolargl\":[{\"marker\":{\"colorbar\":{\"outlinewidth\":0,\"ticks\":\"\"}},\"type\":\"scatterpolargl\"}],\"scatterternary\":[{\"marker\":{\"colorbar\":{\"outlinewidth\":0,\"ticks\":\"\"}},\"type\":\"scatterternary\"}],\"surface\":[{\"colorbar\":{\"outlinewidth\":0,\"ticks\":\"\"},\"colorscale\":[[0.0,\"#0d0887\"],[0.1111111111111111,\"#46039f\"],[0.2222222222222222,\"#7201a8\"],[0.3333333333333333,\"#9c179e\"],[0.4444444444444444,\"#bd3786\"],[0.5555555555555556,\"#d8576b\"],[0.6666666666666666,\"#ed7953\"],[0.7777777777777778,\"#fb9f3a\"],[0.8888888888888888,\"#fdca26\"],[1.0,\"#f0f921\"]],\"type\":\"surface\"}],\"table\":[{\"cells\":{\"fill\":{\"color\":\"#EBF0F8\"},\"line\":{\"color\":\"white\"}},\"header\":{\"fill\":{\"color\":\"#C8D4E3\"},\"line\":{\"color\":\"white\"}},\"type\":\"table\"}]},\"layout\":{\"annotationdefaults\":{\"arrowcolor\":\"#2a3f5f\",\"arrowhead\":0,\"arrowwidth\":1},\"autotypenumbers\":\"strict\",\"coloraxis\":{\"colorbar\":{\"outlinewidth\":0,\"ticks\":\"\"}},\"colorscale\":{\"diverging\":[[0,\"#8e0152\"],[0.1,\"#c51b7d\"],[0.2,\"#de77ae\"],[0.3,\"#f1b6da\"],[0.4,\"#fde0ef\"],[0.5,\"#f7f7f7\"],[0.6,\"#e6f5d0\"],[0.7,\"#b8e186\"],[0.8,\"#7fbc41\"],[0.9,\"#4d9221\"],[1,\"#276419\"]],\"sequential\":[[0.0,\"#0d0887\"],[0.1111111111111111,\"#46039f\"],[0.2222222222222222,\"#7201a8\"],[0.3333333333333333,\"#9c179e\"],[0.4444444444444444,\"#bd3786\"],[0.5555555555555556,\"#d8576b\"],[0.6666666666666666,\"#ed7953\"],[0.7777777777777778,\"#fb9f3a\"],[0.8888888888888888,\"#fdca26\"],[1.0,\"#f0f921\"]],\"sequentialminus\":[[0.0,\"#0d0887\"],[0.1111111111111111,\"#46039f\"],[0.2222222222222222,\"#7201a8\"],[0.3333333333333333,\"#9c179e\"],[0.4444444444444444,\"#bd3786\"],[0.5555555555555556,\"#d8576b\"],[0.6666666666666666,\"#ed7953\"],[0.7777777777777778,\"#fb9f3a\"],[0.8888888888888888,\"#fdca26\"],[1.0,\"#f0f921\"]]},\"colorway\":[\"#636efa\",\"#EF553B\",\"#00cc96\",\"#ab63fa\",\"#FFA15A\",\"#19d3f3\",\"#FF6692\",\"#B6E880\",\"#FF97FF\",\"#FECB52\"],\"font\":{\"color\":\"#2a3f5f\"},\"geo\":{\"bgcolor\":\"white\",\"lakecolor\":\"white\",\"landcolor\":\"#E5ECF6\",\"showlakes\":true,\"showland\":true,\"subunitcolor\":\"white\"},\"hoverlabel\":{\"align\":\"left\"},\"hovermode\":\"closest\",\"mapbox\":{\"style\":\"light\"},\"paper_bgcolor\":\"white\",\"plot_bgcolor\":\"#E5ECF6\",\"polar\":{\"angularaxis\":{\"gridcolor\":\"white\",\"linecolor\":\"white\",\"ticks\":\"\"},\"bgcolor\":\"#E5ECF6\",\"radialaxis\":{\"gridcolor\":\"white\",\"linecolor\":\"white\",\"ticks\":\"\"}},\"scene\":{\"xaxis\":{\"backgroundcolor\":\"#E5ECF6\",\"gridcolor\":\"white\",\"gridwidth\":2,\"linecolor\":\"white\",\"showbackground\":true,\"ticks\":\"\",\"zerolinecolor\":\"white\"},\"yaxis\":{\"backgroundcolor\":\"#E5ECF6\",\"gridcolor\":\"white\",\"gridwidth\":2,\"linecolor\":\"white\",\"showbackground\":true,\"ticks\":\"\",\"zerolinecolor\":\"white\"},\"zaxis\":{\"backgroundcolor\":\"#E5ECF6\",\"gridcolor\":\"white\",\"gridwidth\":2,\"linecolor\":\"white\",\"showbackground\":true,\"ticks\":\"\",\"zerolinecolor\":\"white\"}},\"shapedefaults\":{\"line\":{\"color\":\"#2a3f5f\"}},\"ternary\":{\"aaxis\":{\"gridcolor\":\"white\",\"linecolor\":\"white\",\"ticks\":\"\"},\"baxis\":{\"gridcolor\":\"white\",\"linecolor\":\"white\",\"ticks\":\"\"},\"bgcolor\":\"#E5ECF6\",\"caxis\":{\"gridcolor\":\"white\",\"linecolor\":\"white\",\"ticks\":\"\"}},\"title\":{\"x\":0.05},\"xaxis\":{\"automargin\":true,\"gridcolor\":\"white\",\"linecolor\":\"white\",\"ticks\":\"\",\"title\":{\"standoff\":15},\"zerolinecolor\":\"white\",\"zerolinewidth\":2},\"yaxis\":{\"automargin\":true,\"gridcolor\":\"white\",\"linecolor\":\"white\",\"ticks\":\"\",\"title\":{\"standoff\":15},\"zerolinecolor\":\"white\",\"zerolinewidth\":2}}},\"xaxis\":{\"anchor\":\"y\",\"domain\":[0.0,1.0],\"title\":{\"text\":\"Number of occupants\"}},\"yaxis\":{\"anchor\":\"x\",\"domain\":[0.0,1.0],\"title\":{\"text\":\"House age\"}}},                        {\"responsive\": true}                    ).then(function(){\n",
       "                            \n",
       "var gd = document.getElementById('bd63e866-509a-452d-a35d-5eeaad819d9b');\n",
       "var x = new MutationObserver(function (mutations, observer) {{\n",
       "        var display = window.getComputedStyle(gd).display;\n",
       "        if (!display || display === 'none') {{\n",
       "            console.log([gd, 'removed!']);\n",
       "            Plotly.purge(gd);\n",
       "            observer.disconnect();\n",
       "        }}\n",
       "}});\n",
       "\n",
       "// Listen for the removal of the full notebook cells\n",
       "var notebookContainer = gd.closest('#notebook-container');\n",
       "if (notebookContainer) {{\n",
       "    x.observe(notebookContainer, {childList: true});\n",
       "}}\n",
       "\n",
       "// Listen for the clearing of the current output cell\n",
       "var outputEl = gd.closest('.output');\n",
       "if (outputEl) {{\n",
       "    x.observe(outputEl, {childList: true});\n",
       "}}\n",
       "\n",
       "                        })                };                });            </script>        </div>"
      ]
     },
     "metadata": {},
     "output_type": "display_data"
    }
   ],
   "source": [
    "fig = px.strip(data_df, 'Number of occupants', 'House age', 'House typology')\n",
    "fig.show()"
   ]
  },
  {
   "cell_type": "markdown",
   "id": "33b9aa15-a9dc-49bf-bd75-1a4354699d28",
   "metadata": {},
   "source": [
    "**Nhận xét:**\n",
    "- Đa số các loại nhà đều được xây dựng trong khoảng 5 - 15 năm tính tới thời điểm khảo sát.\n",
    "- Phổ biến nhất là có 3 - 6 người sống cùng một nhà.\n",
    "- Nhà ở liền kề\n",
    "\n",
    "## Tỷ lệ về mục đích sử dụng và quyền sử dụng nhà. "
   ]
  },
  {
   "cell_type": "code",
   "execution_count": 4,
   "id": "2c201fb5-1c58-4d85-a348-b938ec402947",
   "metadata": {},
   "outputs": [
    {
     "data": {
      "application/vnd.plotly.v1+json": {
       "config": {
        "plotlyServerURL": "https://plot.ly"
       },
       "data": [
        {
         "domain": {
          "x": [
           0,
           0.45
          ],
          "y": [
           0,
           1
          ]
         },
         "labels": [
          "No",
          "Commercial",
          "office"
         ],
         "name": "Function other than residential",
         "scalegroup": "one",
         "title": {
          "text": "Function other than residential"
         },
         "type": "pie",
         "values": [
          131,
          19,
          3
         ]
        },
        {
         "domain": {
          "x": [
           0.55,
           1
          ],
          "y": [
           0,
           1
          ]
         },
         "labels": [
          "privately own",
          "privately rent",
          "shared rent"
         ],
         "name": "Ownership",
         "scalegroup": "one",
         "title": {
          "text": "Ownership - Residential function"
         },
         "type": "pie",
         "values": [
          102,
          19,
          10
         ]
        }
       ],
       "layout": {
        "autosize": true,
        "template": {
         "data": {
          "bar": [
           {
            "error_x": {
             "color": "#2a3f5f"
            },
            "error_y": {
             "color": "#2a3f5f"
            },
            "marker": {
             "line": {
              "color": "#E5ECF6",
              "width": 0.5
             },
             "pattern": {
              "fillmode": "overlay",
              "size": 10,
              "solidity": 0.2
             }
            },
            "type": "bar"
           }
          ],
          "barpolar": [
           {
            "marker": {
             "line": {
              "color": "#E5ECF6",
              "width": 0.5
             },
             "pattern": {
              "fillmode": "overlay",
              "size": 10,
              "solidity": 0.2
             }
            },
            "type": "barpolar"
           }
          ],
          "carpet": [
           {
            "aaxis": {
             "endlinecolor": "#2a3f5f",
             "gridcolor": "white",
             "linecolor": "white",
             "minorgridcolor": "white",
             "startlinecolor": "#2a3f5f"
            },
            "baxis": {
             "endlinecolor": "#2a3f5f",
             "gridcolor": "white",
             "linecolor": "white",
             "minorgridcolor": "white",
             "startlinecolor": "#2a3f5f"
            },
            "type": "carpet"
           }
          ],
          "choropleth": [
           {
            "colorbar": {
             "outlinewidth": 0,
             "ticks": ""
            },
            "type": "choropleth"
           }
          ],
          "contour": [
           {
            "colorbar": {
             "outlinewidth": 0,
             "ticks": ""
            },
            "colorscale": [
             [
              0,
              "#0d0887"
             ],
             [
              0.1111111111111111,
              "#46039f"
             ],
             [
              0.2222222222222222,
              "#7201a8"
             ],
             [
              0.3333333333333333,
              "#9c179e"
             ],
             [
              0.4444444444444444,
              "#bd3786"
             ],
             [
              0.5555555555555556,
              "#d8576b"
             ],
             [
              0.6666666666666666,
              "#ed7953"
             ],
             [
              0.7777777777777778,
              "#fb9f3a"
             ],
             [
              0.8888888888888888,
              "#fdca26"
             ],
             [
              1,
              "#f0f921"
             ]
            ],
            "type": "contour"
           }
          ],
          "contourcarpet": [
           {
            "colorbar": {
             "outlinewidth": 0,
             "ticks": ""
            },
            "type": "contourcarpet"
           }
          ],
          "heatmap": [
           {
            "colorbar": {
             "outlinewidth": 0,
             "ticks": ""
            },
            "colorscale": [
             [
              0,
              "#0d0887"
             ],
             [
              0.1111111111111111,
              "#46039f"
             ],
             [
              0.2222222222222222,
              "#7201a8"
             ],
             [
              0.3333333333333333,
              "#9c179e"
             ],
             [
              0.4444444444444444,
              "#bd3786"
             ],
             [
              0.5555555555555556,
              "#d8576b"
             ],
             [
              0.6666666666666666,
              "#ed7953"
             ],
             [
              0.7777777777777778,
              "#fb9f3a"
             ],
             [
              0.8888888888888888,
              "#fdca26"
             ],
             [
              1,
              "#f0f921"
             ]
            ],
            "type": "heatmap"
           }
          ],
          "heatmapgl": [
           {
            "colorbar": {
             "outlinewidth": 0,
             "ticks": ""
            },
            "colorscale": [
             [
              0,
              "#0d0887"
             ],
             [
              0.1111111111111111,
              "#46039f"
             ],
             [
              0.2222222222222222,
              "#7201a8"
             ],
             [
              0.3333333333333333,
              "#9c179e"
             ],
             [
              0.4444444444444444,
              "#bd3786"
             ],
             [
              0.5555555555555556,
              "#d8576b"
             ],
             [
              0.6666666666666666,
              "#ed7953"
             ],
             [
              0.7777777777777778,
              "#fb9f3a"
             ],
             [
              0.8888888888888888,
              "#fdca26"
             ],
             [
              1,
              "#f0f921"
             ]
            ],
            "type": "heatmapgl"
           }
          ],
          "histogram": [
           {
            "marker": {
             "pattern": {
              "fillmode": "overlay",
              "size": 10,
              "solidity": 0.2
             }
            },
            "type": "histogram"
           }
          ],
          "histogram2d": [
           {
            "colorbar": {
             "outlinewidth": 0,
             "ticks": ""
            },
            "colorscale": [
             [
              0,
              "#0d0887"
             ],
             [
              0.1111111111111111,
              "#46039f"
             ],
             [
              0.2222222222222222,
              "#7201a8"
             ],
             [
              0.3333333333333333,
              "#9c179e"
             ],
             [
              0.4444444444444444,
              "#bd3786"
             ],
             [
              0.5555555555555556,
              "#d8576b"
             ],
             [
              0.6666666666666666,
              "#ed7953"
             ],
             [
              0.7777777777777778,
              "#fb9f3a"
             ],
             [
              0.8888888888888888,
              "#fdca26"
             ],
             [
              1,
              "#f0f921"
             ]
            ],
            "type": "histogram2d"
           }
          ],
          "histogram2dcontour": [
           {
            "colorbar": {
             "outlinewidth": 0,
             "ticks": ""
            },
            "colorscale": [
             [
              0,
              "#0d0887"
             ],
             [
              0.1111111111111111,
              "#46039f"
             ],
             [
              0.2222222222222222,
              "#7201a8"
             ],
             [
              0.3333333333333333,
              "#9c179e"
             ],
             [
              0.4444444444444444,
              "#bd3786"
             ],
             [
              0.5555555555555556,
              "#d8576b"
             ],
             [
              0.6666666666666666,
              "#ed7953"
             ],
             [
              0.7777777777777778,
              "#fb9f3a"
             ],
             [
              0.8888888888888888,
              "#fdca26"
             ],
             [
              1,
              "#f0f921"
             ]
            ],
            "type": "histogram2dcontour"
           }
          ],
          "mesh3d": [
           {
            "colorbar": {
             "outlinewidth": 0,
             "ticks": ""
            },
            "type": "mesh3d"
           }
          ],
          "parcoords": [
           {
            "line": {
             "colorbar": {
              "outlinewidth": 0,
              "ticks": ""
             }
            },
            "type": "parcoords"
           }
          ],
          "pie": [
           {
            "automargin": true,
            "type": "pie"
           }
          ],
          "scatter": [
           {
            "marker": {
             "colorbar": {
              "outlinewidth": 0,
              "ticks": ""
             }
            },
            "type": "scatter"
           }
          ],
          "scatter3d": [
           {
            "line": {
             "colorbar": {
              "outlinewidth": 0,
              "ticks": ""
             }
            },
            "marker": {
             "colorbar": {
              "outlinewidth": 0,
              "ticks": ""
             }
            },
            "type": "scatter3d"
           }
          ],
          "scattercarpet": [
           {
            "marker": {
             "colorbar": {
              "outlinewidth": 0,
              "ticks": ""
             }
            },
            "type": "scattercarpet"
           }
          ],
          "scattergeo": [
           {
            "marker": {
             "colorbar": {
              "outlinewidth": 0,
              "ticks": ""
             }
            },
            "type": "scattergeo"
           }
          ],
          "scattergl": [
           {
            "marker": {
             "colorbar": {
              "outlinewidth": 0,
              "ticks": ""
             }
            },
            "type": "scattergl"
           }
          ],
          "scattermapbox": [
           {
            "marker": {
             "colorbar": {
              "outlinewidth": 0,
              "ticks": ""
             }
            },
            "type": "scattermapbox"
           }
          ],
          "scatterpolar": [
           {
            "marker": {
             "colorbar": {
              "outlinewidth": 0,
              "ticks": ""
             }
            },
            "type": "scatterpolar"
           }
          ],
          "scatterpolargl": [
           {
            "marker": {
             "colorbar": {
              "outlinewidth": 0,
              "ticks": ""
             }
            },
            "type": "scatterpolargl"
           }
          ],
          "scatterternary": [
           {
            "marker": {
             "colorbar": {
              "outlinewidth": 0,
              "ticks": ""
             }
            },
            "type": "scatterternary"
           }
          ],
          "surface": [
           {
            "colorbar": {
             "outlinewidth": 0,
             "ticks": ""
            },
            "colorscale": [
             [
              0,
              "#0d0887"
             ],
             [
              0.1111111111111111,
              "#46039f"
             ],
             [
              0.2222222222222222,
              "#7201a8"
             ],
             [
              0.3333333333333333,
              "#9c179e"
             ],
             [
              0.4444444444444444,
              "#bd3786"
             ],
             [
              0.5555555555555556,
              "#d8576b"
             ],
             [
              0.6666666666666666,
              "#ed7953"
             ],
             [
              0.7777777777777778,
              "#fb9f3a"
             ],
             [
              0.8888888888888888,
              "#fdca26"
             ],
             [
              1,
              "#f0f921"
             ]
            ],
            "type": "surface"
           }
          ],
          "table": [
           {
            "cells": {
             "fill": {
              "color": "#EBF0F8"
             },
             "line": {
              "color": "white"
             }
            },
            "header": {
             "fill": {
              "color": "#C8D4E3"
             },
             "line": {
              "color": "white"
             }
            },
            "type": "table"
           }
          ]
         },
         "layout": {
          "annotationdefaults": {
           "arrowcolor": "#2a3f5f",
           "arrowhead": 0,
           "arrowwidth": 1
          },
          "autotypenumbers": "strict",
          "coloraxis": {
           "colorbar": {
            "outlinewidth": 0,
            "ticks": ""
           }
          },
          "colorscale": {
           "diverging": [
            [
             0,
             "#8e0152"
            ],
            [
             0.1,
             "#c51b7d"
            ],
            [
             0.2,
             "#de77ae"
            ],
            [
             0.3,
             "#f1b6da"
            ],
            [
             0.4,
             "#fde0ef"
            ],
            [
             0.5,
             "#f7f7f7"
            ],
            [
             0.6,
             "#e6f5d0"
            ],
            [
             0.7,
             "#b8e186"
            ],
            [
             0.8,
             "#7fbc41"
            ],
            [
             0.9,
             "#4d9221"
            ],
            [
             1,
             "#276419"
            ]
           ],
           "sequential": [
            [
             0,
             "#0d0887"
            ],
            [
             0.1111111111111111,
             "#46039f"
            ],
            [
             0.2222222222222222,
             "#7201a8"
            ],
            [
             0.3333333333333333,
             "#9c179e"
            ],
            [
             0.4444444444444444,
             "#bd3786"
            ],
            [
             0.5555555555555556,
             "#d8576b"
            ],
            [
             0.6666666666666666,
             "#ed7953"
            ],
            [
             0.7777777777777778,
             "#fb9f3a"
            ],
            [
             0.8888888888888888,
             "#fdca26"
            ],
            [
             1,
             "#f0f921"
            ]
           ],
           "sequentialminus": [
            [
             0,
             "#0d0887"
            ],
            [
             0.1111111111111111,
             "#46039f"
            ],
            [
             0.2222222222222222,
             "#7201a8"
            ],
            [
             0.3333333333333333,
             "#9c179e"
            ],
            [
             0.4444444444444444,
             "#bd3786"
            ],
            [
             0.5555555555555556,
             "#d8576b"
            ],
            [
             0.6666666666666666,
             "#ed7953"
            ],
            [
             0.7777777777777778,
             "#fb9f3a"
            ],
            [
             0.8888888888888888,
             "#fdca26"
            ],
            [
             1,
             "#f0f921"
            ]
           ]
          },
          "colorway": [
           "#636efa",
           "#EF553B",
           "#00cc96",
           "#ab63fa",
           "#FFA15A",
           "#19d3f3",
           "#FF6692",
           "#B6E880",
           "#FF97FF",
           "#FECB52"
          ],
          "font": {
           "color": "#2a3f5f"
          },
          "geo": {
           "bgcolor": "white",
           "lakecolor": "white",
           "landcolor": "#E5ECF6",
           "showlakes": true,
           "showland": true,
           "subunitcolor": "white"
          },
          "hoverlabel": {
           "align": "left"
          },
          "hovermode": "closest",
          "mapbox": {
           "style": "light"
          },
          "paper_bgcolor": "white",
          "plot_bgcolor": "#E5ECF6",
          "polar": {
           "angularaxis": {
            "gridcolor": "white",
            "linecolor": "white",
            "ticks": ""
           },
           "bgcolor": "#E5ECF6",
           "radialaxis": {
            "gridcolor": "white",
            "linecolor": "white",
            "ticks": ""
           }
          },
          "scene": {
           "xaxis": {
            "backgroundcolor": "#E5ECF6",
            "gridcolor": "white",
            "gridwidth": 2,
            "linecolor": "white",
            "showbackground": true,
            "ticks": "",
            "zerolinecolor": "white"
           },
           "yaxis": {
            "backgroundcolor": "#E5ECF6",
            "gridcolor": "white",
            "gridwidth": 2,
            "linecolor": "white",
            "showbackground": true,
            "ticks": "",
            "zerolinecolor": "white"
           },
           "zaxis": {
            "backgroundcolor": "#E5ECF6",
            "gridcolor": "white",
            "gridwidth": 2,
            "linecolor": "white",
            "showbackground": true,
            "ticks": "",
            "zerolinecolor": "white"
           }
          },
          "shapedefaults": {
           "line": {
            "color": "#2a3f5f"
           }
          },
          "ternary": {
           "aaxis": {
            "gridcolor": "white",
            "linecolor": "white",
            "ticks": ""
           },
           "baxis": {
            "gridcolor": "white",
            "linecolor": "white",
            "ticks": ""
           },
           "bgcolor": "#E5ECF6",
           "caxis": {
            "gridcolor": "white",
            "linecolor": "white",
            "ticks": ""
           }
          },
          "title": {
           "x": 0.05
          },
          "xaxis": {
           "automargin": true,
           "gridcolor": "white",
           "linecolor": "white",
           "ticks": "",
           "title": {
            "standoff": 15
           },
           "zerolinecolor": "white",
           "zerolinewidth": 2
          },
          "yaxis": {
           "automargin": true,
           "gridcolor": "white",
           "linecolor": "white",
           "ticks": "",
           "title": {
            "standoff": 15
           },
           "zerolinecolor": "white",
           "zerolinewidth": 2
          }
         }
        }
       }
      },
      "image/png": "[encoded data removed]",
      "text/html": [
       "<div>                            <div id=\"8f89f5ad-68eb-4e06-b2a5-7af08996bd02\" class=\"plotly-graph-div\" style=\"height:525px; width:100%;\"></div>            <script type=\"text/javascript\">                require([\"plotly\"], function(Plotly) {                    window.PLOTLYENV=window.PLOTLYENV || {};                                    if (document.getElementById(\"8f89f5ad-68eb-4e06-b2a5-7af08996bd02\")) {                    Plotly.newPlot(                        \"8f89f5ad-68eb-4e06-b2a5-7af08996bd02\",                        [{\"domain\":{\"x\":[0.0,0.45],\"y\":[0.0,1.0]},\"labels\":[\"No\",\"Commercial\",\"office\"],\"name\":\"Function other than residential\",\"scalegroup\":\"one\",\"title\":{\"text\":\"Function other than residential\"},\"type\":\"pie\",\"values\":[131,19,3]},{\"domain\":{\"x\":[0.55,1.0],\"y\":[0.0,1.0]},\"labels\":[\"privately own\",\"privately rent\",\"shared rent\"],\"name\":\"Ownership\",\"scalegroup\":\"one\",\"title\":{\"text\":\"Ownership - Residential function\"},\"type\":\"pie\",\"values\":[102,19,10]}],                        {\"template\":{\"data\":{\"bar\":[{\"error_x\":{\"color\":\"#2a3f5f\"},\"error_y\":{\"color\":\"#2a3f5f\"},\"marker\":{\"line\":{\"color\":\"#E5ECF6\",\"width\":0.5},\"pattern\":{\"fillmode\":\"overlay\",\"size\":10,\"solidity\":0.2}},\"type\":\"bar\"}],\"barpolar\":[{\"marker\":{\"line\":{\"color\":\"#E5ECF6\",\"width\":0.5},\"pattern\":{\"fillmode\":\"overlay\",\"size\":10,\"solidity\":0.2}},\"type\":\"barpolar\"}],\"carpet\":[{\"aaxis\":{\"endlinecolor\":\"#2a3f5f\",\"gridcolor\":\"white\",\"linecolor\":\"white\",\"minorgridcolor\":\"white\",\"startlinecolor\":\"#2a3f5f\"},\"baxis\":{\"endlinecolor\":\"#2a3f5f\",\"gridcolor\":\"white\",\"linecolor\":\"white\",\"minorgridcolor\":\"white\",\"startlinecolor\":\"#2a3f5f\"},\"type\":\"carpet\"}],\"choropleth\":[{\"colorbar\":{\"outlinewidth\":0,\"ticks\":\"\"},\"type\":\"choropleth\"}],\"contour\":[{\"colorbar\":{\"outlinewidth\":0,\"ticks\":\"\"},\"colorscale\":[[0.0,\"#0d0887\"],[0.1111111111111111,\"#46039f\"],[0.2222222222222222,\"#7201a8\"],[0.3333333333333333,\"#9c179e\"],[0.4444444444444444,\"#bd3786\"],[0.5555555555555556,\"#d8576b\"],[0.6666666666666666,\"#ed7953\"],[0.7777777777777778,\"#fb9f3a\"],[0.8888888888888888,\"#fdca26\"],[1.0,\"#f0f921\"]],\"type\":\"contour\"}],\"contourcarpet\":[{\"colorbar\":{\"outlinewidth\":0,\"ticks\":\"\"},\"type\":\"contourcarpet\"}],\"heatmap\":[{\"colorbar\":{\"outlinewidth\":0,\"ticks\":\"\"},\"colorscale\":[[0.0,\"#0d0887\"],[0.1111111111111111,\"#46039f\"],[0.2222222222222222,\"#7201a8\"],[0.3333333333333333,\"#9c179e\"],[0.4444444444444444,\"#bd3786\"],[0.5555555555555556,\"#d8576b\"],[0.6666666666666666,\"#ed7953\"],[0.7777777777777778,\"#fb9f3a\"],[0.8888888888888888,\"#fdca26\"],[1.0,\"#f0f921\"]],\"type\":\"heatmap\"}],\"heatmapgl\":[{\"colorbar\":{\"outlinewidth\":0,\"ticks\":\"\"},\"colorscale\":[[0.0,\"#0d0887\"],[0.1111111111111111,\"#46039f\"],[0.2222222222222222,\"#7201a8\"],[0.3333333333333333,\"#9c179e\"],[0.4444444444444444,\"#bd3786\"],[0.5555555555555556,\"#d8576b\"],[0.6666666666666666,\"#ed7953\"],[0.7777777777777778,\"#fb9f3a\"],[0.8888888888888888,\"#fdca26\"],[1.0,\"#f0f921\"]],\"type\":\"heatmapgl\"}],\"histogram\":[{\"marker\":{\"pattern\":{\"fillmode\":\"overlay\",\"size\":10,\"solidity\":0.2}},\"type\":\"histogram\"}],\"histogram2d\":[{\"colorbar\":{\"outlinewidth\":0,\"ticks\":\"\"},\"colorscale\":[[0.0,\"#0d0887\"],[0.1111111111111111,\"#46039f\"],[0.2222222222222222,\"#7201a8\"],[0.3333333333333333,\"#9c179e\"],[0.4444444444444444,\"#bd3786\"],[0.5555555555555556,\"#d8576b\"],[0.6666666666666666,\"#ed7953\"],[0.7777777777777778,\"#fb9f3a\"],[0.8888888888888888,\"#fdca26\"],[1.0,\"#f0f921\"]],\"type\":\"histogram2d\"}],\"histogram2dcontour\":[{\"colorbar\":{\"outlinewidth\":0,\"ticks\":\"\"},\"colorscale\":[[0.0,\"#0d0887\"],[0.1111111111111111,\"#46039f\"],[0.2222222222222222,\"#7201a8\"],[0.3333333333333333,\"#9c179e\"],[0.4444444444444444,\"#bd3786\"],[0.5555555555555556,\"#d8576b\"],[0.6666666666666666,\"#ed7953\"],[0.7777777777777778,\"#fb9f3a\"],[0.8888888888888888,\"#fdca26\"],[1.0,\"#f0f921\"]],\"type\":\"histogram2dcontour\"}],\"mesh3d\":[{\"colorbar\":{\"outlinewidth\":0,\"ticks\":\"\"},\"type\":\"mesh3d\"}],\"parcoords\":[{\"line\":{\"colorbar\":{\"outlinewidth\":0,\"ticks\":\"\"}},\"type\":\"parcoords\"}],\"pie\":[{\"automargin\":true,\"type\":\"pie\"}],\"scatter\":[{\"marker\":{\"colorbar\":{\"outlinewidth\":0,\"ticks\":\"\"}},\"type\":\"scatter\"}],\"scatter3d\":[{\"line\":{\"colorbar\":{\"outlinewidth\":0,\"ticks\":\"\"}},\"marker\":{\"colorbar\":{\"outlinewidth\":0,\"ticks\":\"\"}},\"type\":\"scatter3d\"}],\"scattercarpet\":[{\"marker\":{\"colorbar\":{\"outlinewidth\":0,\"ticks\":\"\"}},\"type\":\"scattercarpet\"}],\"scattergeo\":[{\"marker\":{\"colorbar\":{\"outlinewidth\":0,\"ticks\":\"\"}},\"type\":\"scattergeo\"}],\"scattergl\":[{\"marker\":{\"colorbar\":{\"outlinewidth\":0,\"ticks\":\"\"}},\"type\":\"scattergl\"}],\"scattermapbox\":[{\"marker\":{\"colorbar\":{\"outlinewidth\":0,\"ticks\":\"\"}},\"type\":\"scattermapbox\"}],\"scatterpolar\":[{\"marker\":{\"colorbar\":{\"outlinewidth\":0,\"ticks\":\"\"}},\"type\":\"scatterpolar\"}],\"scatterpolargl\":[{\"marker\":{\"colorbar\":{\"outlinewidth\":0,\"ticks\":\"\"}},\"type\":\"scatterpolargl\"}],\"scatterternary\":[{\"marker\":{\"colorbar\":{\"outlinewidth\":0,\"ticks\":\"\"}},\"type\":\"scatterternary\"}],\"surface\":[{\"colorbar\":{\"outlinewidth\":0,\"ticks\":\"\"},\"colorscale\":[[0.0,\"#0d0887\"],[0.1111111111111111,\"#46039f\"],[0.2222222222222222,\"#7201a8\"],[0.3333333333333333,\"#9c179e\"],[0.4444444444444444,\"#bd3786\"],[0.5555555555555556,\"#d8576b\"],[0.6666666666666666,\"#ed7953\"],[0.7777777777777778,\"#fb9f3a\"],[0.8888888888888888,\"#fdca26\"],[1.0,\"#f0f921\"]],\"type\":\"surface\"}],\"table\":[{\"cells\":{\"fill\":{\"color\":\"#EBF0F8\"},\"line\":{\"color\":\"white\"}},\"header\":{\"fill\":{\"color\":\"#C8D4E3\"},\"line\":{\"color\":\"white\"}},\"type\":\"table\"}]},\"layout\":{\"annotationdefaults\":{\"arrowcolor\":\"#2a3f5f\",\"arrowhead\":0,\"arrowwidth\":1},\"autotypenumbers\":\"strict\",\"coloraxis\":{\"colorbar\":{\"outlinewidth\":0,\"ticks\":\"\"}},\"colorscale\":{\"diverging\":[[0,\"#8e0152\"],[0.1,\"#c51b7d\"],[0.2,\"#de77ae\"],[0.3,\"#f1b6da\"],[0.4,\"#fde0ef\"],[0.5,\"#f7f7f7\"],[0.6,\"#e6f5d0\"],[0.7,\"#b8e186\"],[0.8,\"#7fbc41\"],[0.9,\"#4d9221\"],[1,\"#276419\"]],\"sequential\":[[0.0,\"#0d0887\"],[0.1111111111111111,\"#46039f\"],[0.2222222222222222,\"#7201a8\"],[0.3333333333333333,\"#9c179e\"],[0.4444444444444444,\"#bd3786\"],[0.5555555555555556,\"#d8576b\"],[0.6666666666666666,\"#ed7953\"],[0.7777777777777778,\"#fb9f3a\"],[0.8888888888888888,\"#fdca26\"],[1.0,\"#f0f921\"]],\"sequentialminus\":[[0.0,\"#0d0887\"],[0.1111111111111111,\"#46039f\"],[0.2222222222222222,\"#7201a8\"],[0.3333333333333333,\"#9c179e\"],[0.4444444444444444,\"#bd3786\"],[0.5555555555555556,\"#d8576b\"],[0.6666666666666666,\"#ed7953\"],[0.7777777777777778,\"#fb9f3a\"],[0.8888888888888888,\"#fdca26\"],[1.0,\"#f0f921\"]]},\"colorway\":[\"#636efa\",\"#EF553B\",\"#00cc96\",\"#ab63fa\",\"#FFA15A\",\"#19d3f3\",\"#FF6692\",\"#B6E880\",\"#FF97FF\",\"#FECB52\"],\"font\":{\"color\":\"#2a3f5f\"},\"geo\":{\"bgcolor\":\"white\",\"lakecolor\":\"white\",\"landcolor\":\"#E5ECF6\",\"showlakes\":true,\"showland\":true,\"subunitcolor\":\"white\"},\"hoverlabel\":{\"align\":\"left\"},\"hovermode\":\"closest\",\"mapbox\":{\"style\":\"light\"},\"paper_bgcolor\":\"white\",\"plot_bgcolor\":\"#E5ECF6\",\"polar\":{\"angularaxis\":{\"gridcolor\":\"white\",\"linecolor\":\"white\",\"ticks\":\"\"},\"bgcolor\":\"#E5ECF6\",\"radialaxis\":{\"gridcolor\":\"white\",\"linecolor\":\"white\",\"ticks\":\"\"}},\"scene\":{\"xaxis\":{\"backgroundcolor\":\"#E5ECF6\",\"gridcolor\":\"white\",\"gridwidth\":2,\"linecolor\":\"white\",\"showbackground\":true,\"ticks\":\"\",\"zerolinecolor\":\"white\"},\"yaxis\":{\"backgroundcolor\":\"#E5ECF6\",\"gridcolor\":\"white\",\"gridwidth\":2,\"linecolor\":\"white\",\"showbackground\":true,\"ticks\":\"\",\"zerolinecolor\":\"white\"},\"zaxis\":{\"backgroundcolor\":\"#E5ECF6\",\"gridcolor\":\"white\",\"gridwidth\":2,\"linecolor\":\"white\",\"showbackground\":true,\"ticks\":\"\",\"zerolinecolor\":\"white\"}},\"shapedefaults\":{\"line\":{\"color\":\"#2a3f5f\"}},\"ternary\":{\"aaxis\":{\"gridcolor\":\"white\",\"linecolor\":\"white\",\"ticks\":\"\"},\"baxis\":{\"gridcolor\":\"white\",\"linecolor\":\"white\",\"ticks\":\"\"},\"bgcolor\":\"#E5ECF6\",\"caxis\":{\"gridcolor\":\"white\",\"linecolor\":\"white\",\"ticks\":\"\"}},\"title\":{\"x\":0.05},\"xaxis\":{\"automargin\":true,\"gridcolor\":\"white\",\"linecolor\":\"white\",\"ticks\":\"\",\"title\":{\"standoff\":15},\"zerolinecolor\":\"white\",\"zerolinewidth\":2},\"yaxis\":{\"automargin\":true,\"gridcolor\":\"white\",\"linecolor\":\"white\",\"ticks\":\"\",\"title\":{\"standoff\":15},\"zerolinecolor\":\"white\",\"zerolinewidth\":2}}}},                        {\"responsive\": true}                    ).then(function(){\n",
       "                            \n",
       "var gd = document.getElementById('8f89f5ad-68eb-4e06-b2a5-7af08996bd02');\n",
       "var x = new MutationObserver(function (mutations, observer) {{\n",
       "        var display = window.getComputedStyle(gd).display;\n",
       "        if (!display || display === 'none') {{\n",
       "            console.log([gd, 'removed!']);\n",
       "            Plotly.purge(gd);\n",
       "            observer.disconnect();\n",
       "        }}\n",
       "}});\n",
       "\n",
       "// Listen for the removal of the full notebook cells\n",
       "var notebookContainer = gd.closest('#notebook-container');\n",
       "if (notebookContainer) {{\n",
       "    x.observe(notebookContainer, {childList: true});\n",
       "}}\n",
       "\n",
       "// Listen for the clearing of the current output cell\n",
       "var outputEl = gd.closest('.output');\n",
       "if (outputEl) {{\n",
       "    x.observe(outputEl, {childList: true});\n",
       "}}\n",
       "\n",
       "                        })                };                });            </script>        </div>"
      ]
     },
     "metadata": {},
     "output_type": "display_data"
    }
   ],
   "source": [
    "other_func = data_df['Function other than residential'].value_counts()\n",
    "\n",
    "residential_ownership = data_df[data_df['Function other than residential'] == 'No']['Ownership']\n",
    "residential_ownership = residential_ownership.value_counts()\n",
    "\n",
    "fig = make_subplots(cols=2, specs=[[{'type': 'domain'}, {'type': 'domain'}]])\n",
    "fig.add_pie(labels=other_func.index, values=other_func, name='Function other than residential',\n",
    "           title={'text': 'Function other than residential'}, row=1, col=1, scalegroup='one')\n",
    "fig.add_pie(labels=residential_ownership.index, values=residential_ownership, name='Ownership',\n",
    "           title={'text': 'Ownership - Residential function'}, row=1, col=2, scalegroup='one')\n",
    "fig.show()"
   ]
  },
  {
   "cell_type": "markdown",
   "id": "f6041e09-d845-4001-82fe-55e08fcd9c35",
   "metadata": {},
   "source": [
    "**Nhận xét:**\n",
    "- Có hơn 85% số người tham gia khảo sát sử dụng ngôi nha chỉ để ở, không có mục đích khác.\n",
    "- Trong số những người chi sử dụng nhà để ở có đên 77.9% số người sở hữu căn nhà đó.\n",
    "\n",
    "## Phân bố đánh giá về các tiêu chí ánh sáng và nhiệt độ của những người tham gia khảo sát như thế nào?"
   ]
  },
  {
   "cell_type": "code",
   "execution_count": 9,
   "id": "cff806e2-0485-4777-8064-19902e642abd",
   "metadata": {},
   "outputs": [
    {
     "data": {
      "application/vnd.plotly.v1+json": {
       "config": {
        "plotlyServerURL": "https://plot.ly"
       },
       "data": [
        {
         "alignmentgroup": "True",
         "hovertemplate": "House typology=Attached row house<br>variable=%{x}<br>value=%{y}<extra></extra>",
         "legendgroup": "Attached row house",
         "marker": {
          "color": "#636efa"
         },
         "name": "Attached row house",
         "notched": false,
         "offsetgroup": "Attached row house",
         "orientation": "v",
         "showlegend": true,
         "type": "box",
         "visible": true,
         "x": [
          "summer daylight",
          "summer daylight",
          "summer daylight",
          "summer daylight",
          "summer daylight",
          "summer daylight",
          "summer daylight",
          "summer daylight",
          "summer daylight",
          "summer daylight",
          "summer daylight",
          "summer daylight",
          "summer daylight",
          "summer daylight",
          "summer daylight",
          "summer daylight",
          "summer daylight",
          "summer daylight",
          "summer daylight",
          "summer daylight",
          "summer daylight",
          "summer daylight",
          "summer daylight",
          "summer daylight",
          "summer daylight",
          "summer daylight",
          "summer daylight",
          "summer daylight",
          "summer daylight",
          "summer daylight",
          "summer daylight",
          "summer daylight",
          "summer daylight",
          "summer daylight",
          "summer daylight",
          "summer daylight",
          "summer daylight",
          "summer daylight",
          "summer daylight",
          "summer daylight",
          "summer daylight",
          "summer daylight",
          "summer daylight",
          "summer daylight",
          "summer daylight",
          "summer daylight",
          "summer daylight",
          "summer daylight",
          "summer daylight",
          "summer daylight",
          "summer daylight",
          "summer daylight",
          "summer daylight",
          "summer daylight",
          "summer daylight",
          "summer daylight",
          "summer daylight",
          "summer daylight",
          "summer daylight",
          "summer daylight",
          "summer daylight",
          "summer daylight",
          "summer daylight",
          "summer daylight",
          "summer daylight",
          "summer daylight",
          "summer daylight",
          "summer daylight",
          "summer daylight",
          "summer daylight",
          "summer daylight",
          "summer daylight",
          "summer daylight",
          "summer daylight",
          "summer daylight",
          "summer daylight",
          "summer daylight",
          "summer daylight",
          "summer daylight",
          "summer daylight",
          "summer daylight",
          "summer daylight",
          "summer daylight",
          "summer daylight",
          "summer daylight",
          "summer daylight",
          "summer daylight",
          "summer daylight",
          "summer daylight",
          "summer daylight",
          "summer daylight",
          "summer daylight",
          "summer daylight",
          "summer daylight",
          "summer daylight",
          "summer thermal comfort",
          "summer thermal comfort",
          "summer thermal comfort",
          "summer thermal comfort",
          "summer thermal comfort",
          "summer thermal comfort",
          "summer thermal comfort",
          "summer thermal comfort",
          "summer thermal comfort",
          "summer thermal comfort",
          "summer thermal comfort",
          "summer thermal comfort",
          "summer thermal comfort",
          "summer thermal comfort",
          "summer thermal comfort",
          "summer thermal comfort",
          "summer thermal comfort",
          "summer thermal comfort",
          "summer thermal comfort",
          "summer thermal comfort",
          "summer thermal comfort",
          "summer thermal comfort",
          "summer thermal comfort",
          "summer thermal comfort",
          "summer thermal comfort",
          "summer thermal comfort",
          "summer thermal comfort",
          "summer thermal comfort",
          "summer thermal comfort",
          "summer thermal comfort",
          "summer thermal comfort",
          "summer thermal comfort",
          "summer thermal comfort",
          "summer thermal comfort",
          "summer thermal comfort",
          "summer thermal comfort",
          "summer thermal comfort",
          "summer thermal comfort",
          "summer thermal comfort",
          "summer thermal comfort",
          "summer thermal comfort",
          "summer thermal comfort",
          "summer thermal comfort",
          "summer thermal comfort",
          "summer thermal comfort",
          "summer thermal comfort",
          "summer thermal comfort",
          "summer thermal comfort",
          "summer thermal comfort",
          "summer thermal comfort",
          "summer thermal comfort",
          "summer thermal comfort",
          "summer thermal comfort",
          "summer thermal comfort",
          "summer thermal comfort",
          "summer thermal comfort",
          "summer thermal comfort",
          "summer thermal comfort",
          "summer thermal comfort",
          "summer thermal comfort",
          "summer thermal comfort",
          "summer thermal comfort",
          "summer thermal comfort",
          "summer thermal comfort",
          "summer thermal comfort",
          "summer thermal comfort",
          "summer thermal comfort",
          "summer thermal comfort",
          "summer thermal comfort",
          "summer thermal comfort",
          "summer thermal comfort",
          "summer thermal comfort",
          "summer thermal comfort",
          "summer thermal comfort",
          "summer thermal comfort",
          "summer thermal comfort",
          "summer thermal comfort",
          "summer thermal comfort",
          "summer thermal comfort",
          "summer thermal comfort",
          "summer thermal comfort",
          "summer thermal comfort",
          "summer thermal comfort",
          "summer thermal comfort",
          "summer thermal comfort",
          "summer thermal comfort",
          "summer thermal comfort",
          "summer thermal comfort",
          "summer thermal comfort",
          "summer thermal comfort",
          "summer thermal comfort",
          "summer thermal comfort",
          "summer thermal comfort",
          "summer thermal comfort",
          "summer thermal comfort",
          "summer natural ventilation",
          "summer natural ventilation",
          "summer natural ventilation",
          "summer natural ventilation",
          "summer natural ventilation",
          "summer natural ventilation",
          "summer natural ventilation",
          "summer natural ventilation",
          "summer natural ventilation",
          "summer natural ventilation",
          "summer natural ventilation",
          "summer natural ventilation",
          "summer natural ventilation",
          "summer natural ventilation",
          "summer natural ventilation",
          "summer natural ventilation",
          "summer natural ventilation",
          "summer natural ventilation",
          "summer natural ventilation",
          "summer natural ventilation",
          "summer natural ventilation",
          "summer natural ventilation",
          "summer natural ventilation",
          "summer natural ventilation",
          "summer natural ventilation",
          "summer natural ventilation",
          "summer natural ventilation",
          "summer natural ventilation",
          "summer natural ventilation",
          "summer natural ventilation",
          "summer natural ventilation",
          "summer natural ventilation",
          "summer natural ventilation",
          "summer natural ventilation",
          "summer natural ventilation",
          "summer natural ventilation",
          "summer natural ventilation",
          "summer natural ventilation",
          "summer natural ventilation",
          "summer natural ventilation",
          "summer natural ventilation",
          "summer natural ventilation",
          "summer natural ventilation",
          "summer natural ventilation",
          "summer natural ventilation",
          "summer natural ventilation",
          "summer natural ventilation",
          "summer natural ventilation",
          "summer natural ventilation",
          "summer natural ventilation",
          "summer natural ventilation",
          "summer natural ventilation",
          "summer natural ventilation",
          "summer natural ventilation",
          "summer natural ventilation",
          "summer natural ventilation",
          "summer natural ventilation",
          "summer natural ventilation",
          "summer natural ventilation",
          "summer natural ventilation",
          "summer natural ventilation",
          "summer natural ventilation",
          "summer natural ventilation",
          "summer natural ventilation",
          "summer natural ventilation",
          "summer natural ventilation",
          "summer natural ventilation",
          "summer natural ventilation",
          "summer natural ventilation",
          "summer natural ventilation",
          "summer natural ventilation",
          "summer natural ventilation",
          "summer natural ventilation",
          "summer natural ventilation",
          "summer natural ventilation",
          "summer natural ventilation",
          "summer natural ventilation",
          "summer natural ventilation",
          "summer natural ventilation",
          "summer natural ventilation",
          "summer natural ventilation",
          "summer natural ventilation",
          "summer natural ventilation",
          "summer natural ventilation",
          "summer natural ventilation",
          "summer natural ventilation",
          "summer natural ventilation",
          "summer natural ventilation",
          "summer natural ventilation",
          "summer natural ventilation",
          "summer natural ventilation",
          "summer natural ventilation",
          "summer natural ventilation",
          "summer natural ventilation",
          "summer natural ventilation",
          "Winter daylight",
          "Winter daylight",
          "Winter daylight",
          "Winter daylight",
          "Winter daylight",
          "Winter daylight",
          "Winter daylight",
          "Winter daylight",
          "Winter daylight",
          "Winter daylight",
          "Winter daylight",
          "Winter daylight",
          "Winter daylight",
          "Winter daylight",
          "Winter daylight",
          "Winter daylight",
          "Winter daylight",
          "Winter daylight",
          "Winter daylight",
          "Winter daylight",
          "Winter daylight",
          "Winter daylight",
          "Winter daylight",
          "Winter daylight",
          "Winter daylight",
          "Winter daylight",
          "Winter daylight",
          "Winter daylight",
          "Winter daylight",
          "Winter daylight",
          "Winter daylight",
          "Winter daylight",
          "Winter daylight",
          "Winter daylight",
          "Winter daylight",
          "Winter daylight",
          "Winter daylight",
          "Winter daylight",
          "Winter daylight",
          "Winter daylight",
          "Winter daylight",
          "Winter daylight",
          "Winter daylight",
          "Winter daylight",
          "Winter daylight",
          "Winter daylight",
          "Winter daylight",
          "Winter daylight",
          "Winter daylight",
          "Winter daylight",
          "Winter daylight",
          "Winter daylight",
          "Winter daylight",
          "Winter daylight",
          "Winter daylight",
          "Winter daylight",
          "Winter daylight",
          "Winter daylight",
          "Winter daylight",
          "Winter daylight",
          "Winter daylight",
          "Winter daylight",
          "Winter daylight",
          "Winter daylight",
          "Winter daylight",
          "Winter daylight",
          "Winter daylight",
          "Winter daylight",
          "Winter daylight",
          "Winter daylight",
          "Winter daylight",
          "Winter daylight",
          "Winter daylight",
          "Winter daylight",
          "Winter daylight",
          "Winter daylight",
          "Winter daylight",
          "Winter daylight",
          "Winter daylight",
          "Winter daylight",
          "Winter daylight",
          "Winter daylight",
          "Winter daylight",
          "Winter daylight",
          "Winter daylight",
          "Winter daylight",
          "Winter daylight",
          "Winter daylight",
          "Winter daylight",
          "Winter daylight",
          "Winter daylight",
          "Winter daylight",
          "Winter daylight",
          "Winter daylight",
          "Winter daylight",
          "Winter thermal comfort",
          "Winter thermal comfort",
          "Winter thermal comfort",
          "Winter thermal comfort",
          "Winter thermal comfort",
          "Winter thermal comfort",
          "Winter thermal comfort",
          "Winter thermal comfort",
          "Winter thermal comfort",
          "Winter thermal comfort",
          "Winter thermal comfort",
          "Winter thermal comfort",
          "Winter thermal comfort",
          "Winter thermal comfort",
          "Winter thermal comfort",
          "Winter thermal comfort",
          "Winter thermal comfort",
          "Winter thermal comfort",
          "Winter thermal comfort",
          "Winter thermal comfort",
          "Winter thermal comfort",
          "Winter thermal comfort",
          "Winter thermal comfort",
          "Winter thermal comfort",
          "Winter thermal comfort",
          "Winter thermal comfort",
          "Winter thermal comfort",
          "Winter thermal comfort",
          "Winter thermal comfort",
          "Winter thermal comfort",
          "Winter thermal comfort",
          "Winter thermal comfort",
          "Winter thermal comfort",
          "Winter thermal comfort",
          "Winter thermal comfort",
          "Winter thermal comfort",
          "Winter thermal comfort",
          "Winter thermal comfort",
          "Winter thermal comfort",
          "Winter thermal comfort",
          "Winter thermal comfort",
          "Winter thermal comfort",
          "Winter thermal comfort",
          "Winter thermal comfort",
          "Winter thermal comfort",
          "Winter thermal comfort",
          "Winter thermal comfort",
          "Winter thermal comfort",
          "Winter thermal comfort",
          "Winter thermal comfort",
          "Winter thermal comfort",
          "Winter thermal comfort",
          "Winter thermal comfort",
          "Winter thermal comfort",
          "Winter thermal comfort",
          "Winter thermal comfort",
          "Winter thermal comfort",
          "Winter thermal comfort",
          "Winter thermal comfort",
          "Winter thermal comfort",
          "Winter thermal comfort",
          "Winter thermal comfort",
          "Winter thermal comfort",
          "Winter thermal comfort",
          "Winter thermal comfort",
          "Winter thermal comfort",
          "Winter thermal comfort",
          "Winter thermal comfort",
          "Winter thermal comfort",
          "Winter thermal comfort",
          "Winter thermal comfort",
          "Winter thermal comfort",
          "Winter thermal comfort",
          "Winter thermal comfort",
          "Winter thermal comfort",
          "Winter thermal comfort",
          "Winter thermal comfort",
          "Winter thermal comfort",
          "Winter thermal comfort",
          "Winter thermal comfort",
          "Winter thermal comfort",
          "Winter thermal comfort",
          "Winter thermal comfort",
          "Winter thermal comfort",
          "Winter thermal comfort",
          "Winter thermal comfort",
          "Winter thermal comfort",
          "Winter thermal comfort",
          "Winter thermal comfort",
          "Winter thermal comfort",
          "Winter thermal comfort",
          "Winter thermal comfort",
          "Winter thermal comfort",
          "Winter thermal comfort",
          "Winter thermal comfort",
          "Winter natural ventilation",
          "Winter natural ventilation",
          "Winter natural ventilation",
          "Winter natural ventilation",
          "Winter natural ventilation",
          "Winter natural ventilation",
          "Winter natural ventilation",
          "Winter natural ventilation",
          "Winter natural ventilation",
          "Winter natural ventilation",
          "Winter natural ventilation",
          "Winter natural ventilation",
          "Winter natural ventilation",
          "Winter natural ventilation",
          "Winter natural ventilation",
          "Winter natural ventilation",
          "Winter natural ventilation",
          "Winter natural ventilation",
          "Winter natural ventilation",
          "Winter natural ventilation",
          "Winter natural ventilation",
          "Winter natural ventilation",
          "Winter natural ventilation",
          "Winter natural ventilation",
          "Winter natural ventilation",
          "Winter natural ventilation",
          "Winter natural ventilation",
          "Winter natural ventilation",
          "Winter natural ventilation",
          "Winter natural ventilation",
          "Winter natural ventilation",
          "Winter natural ventilation",
          "Winter natural ventilation",
          "Winter natural ventilation",
          "Winter natural ventilation",
          "Winter natural ventilation",
          "Winter natural ventilation",
          "Winter natural ventilation",
          "Winter natural ventilation",
          "Winter natural ventilation",
          "Winter natural ventilation",
          "Winter natural ventilation",
          "Winter natural ventilation",
          "Winter natural ventilation",
          "Winter natural ventilation",
          "Winter natural ventilation",
          "Winter natural ventilation",
          "Winter natural ventilation",
          "Winter natural ventilation",
          "Winter natural ventilation",
          "Winter natural ventilation",
          "Winter natural ventilation",
          "Winter natural ventilation",
          "Winter natural ventilation",
          "Winter natural ventilation",
          "Winter natural ventilation",
          "Winter natural ventilation",
          "Winter natural ventilation",
          "Winter natural ventilation",
          "Winter natural ventilation",
          "Winter natural ventilation",
          "Winter natural ventilation",
          "Winter natural ventilation",
          "Winter natural ventilation",
          "Winter natural ventilation",
          "Winter natural ventilation",
          "Winter natural ventilation",
          "Winter natural ventilation",
          "Winter natural ventilation",
          "Winter natural ventilation",
          "Winter natural ventilation",
          "Winter natural ventilation",
          "Winter natural ventilation",
          "Winter natural ventilation",
          "Winter natural ventilation",
          "Winter natural ventilation",
          "Winter natural ventilation",
          "Winter natural ventilation",
          "Winter natural ventilation",
          "Winter natural ventilation",
          "Winter natural ventilation",
          "Winter natural ventilation",
          "Winter natural ventilation",
          "Winter natural ventilation",
          "Winter natural ventilation",
          "Winter natural ventilation",
          "Winter natural ventilation",
          "Winter natural ventilation",
          "Winter natural ventilation",
          "Winter natural ventilation",
          "Winter natural ventilation",
          "Winter natural ventilation",
          "Winter natural ventilation",
          "Winter natural ventilation",
          "Winter natural ventilation"
         ],
         "x0": " ",
         "xaxis": "x",
         "y": [
          4,
          5,
          4,
          4,
          1,
          1,
          5,
          3,
          4,
          4,
          4,
          4,
          4,
          3,
          3,
          4,
          3,
          4,
          4,
          4,
          4,
          3,
          3,
          2,
          4,
          2,
          5,
          4,
          4,
          4,
          4,
          4,
          3,
          3,
          4,
          3,
          4,
          4,
          3,
          3,
          4,
          4,
          4,
          2,
          4,
          4,
          4,
          3,
          4,
          3,
          3,
          4,
          4,
          4,
          4,
          5,
          4,
          4,
          4,
          4,
          4,
          4,
          3,
          2,
          4,
          5,
          3,
          3,
          4,
          4,
          2,
          1,
          3,
          3,
          3,
          1,
          3,
          3,
          5,
          3,
          1,
          5,
          4,
          4,
          3,
          2,
          5,
          3,
          4,
          4,
          3,
          3,
          4,
          4,
          3,
          2,
          1,
          3,
          3,
          1,
          1,
          3,
          4,
          3,
          4,
          4,
          4,
          2,
          3,
          3,
          3,
          4,
          3,
          3,
          2,
          4,
          4,
          2,
          1,
          3,
          2,
          5,
          3,
          3,
          3,
          4,
          3,
          3,
          1,
          4,
          3,
          3,
          3,
          2,
          3,
          3,
          3,
          2,
          3,
          4,
          3,
          3,
          3,
          4,
          3,
          2,
          3,
          3,
          5,
          3,
          4,
          4,
          4,
          2,
          3,
          3,
          3,
          2,
          2,
          4,
          5,
          4,
          3,
          3,
          3,
          4,
          1,
          4,
          3,
          1,
          1,
          4,
          1,
          4,
          2,
          1,
          4,
          3,
          4,
          4,
          2,
          1,
          3,
          2,
          3,
          3,
          3,
          4,
          2,
          3,
          3,
          3,
          3,
          3,
          1,
          1,
          4,
          4,
          3,
          4,
          4,
          4,
          2,
          4,
          3,
          3,
          5,
          3,
          3,
          3,
          4,
          4,
          1,
          2,
          4,
          2,
          3,
          4,
          4,
          3,
          4,
          4,
          3,
          2,
          5,
          3,
          3,
          4,
          3,
          2,
          4,
          3,
          4,
          3,
          4,
          4,
          3,
          3,
          3,
          3,
          2,
          3,
          4,
          4,
          3,
          5,
          4,
          4,
          2,
          4,
          4,
          4,
          3,
          2,
          4,
          5,
          5,
          3,
          3,
          4,
          3,
          1,
          4,
          4,
          3,
          1,
          4,
          3,
          4,
          1,
          1,
          4,
          3,
          4,
          3,
          3,
          3,
          3,
          3,
          4,
          3,
          2,
          4,
          3,
          3,
          2,
          5,
          4,
          4,
          1,
          1,
          5,
          1,
          4,
          4,
          3,
          3,
          4,
          3,
          3,
          4,
          3,
          2,
          4,
          4,
          3,
          4,
          3,
          2,
          3,
          3,
          3,
          4,
          4,
          4,
          4,
          4,
          3,
          1,
          4,
          2,
          3,
          4,
          4,
          3,
          4,
          3,
          4,
          2,
          4,
          4,
          3,
          3,
          4,
          3,
          3,
          3,
          4,
          4,
          4,
          5,
          4,
          4,
          3,
          3,
          4,
          3,
          3,
          2,
          3,
          5,
          5,
          3,
          4,
          4,
          2,
          1,
          3,
          3,
          2,
          1,
          3,
          5,
          5,
          3,
          1,
          4,
          4,
          3,
          3,
          2,
          4,
          4,
          4,
          4,
          3,
          2,
          4,
          4,
          3,
          2,
          3,
          4,
          4,
          1,
          1,
          4,
          4,
          4,
          4,
          3,
          4,
          2,
          3,
          3,
          3,
          3,
          4,
          3,
          3,
          4,
          4,
          3,
          3,
          3,
          3,
          3,
          3,
          3,
          3,
          4,
          3,
          3,
          4,
          4,
          3,
          3,
          4,
          3,
          4,
          3,
          4,
          2,
          3,
          4,
          3,
          4,
          3,
          3,
          3,
          4,
          3,
          3,
          4,
          4,
          5,
          3,
          4,
          3,
          3,
          4,
          3,
          2,
          2,
          3,
          5,
          4,
          3,
          3,
          3,
          4,
          1,
          4,
          3,
          1,
          1,
          4,
          5,
          5,
          3,
          1,
          4,
          4,
          4,
          4,
          3,
          3,
          3,
          2,
          3,
          4,
          3,
          4,
          3,
          3,
          3,
          3,
          3,
          3,
          1,
          1,
          4,
          4,
          4,
          4,
          3,
          4,
          2,
          4,
          3,
          3,
          5,
          3,
          3,
          3,
          3,
          4,
          4,
          2,
          3,
          3,
          3,
          3,
          3,
          3,
          4,
          3,
          3,
          3,
          4,
          3,
          3,
          4,
          3,
          4,
          4,
          4,
          3,
          3,
          4,
          4,
          3,
          2,
          4,
          3,
          3,
          4,
          4,
          4,
          4,
          5,
          3,
          4,
          3,
          3,
          4,
          4,
          2,
          2,
          3,
          5,
          3,
          3,
          3,
          4,
          4,
          1,
          4,
          4,
          5,
          1,
          4,
          5,
          5,
          2,
          1,
          5,
          3,
          4,
          3,
          4,
          3,
          3,
          3,
          4,
          3,
          3,
          4,
          3,
          2
         ],
         "y0": " ",
         "yaxis": "y"
        },
        {
         "alignmentgroup": "True",
         "hovertemplate": "House typology=Detached house<br>variable=%{x}<br>value=%{y}<extra></extra>",
         "legendgroup": "Detached house",
         "marker": {
          "color": "#EF553B"
         },
         "name": "Detached house",
         "notched": false,
         "offsetgroup": "Detached house",
         "orientation": "v",
         "showlegend": true,
         "type": "box",
         "visible": true,
         "x": [
          "summer daylight",
          "summer daylight",
          "summer daylight",
          "summer daylight",
          "summer daylight",
          "summer daylight",
          "summer daylight",
          "summer daylight",
          "summer daylight",
          "summer daylight",
          "summer daylight",
          "summer daylight",
          "summer daylight",
          "summer thermal comfort",
          "summer thermal comfort",
          "summer thermal comfort",
          "summer thermal comfort",
          "summer thermal comfort",
          "summer thermal comfort",
          "summer thermal comfort",
          "summer thermal comfort",
          "summer thermal comfort",
          "summer thermal comfort",
          "summer thermal comfort",
          "summer thermal comfort",
          "summer thermal comfort",
          "summer natural ventilation",
          "summer natural ventilation",
          "summer natural ventilation",
          "summer natural ventilation",
          "summer natural ventilation",
          "summer natural ventilation",
          "summer natural ventilation",
          "summer natural ventilation",
          "summer natural ventilation",
          "summer natural ventilation",
          "summer natural ventilation",
          "summer natural ventilation",
          "summer natural ventilation",
          "Winter daylight",
          "Winter daylight",
          "Winter daylight",
          "Winter daylight",
          "Winter daylight",
          "Winter daylight",
          "Winter daylight",
          "Winter daylight",
          "Winter daylight",
          "Winter daylight",
          "Winter daylight",
          "Winter daylight",
          "Winter daylight",
          "Winter thermal comfort",
          "Winter thermal comfort",
          "Winter thermal comfort",
          "Winter thermal comfort",
          "Winter thermal comfort",
          "Winter thermal comfort",
          "Winter thermal comfort",
          "Winter thermal comfort",
          "Winter thermal comfort",
          "Winter thermal comfort",
          "Winter thermal comfort",
          "Winter thermal comfort",
          "Winter thermal comfort",
          "Winter natural ventilation",
          "Winter natural ventilation",
          "Winter natural ventilation",
          "Winter natural ventilation",
          "Winter natural ventilation",
          "Winter natural ventilation",
          "Winter natural ventilation",
          "Winter natural ventilation",
          "Winter natural ventilation",
          "Winter natural ventilation",
          "Winter natural ventilation",
          "Winter natural ventilation",
          "Winter natural ventilation"
         ],
         "x0": " ",
         "xaxis": "x",
         "y": [
          4,
          3,
          4,
          5,
          3,
          4,
          5,
          5,
          5,
          5,
          4,
          4,
          5,
          3,
          3,
          3,
          3,
          3,
          2,
          3,
          3,
          3,
          4,
          3,
          3,
          4,
          4,
          3,
          5,
          3,
          2,
          2,
          5,
          5,
          5,
          4,
          3,
          4,
          4,
          4,
          3,
          3,
          4,
          3,
          3,
          5,
          5,
          5,
          5,
          4,
          4,
          5,
          2,
          4,
          4,
          5,
          3,
          4,
          4,
          4,
          4,
          4,
          4,
          3,
          4,
          4,
          3,
          4,
          5,
          2,
          3,
          4,
          5,
          5,
          4,
          3,
          4,
          4
         ],
         "y0": " ",
         "yaxis": "y"
        },
        {
         "alignmentgroup": "True",
         "hovertemplate": "House typology=Apartment<br>variable=%{x}<br>value=%{y}<extra></extra>",
         "legendgroup": "Apartment",
         "marker": {
          "color": "#00cc96"
         },
         "name": "Apartment",
         "notched": false,
         "offsetgroup": "Apartment",
         "orientation": "v",
         "showlegend": true,
         "type": "box",
         "visible": true,
         "x": [
          "summer daylight",
          "summer daylight",
          "summer daylight",
          "summer daylight",
          "summer daylight",
          "summer daylight",
          "summer daylight",
          "summer daylight",
          "summer daylight",
          "summer daylight",
          "summer daylight",
          "summer daylight",
          "summer daylight",
          "summer daylight",
          "summer daylight",
          "summer daylight",
          "summer daylight",
          "summer daylight",
          "summer daylight",
          "summer daylight",
          "summer daylight",
          "summer daylight",
          "summer daylight",
          "summer daylight",
          "summer daylight",
          "summer daylight",
          "summer daylight",
          "summer daylight",
          "summer daylight",
          "summer daylight",
          "summer daylight",
          "summer daylight",
          "summer daylight",
          "summer daylight",
          "summer daylight",
          "summer daylight",
          "summer daylight",
          "summer daylight",
          "summer daylight",
          "summer daylight",
          "summer daylight",
          "summer daylight",
          "summer daylight",
          "summer thermal comfort",
          "summer thermal comfort",
          "summer thermal comfort",
          "summer thermal comfort",
          "summer thermal comfort",
          "summer thermal comfort",
          "summer thermal comfort",
          "summer thermal comfort",
          "summer thermal comfort",
          "summer thermal comfort",
          "summer thermal comfort",
          "summer thermal comfort",
          "summer thermal comfort",
          "summer thermal comfort",
          "summer thermal comfort",
          "summer thermal comfort",
          "summer thermal comfort",
          "summer thermal comfort",
          "summer thermal comfort",
          "summer thermal comfort",
          "summer thermal comfort",
          "summer thermal comfort",
          "summer thermal comfort",
          "summer thermal comfort",
          "summer thermal comfort",
          "summer thermal comfort",
          "summer thermal comfort",
          "summer thermal comfort",
          "summer thermal comfort",
          "summer thermal comfort",
          "summer thermal comfort",
          "summer thermal comfort",
          "summer thermal comfort",
          "summer thermal comfort",
          "summer thermal comfort",
          "summer thermal comfort",
          "summer thermal comfort",
          "summer thermal comfort",
          "summer thermal comfort",
          "summer thermal comfort",
          "summer thermal comfort",
          "summer thermal comfort",
          "summer thermal comfort",
          "summer natural ventilation",
          "summer natural ventilation",
          "summer natural ventilation",
          "summer natural ventilation",
          "summer natural ventilation",
          "summer natural ventilation",
          "summer natural ventilation",
          "summer natural ventilation",
          "summer natural ventilation",
          "summer natural ventilation",
          "summer natural ventilation",
          "summer natural ventilation",
          "summer natural ventilation",
          "summer natural ventilation",
          "summer natural ventilation",
          "summer natural ventilation",
          "summer natural ventilation",
          "summer natural ventilation",
          "summer natural ventilation",
          "summer natural ventilation",
          "summer natural ventilation",
          "summer natural ventilation",
          "summer natural ventilation",
          "summer natural ventilation",
          "summer natural ventilation",
          "summer natural ventilation",
          "summer natural ventilation",
          "summer natural ventilation",
          "summer natural ventilation",
          "summer natural ventilation",
          "summer natural ventilation",
          "summer natural ventilation",
          "summer natural ventilation",
          "summer natural ventilation",
          "summer natural ventilation",
          "summer natural ventilation",
          "summer natural ventilation",
          "summer natural ventilation",
          "summer natural ventilation",
          "summer natural ventilation",
          "summer natural ventilation",
          "summer natural ventilation",
          "summer natural ventilation",
          "Winter daylight",
          "Winter daylight",
          "Winter daylight",
          "Winter daylight",
          "Winter daylight",
          "Winter daylight",
          "Winter daylight",
          "Winter daylight",
          "Winter daylight",
          "Winter daylight",
          "Winter daylight",
          "Winter daylight",
          "Winter daylight",
          "Winter daylight",
          "Winter daylight",
          "Winter daylight",
          "Winter daylight",
          "Winter daylight",
          "Winter daylight",
          "Winter daylight",
          "Winter daylight",
          "Winter daylight",
          "Winter daylight",
          "Winter daylight",
          "Winter daylight",
          "Winter daylight",
          "Winter daylight",
          "Winter daylight",
          "Winter daylight",
          "Winter daylight",
          "Winter daylight",
          "Winter daylight",
          "Winter daylight",
          "Winter daylight",
          "Winter daylight",
          "Winter daylight",
          "Winter daylight",
          "Winter daylight",
          "Winter daylight",
          "Winter daylight",
          "Winter daylight",
          "Winter daylight",
          "Winter daylight",
          "Winter thermal comfort",
          "Winter thermal comfort",
          "Winter thermal comfort",
          "Winter thermal comfort",
          "Winter thermal comfort",
          "Winter thermal comfort",
          "Winter thermal comfort",
          "Winter thermal comfort",
          "Winter thermal comfort",
          "Winter thermal comfort",
          "Winter thermal comfort",
          "Winter thermal comfort",
          "Winter thermal comfort",
          "Winter thermal comfort",
          "Winter thermal comfort",
          "Winter thermal comfort",
          "Winter thermal comfort",
          "Winter thermal comfort",
          "Winter thermal comfort",
          "Winter thermal comfort",
          "Winter thermal comfort",
          "Winter thermal comfort",
          "Winter thermal comfort",
          "Winter thermal comfort",
          "Winter thermal comfort",
          "Winter thermal comfort",
          "Winter thermal comfort",
          "Winter thermal comfort",
          "Winter thermal comfort",
          "Winter thermal comfort",
          "Winter thermal comfort",
          "Winter thermal comfort",
          "Winter thermal comfort",
          "Winter thermal comfort",
          "Winter thermal comfort",
          "Winter thermal comfort",
          "Winter thermal comfort",
          "Winter thermal comfort",
          "Winter thermal comfort",
          "Winter thermal comfort",
          "Winter thermal comfort",
          "Winter thermal comfort",
          "Winter thermal comfort",
          "Winter natural ventilation",
          "Winter natural ventilation",
          "Winter natural ventilation",
          "Winter natural ventilation",
          "Winter natural ventilation",
          "Winter natural ventilation",
          "Winter natural ventilation",
          "Winter natural ventilation",
          "Winter natural ventilation",
          "Winter natural ventilation",
          "Winter natural ventilation",
          "Winter natural ventilation",
          "Winter natural ventilation",
          "Winter natural ventilation",
          "Winter natural ventilation",
          "Winter natural ventilation",
          "Winter natural ventilation",
          "Winter natural ventilation",
          "Winter natural ventilation",
          "Winter natural ventilation",
          "Winter natural ventilation",
          "Winter natural ventilation",
          "Winter natural ventilation",
          "Winter natural ventilation",
          "Winter natural ventilation",
          "Winter natural ventilation",
          "Winter natural ventilation",
          "Winter natural ventilation",
          "Winter natural ventilation",
          "Winter natural ventilation",
          "Winter natural ventilation",
          "Winter natural ventilation",
          "Winter natural ventilation",
          "Winter natural ventilation",
          "Winter natural ventilation",
          "Winter natural ventilation",
          "Winter natural ventilation",
          "Winter natural ventilation",
          "Winter natural ventilation",
          "Winter natural ventilation",
          "Winter natural ventilation",
          "Winter natural ventilation",
          "Winter natural ventilation"
         ],
         "x0": " ",
         "xaxis": "x",
         "y": [
          4,
          2,
          4,
          4,
          4,
          5,
          4,
          2,
          4,
          4,
          5,
          4,
          5,
          2,
          5,
          5,
          4,
          4,
          2,
          4,
          4,
          4,
          5,
          5,
          2,
          2,
          4,
          3,
          3,
          2,
          3,
          3,
          2,
          3,
          1,
          3,
          3,
          3,
          4,
          3,
          5,
          3,
          2,
          4,
          4,
          4,
          4,
          3,
          1,
          3,
          2,
          3,
          3,
          3,
          4,
          5,
          3,
          1,
          4,
          4,
          4,
          1,
          3,
          4,
          3,
          4,
          5,
          1,
          1,
          4,
          3,
          2,
          1,
          3,
          3,
          1,
          4,
          1,
          4,
          3,
          1,
          4,
          4,
          1,
          3,
          2,
          4,
          4,
          4,
          4,
          3,
          4,
          3,
          2,
          4,
          3,
          4,
          4,
          3,
          3,
          5,
          4,
          4,
          4,
          1,
          4,
          4,
          3,
          4,
          4,
          2,
          2,
          5,
          3,
          2,
          1,
          3,
          3,
          2,
          3,
          1,
          3,
          2,
          2,
          4,
          4,
          3,
          3,
          2,
          4,
          3,
          4,
          4,
          4,
          5,
          4,
          2,
          4,
          4,
          4,
          4,
          5,
          2,
          5,
          5,
          3,
          4,
          2,
          3,
          4,
          4,
          5,
          5,
          2,
          2,
          4,
          3,
          3,
          2,
          3,
          3,
          1,
          2,
          1,
          3,
          3,
          3,
          4,
          3,
          5,
          3,
          1,
          4,
          4,
          4,
          4,
          4,
          1,
          3,
          2,
          5,
          3,
          3,
          4,
          5,
          3,
          3,
          5,
          4,
          4,
          1,
          3,
          4,
          3,
          4,
          5,
          2,
          2,
          4,
          3,
          2,
          2,
          3,
          3,
          1,
          4,
          1,
          3,
          3,
          3,
          4,
          4,
          1,
          3,
          1,
          4,
          4,
          4,
          4,
          4,
          4,
          3,
          2,
          4,
          3,
          4,
          4,
          5,
          3,
          4,
          5,
          4,
          4,
          2,
          3,
          4,
          3,
          4,
          4,
          2,
          2,
          4,
          3,
          2,
          2,
          3,
          3,
          1,
          4,
          1,
          4,
          3,
          2,
          4,
          4,
          3,
          3,
          1
         ],
         "y0": " ",
         "yaxis": "y"
        },
        {
         "alignmentgroup": "True",
         "hovertemplate": "House typology=semi- detached house<br>variable=%{x}<br>value=%{y}<extra></extra>",
         "legendgroup": "semi- detached house",
         "marker": {
          "color": "#ab63fa"
         },
         "name": "semi- detached house",
         "notched": false,
         "offsetgroup": "semi- detached house",
         "orientation": "v",
         "showlegend": true,
         "type": "box",
         "visible": true,
         "x": [
          "summer daylight",
          "summer daylight",
          "summer thermal comfort",
          "summer thermal comfort",
          "summer natural ventilation",
          "summer natural ventilation",
          "Winter daylight",
          "Winter daylight",
          "Winter thermal comfort",
          "Winter thermal comfort",
          "Winter natural ventilation",
          "Winter natural ventilation"
         ],
         "x0": " ",
         "xaxis": "x",
         "y": [
          2,
          3,
          4,
          3,
          4,
          3,
          2,
          3,
          4,
          3,
          4,
          3
         ],
         "y0": " ",
         "yaxis": "y"
        }
       ],
       "layout": {
        "autosize": true,
        "boxmode": "group",
        "legend": {
         "title": {
          "text": "House typology"
         },
         "tracegroupgap": 0
        },
        "margin": {
         "t": 60
        },
        "template": {
         "data": {
          "bar": [
           {
            "error_x": {
             "color": "#2a3f5f"
            },
            "error_y": {
             "color": "#2a3f5f"
            },
            "marker": {
             "line": {
              "color": "#E5ECF6",
              "width": 0.5
             },
             "pattern": {
              "fillmode": "overlay",
              "size": 10,
              "solidity": 0.2
             }
            },
            "type": "bar"
           }
          ],
          "barpolar": [
           {
            "marker": {
             "line": {
              "color": "#E5ECF6",
              "width": 0.5
             },
             "pattern": {
              "fillmode": "overlay",
              "size": 10,
              "solidity": 0.2
             }
            },
            "type": "barpolar"
           }
          ],
          "carpet": [
           {
            "aaxis": {
             "endlinecolor": "#2a3f5f",
             "gridcolor": "white",
             "linecolor": "white",
             "minorgridcolor": "white",
             "startlinecolor": "#2a3f5f"
            },
            "baxis": {
             "endlinecolor": "#2a3f5f",
             "gridcolor": "white",
             "linecolor": "white",
             "minorgridcolor": "white",
             "startlinecolor": "#2a3f5f"
            },
            "type": "carpet"
           }
          ],
          "choropleth": [
           {
            "colorbar": {
             "outlinewidth": 0,
             "ticks": ""
            },
            "type": "choropleth"
           }
          ],
          "contour": [
           {
            "colorbar": {
             "outlinewidth": 0,
             "ticks": ""
            },
            "colorscale": [
             [
              0,
              "#0d0887"
             ],
             [
              0.1111111111111111,
              "#46039f"
             ],
             [
              0.2222222222222222,
              "#7201a8"
             ],
             [
              0.3333333333333333,
              "#9c179e"
             ],
             [
              0.4444444444444444,
              "#bd3786"
             ],
             [
              0.5555555555555556,
              "#d8576b"
             ],
             [
              0.6666666666666666,
              "#ed7953"
             ],
             [
              0.7777777777777778,
              "#fb9f3a"
             ],
             [
              0.8888888888888888,
              "#fdca26"
             ],
             [
              1,
              "#f0f921"
             ]
            ],
            "type": "contour"
           }
          ],
          "contourcarpet": [
           {
            "colorbar": {
             "outlinewidth": 0,
             "ticks": ""
            },
            "type": "contourcarpet"
           }
          ],
          "heatmap": [
           {
            "colorbar": {
             "outlinewidth": 0,
             "ticks": ""
            },
            "colorscale": [
             [
              0,
              "#0d0887"
             ],
             [
              0.1111111111111111,
              "#46039f"
             ],
             [
              0.2222222222222222,
              "#7201a8"
             ],
             [
              0.3333333333333333,
              "#9c179e"
             ],
             [
              0.4444444444444444,
              "#bd3786"
             ],
             [
              0.5555555555555556,
              "#d8576b"
             ],
             [
              0.6666666666666666,
              "#ed7953"
             ],
             [
              0.7777777777777778,
              "#fb9f3a"
             ],
             [
              0.8888888888888888,
              "#fdca26"
             ],
             [
              1,
              "#f0f921"
             ]
            ],
            "type": "heatmap"
           }
          ],
          "heatmapgl": [
           {
            "colorbar": {
             "outlinewidth": 0,
             "ticks": ""
            },
            "colorscale": [
             [
              0,
              "#0d0887"
             ],
             [
              0.1111111111111111,
              "#46039f"
             ],
             [
              0.2222222222222222,
              "#7201a8"
             ],
             [
              0.3333333333333333,
              "#9c179e"
             ],
             [
              0.4444444444444444,
              "#bd3786"
             ],
             [
              0.5555555555555556,
              "#d8576b"
             ],
             [
              0.6666666666666666,
              "#ed7953"
             ],
             [
              0.7777777777777778,
              "#fb9f3a"
             ],
             [
              0.8888888888888888,
              "#fdca26"
             ],
             [
              1,
              "#f0f921"
             ]
            ],
            "type": "heatmapgl"
           }
          ],
          "histogram": [
           {
            "marker": {
             "pattern": {
              "fillmode": "overlay",
              "size": 10,
              "solidity": 0.2
             }
            },
            "type": "histogram"
           }
          ],
          "histogram2d": [
           {
            "colorbar": {
             "outlinewidth": 0,
             "ticks": ""
            },
            "colorscale": [
             [
              0,
              "#0d0887"
             ],
             [
              0.1111111111111111,
              "#46039f"
             ],
             [
              0.2222222222222222,
              "#7201a8"
             ],
             [
              0.3333333333333333,
              "#9c179e"
             ],
             [
              0.4444444444444444,
              "#bd3786"
             ],
             [
              0.5555555555555556,
              "#d8576b"
             ],
             [
              0.6666666666666666,
              "#ed7953"
             ],
             [
              0.7777777777777778,
              "#fb9f3a"
             ],
             [
              0.8888888888888888,
              "#fdca26"
             ],
             [
              1,
              "#f0f921"
             ]
            ],
            "type": "histogram2d"
           }
          ],
          "histogram2dcontour": [
           {
            "colorbar": {
             "outlinewidth": 0,
             "ticks": ""
            },
            "colorscale": [
             [
              0,
              "#0d0887"
             ],
             [
              0.1111111111111111,
              "#46039f"
             ],
             [
              0.2222222222222222,
              "#7201a8"
             ],
             [
              0.3333333333333333,
              "#9c179e"
             ],
             [
              0.4444444444444444,
              "#bd3786"
             ],
             [
              0.5555555555555556,
              "#d8576b"
             ],
             [
              0.6666666666666666,
              "#ed7953"
             ],
             [
              0.7777777777777778,
              "#fb9f3a"
             ],
             [
              0.8888888888888888,
              "#fdca26"
             ],
             [
              1,
              "#f0f921"
             ]
            ],
            "type": "histogram2dcontour"
           }
          ],
          "mesh3d": [
           {
            "colorbar": {
             "outlinewidth": 0,
             "ticks": ""
            },
            "type": "mesh3d"
           }
          ],
          "parcoords": [
           {
            "line": {
             "colorbar": {
              "outlinewidth": 0,
              "ticks": ""
             }
            },
            "type": "parcoords"
           }
          ],
          "pie": [
           {
            "automargin": true,
            "type": "pie"
           }
          ],
          "scatter": [
           {
            "marker": {
             "colorbar": {
              "outlinewidth": 0,
              "ticks": ""
             }
            },
            "type": "scatter"
           }
          ],
          "scatter3d": [
           {
            "line": {
             "colorbar": {
              "outlinewidth": 0,
              "ticks": ""
             }
            },
            "marker": {
             "colorbar": {
              "outlinewidth": 0,
              "ticks": ""
             }
            },
            "type": "scatter3d"
           }
          ],
          "scattercarpet": [
           {
            "marker": {
             "colorbar": {
              "outlinewidth": 0,
              "ticks": ""
             }
            },
            "type": "scattercarpet"
           }
          ],
          "scattergeo": [
           {
            "marker": {
             "colorbar": {
              "outlinewidth": 0,
              "ticks": ""
             }
            },
            "type": "scattergeo"
           }
          ],
          "scattergl": [
           {
            "marker": {
             "colorbar": {
              "outlinewidth": 0,
              "ticks": ""
             }
            },
            "type": "scattergl"
           }
          ],
          "scattermapbox": [
           {
            "marker": {
             "colorbar": {
              "outlinewidth": 0,
              "ticks": ""
             }
            },
            "type": "scattermapbox"
           }
          ],
          "scatterpolar": [
           {
            "marker": {
             "colorbar": {
              "outlinewidth": 0,
              "ticks": ""
             }
            },
            "type": "scatterpolar"
           }
          ],
          "scatterpolargl": [
           {
            "marker": {
             "colorbar": {
              "outlinewidth": 0,
              "ticks": ""
             }
            },
            "type": "scatterpolargl"
           }
          ],
          "scatterternary": [
           {
            "marker": {
             "colorbar": {
              "outlinewidth": 0,
              "ticks": ""
             }
            },
            "type": "scatterternary"
           }
          ],
          "surface": [
           {
            "colorbar": {
             "outlinewidth": 0,
             "ticks": ""
            },
            "colorscale": [
             [
              0,
              "#0d0887"
             ],
             [
              0.1111111111111111,
              "#46039f"
             ],
             [
              0.2222222222222222,
              "#7201a8"
             ],
             [
              0.3333333333333333,
              "#9c179e"
             ],
             [
              0.4444444444444444,
              "#bd3786"
             ],
             [
              0.5555555555555556,
              "#d8576b"
             ],
             [
              0.6666666666666666,
              "#ed7953"
             ],
             [
              0.7777777777777778,
              "#fb9f3a"
             ],
             [
              0.8888888888888888,
              "#fdca26"
             ],
             [
              1,
              "#f0f921"
             ]
            ],
            "type": "surface"
           }
          ],
          "table": [
           {
            "cells": {
             "fill": {
              "color": "#EBF0F8"
             },
             "line": {
              "color": "white"
             }
            },
            "header": {
             "fill": {
              "color": "#C8D4E3"
             },
             "line": {
              "color": "white"
             }
            },
            "type": "table"
           }
          ]
         },
         "layout": {
          "annotationdefaults": {
           "arrowcolor": "#2a3f5f",
           "arrowhead": 0,
           "arrowwidth": 1
          },
          "autotypenumbers": "strict",
          "coloraxis": {
           "colorbar": {
            "outlinewidth": 0,
            "ticks": ""
           }
          },
          "colorscale": {
           "diverging": [
            [
             0,
             "#8e0152"
            ],
            [
             0.1,
             "#c51b7d"
            ],
            [
             0.2,
             "#de77ae"
            ],
            [
             0.3,
             "#f1b6da"
            ],
            [
             0.4,
             "#fde0ef"
            ],
            [
             0.5,
             "#f7f7f7"
            ],
            [
             0.6,
             "#e6f5d0"
            ],
            [
             0.7,
             "#b8e186"
            ],
            [
             0.8,
             "#7fbc41"
            ],
            [
             0.9,
             "#4d9221"
            ],
            [
             1,
             "#276419"
            ]
           ],
           "sequential": [
            [
             0,
             "#0d0887"
            ],
            [
             0.1111111111111111,
             "#46039f"
            ],
            [
             0.2222222222222222,
             "#7201a8"
            ],
            [
             0.3333333333333333,
             "#9c179e"
            ],
            [
             0.4444444444444444,
             "#bd3786"
            ],
            [
             0.5555555555555556,
             "#d8576b"
            ],
            [
             0.6666666666666666,
             "#ed7953"
            ],
            [
             0.7777777777777778,
             "#fb9f3a"
            ],
            [
             0.8888888888888888,
             "#fdca26"
            ],
            [
             1,
             "#f0f921"
            ]
           ],
           "sequentialminus": [
            [
             0,
             "#0d0887"
            ],
            [
             0.1111111111111111,
             "#46039f"
            ],
            [
             0.2222222222222222,
             "#7201a8"
            ],
            [
             0.3333333333333333,
             "#9c179e"
            ],
            [
             0.4444444444444444,
             "#bd3786"
            ],
            [
             0.5555555555555556,
             "#d8576b"
            ],
            [
             0.6666666666666666,
             "#ed7953"
            ],
            [
             0.7777777777777778,
             "#fb9f3a"
            ],
            [
             0.8888888888888888,
             "#fdca26"
            ],
            [
             1,
             "#f0f921"
            ]
           ]
          },
          "colorway": [
           "#636efa",
           "#EF553B",
           "#00cc96",
           "#ab63fa",
           "#FFA15A",
           "#19d3f3",
           "#FF6692",
           "#B6E880",
           "#FF97FF",
           "#FECB52"
          ],
          "font": {
           "color": "#2a3f5f"
          },
          "geo": {
           "bgcolor": "white",
           "lakecolor": "white",
           "landcolor": "#E5ECF6",
           "showlakes": true,
           "showland": true,
           "subunitcolor": "white"
          },
          "hoverlabel": {
           "align": "left"
          },
          "hovermode": "closest",
          "mapbox": {
           "style": "light"
          },
          "paper_bgcolor": "white",
          "plot_bgcolor": "#E5ECF6",
          "polar": {
           "angularaxis": {
            "gridcolor": "white",
            "linecolor": "white",
            "ticks": ""
           },
           "bgcolor": "#E5ECF6",
           "radialaxis": {
            "gridcolor": "white",
            "linecolor": "white",
            "ticks": ""
           }
          },
          "scene": {
           "xaxis": {
            "backgroundcolor": "#E5ECF6",
            "gridcolor": "white",
            "gridwidth": 2,
            "linecolor": "white",
            "showbackground": true,
            "ticks": "",
            "zerolinecolor": "white"
           },
           "yaxis": {
            "backgroundcolor": "#E5ECF6",
            "gridcolor": "white",
            "gridwidth": 2,
            "linecolor": "white",
            "showbackground": true,
            "ticks": "",
            "zerolinecolor": "white"
           },
           "zaxis": {
            "backgroundcolor": "#E5ECF6",
            "gridcolor": "white",
            "gridwidth": 2,
            "linecolor": "white",
            "showbackground": true,
            "ticks": "",
            "zerolinecolor": "white"
           }
          },
          "shapedefaults": {
           "line": {
            "color": "#2a3f5f"
           }
          },
          "ternary": {
           "aaxis": {
            "gridcolor": "white",
            "linecolor": "white",
            "ticks": ""
           },
           "baxis": {
            "gridcolor": "white",
            "linecolor": "white",
            "ticks": ""
           },
           "bgcolor": "#E5ECF6",
           "caxis": {
            "gridcolor": "white",
            "linecolor": "white",
            "ticks": ""
           }
          },
          "title": {
           "x": 0.05
          },
          "xaxis": {
           "automargin": true,
           "gridcolor": "white",
           "linecolor": "white",
           "ticks": "",
           "title": {
            "standoff": 15
           },
           "zerolinecolor": "white",
           "zerolinewidth": 2
          },
          "yaxis": {
           "automargin": true,
           "gridcolor": "white",
           "linecolor": "white",
           "ticks": "",
           "title": {
            "standoff": 15
           },
           "zerolinecolor": "white",
           "zerolinewidth": 2
          }
         }
        },
        "xaxis": {
         "anchor": "y",
         "autorange": true,
         "domain": [
          0,
          1
         ],
         "range": [
          -0.5226700251889169,
          5.5226700251889165
         ],
         "showspikes": false,
         "title": {
          "text": "variable"
         },
         "type": "category"
        },
        "yaxis": {
         "anchor": "x",
         "autorange": true,
         "domain": [
          0,
          1
         ],
         "range": [
          0.7777777777777778,
          5.222222222222222
         ],
         "showspikes": false,
         "title": {
          "text": "value"
         },
         "type": "linear"
        }
       }
      },
      "image/png": "[encoded data removed]",
      "text/html": [
       "<div>                            <div id=\"63e33ffb-4d87-414e-8e60-5e79da45f706\" class=\"plotly-graph-div\" style=\"height:525px; width:100%;\"></div>            <script type=\"text/javascript\">                require([\"plotly\"], function(Plotly) {                    window.PLOTLYENV=window.PLOTLYENV || {};                                    if (document.getElementById(\"63e33ffb-4d87-414e-8e60-5e79da45f706\")) {                    Plotly.newPlot(                        \"63e33ffb-4d87-414e-8e60-5e79da45f706\",                        [{\"alignmentgroup\":\"True\",\"hovertemplate\":\"House typology=Attached row house<br>variable=%{x}<br>value=%{y}<extra></extra>\",\"legendgroup\":\"Attached row house\",\"marker\":{\"color\":\"#636efa\"},\"name\":\"Attached row house\",\"notched\":false,\"offsetgroup\":\"Attached row house\",\"orientation\":\"v\",\"showlegend\":true,\"type\":\"box\",\"x\":[\"summer daylight\",\"summer daylight\",\"summer daylight\",\"summer daylight\",\"summer daylight\",\"summer daylight\",\"summer daylight\",\"summer daylight\",\"summer daylight\",\"summer daylight\",\"summer daylight\",\"summer daylight\",\"summer daylight\",\"summer daylight\",\"summer daylight\",\"summer daylight\",\"summer daylight\",\"summer daylight\",\"summer daylight\",\"summer daylight\",\"summer daylight\",\"summer daylight\",\"summer daylight\",\"summer daylight\",\"summer daylight\",\"summer daylight\",\"summer daylight\",\"summer daylight\",\"summer daylight\",\"summer daylight\",\"summer daylight\",\"summer daylight\",\"summer daylight\",\"summer daylight\",\"summer daylight\",\"summer daylight\",\"summer daylight\",\"summer daylight\",\"summer daylight\",\"summer daylight\",\"summer daylight\",\"summer daylight\",\"summer daylight\",\"summer daylight\",\"summer daylight\",\"summer daylight\",\"summer daylight\",\"summer daylight\",\"summer daylight\",\"summer daylight\",\"summer daylight\",\"summer daylight\",\"summer daylight\",\"summer daylight\",\"summer daylight\",\"summer daylight\",\"summer daylight\",\"summer daylight\",\"summer daylight\",\"summer daylight\",\"summer daylight\",\"summer daylight\",\"summer daylight\",\"summer daylight\",\"summer daylight\",\"summer daylight\",\"summer daylight\",\"summer daylight\",\"summer daylight\",\"summer daylight\",\"summer daylight\",\"summer daylight\",\"summer daylight\",\"summer daylight\",\"summer daylight\",\"summer daylight\",\"summer daylight\",\"summer daylight\",\"summer daylight\",\"summer daylight\",\"summer daylight\",\"summer daylight\",\"summer daylight\",\"summer daylight\",\"summer daylight\",\"summer daylight\",\"summer daylight\",\"summer daylight\",\"summer daylight\",\"summer daylight\",\"summer daylight\",\"summer daylight\",\"summer daylight\",\"summer daylight\",\"summer daylight\",\"summer thermal comfort\",\"summer thermal comfort\",\"summer thermal comfort\",\"summer thermal comfort\",\"summer thermal comfort\",\"summer thermal comfort\",\"summer thermal comfort\",\"summer thermal comfort\",\"summer thermal comfort\",\"summer thermal comfort\",\"summer thermal comfort\",\"summer thermal comfort\",\"summer thermal comfort\",\"summer thermal comfort\",\"summer thermal comfort\",\"summer thermal comfort\",\"summer thermal comfort\",\"summer thermal comfort\",\"summer thermal comfort\",\"summer thermal comfort\",\"summer thermal comfort\",\"summer thermal comfort\",\"summer thermal comfort\",\"summer thermal comfort\",\"summer thermal comfort\",\"summer thermal comfort\",\"summer thermal comfort\",\"summer thermal comfort\",\"summer thermal comfort\",\"summer thermal comfort\",\"summer thermal comfort\",\"summer thermal comfort\",\"summer thermal comfort\",\"summer thermal comfort\",\"summer thermal comfort\",\"summer thermal comfort\",\"summer thermal comfort\",\"summer thermal comfort\",\"summer thermal comfort\",\"summer thermal comfort\",\"summer thermal comfort\",\"summer thermal comfort\",\"summer thermal comfort\",\"summer thermal comfort\",\"summer thermal comfort\",\"summer thermal comfort\",\"summer thermal comfort\",\"summer thermal comfort\",\"summer thermal comfort\",\"summer thermal comfort\",\"summer thermal comfort\",\"summer thermal comfort\",\"summer thermal comfort\",\"summer thermal comfort\",\"summer thermal comfort\",\"summer thermal comfort\",\"summer thermal comfort\",\"summer thermal comfort\",\"summer thermal comfort\",\"summer thermal comfort\",\"summer thermal comfort\",\"summer thermal comfort\",\"summer thermal comfort\",\"summer thermal comfort\",\"summer thermal comfort\",\"summer thermal comfort\",\"summer thermal comfort\",\"summer thermal comfort\",\"summer thermal comfort\",\"summer thermal comfort\",\"summer thermal comfort\",\"summer thermal comfort\",\"summer thermal comfort\",\"summer thermal comfort\",\"summer thermal comfort\",\"summer thermal comfort\",\"summer thermal comfort\",\"summer thermal comfort\",\"summer thermal comfort\",\"summer thermal comfort\",\"summer thermal comfort\",\"summer thermal comfort\",\"summer thermal comfort\",\"summer thermal comfort\",\"summer thermal comfort\",\"summer thermal comfort\",\"summer thermal comfort\",\"summer thermal comfort\",\"summer thermal comfort\",\"summer thermal comfort\",\"summer thermal comfort\",\"summer thermal comfort\",\"summer thermal comfort\",\"summer thermal comfort\",\"summer thermal comfort\",\"summer natural ventilation\",\"summer natural ventilation\",\"summer natural ventilation\",\"summer natural ventilation\",\"summer natural ventilation\",\"summer natural ventilation\",\"summer natural ventilation\",\"summer natural ventilation\",\"summer natural ventilation\",\"summer natural ventilation\",\"summer natural ventilation\",\"summer natural ventilation\",\"summer natural ventilation\",\"summer natural ventilation\",\"summer natural ventilation\",\"summer natural ventilation\",\"summer natural ventilation\",\"summer natural ventilation\",\"summer natural ventilation\",\"summer natural ventilation\",\"summer natural ventilation\",\"summer natural ventilation\",\"summer natural ventilation\",\"summer natural ventilation\",\"summer natural ventilation\",\"summer natural ventilation\",\"summer natural ventilation\",\"summer natural ventilation\",\"summer natural ventilation\",\"summer natural ventilation\",\"summer natural ventilation\",\"summer natural ventilation\",\"summer natural ventilation\",\"summer natural ventilation\",\"summer natural ventilation\",\"summer natural ventilation\",\"summer natural ventilation\",\"summer natural ventilation\",\"summer natural ventilation\",\"summer natural ventilation\",\"summer natural ventilation\",\"summer natural ventilation\",\"summer natural ventilation\",\"summer natural ventilation\",\"summer natural ventilation\",\"summer natural ventilation\",\"summer natural ventilation\",\"summer natural ventilation\",\"summer natural ventilation\",\"summer natural ventilation\",\"summer natural ventilation\",\"summer natural ventilation\",\"summer natural ventilation\",\"summer natural ventilation\",\"summer natural ventilation\",\"summer natural ventilation\",\"summer natural ventilation\",\"summer natural ventilation\",\"summer natural ventilation\",\"summer natural ventilation\",\"summer natural ventilation\",\"summer natural ventilation\",\"summer natural ventilation\",\"summer natural ventilation\",\"summer natural ventilation\",\"summer natural ventilation\",\"summer natural ventilation\",\"summer natural ventilation\",\"summer natural ventilation\",\"summer natural ventilation\",\"summer natural ventilation\",\"summer natural ventilation\",\"summer natural ventilation\",\"summer natural ventilation\",\"summer natural ventilation\",\"summer natural ventilation\",\"summer natural ventilation\",\"summer natural ventilation\",\"summer natural ventilation\",\"summer natural ventilation\",\"summer natural ventilation\",\"summer natural ventilation\",\"summer natural ventilation\",\"summer natural ventilation\",\"summer natural ventilation\",\"summer natural ventilation\",\"summer natural ventilation\",\"summer natural ventilation\",\"summer natural ventilation\",\"summer natural ventilation\",\"summer natural ventilation\",\"summer natural ventilation\",\"summer natural ventilation\",\"summer natural ventilation\",\"summer natural ventilation\",\"Winter daylight\",\"Winter daylight\",\"Winter daylight\",\"Winter daylight\",\"Winter daylight\",\"Winter daylight\",\"Winter daylight\",\"Winter daylight\",\"Winter daylight\",\"Winter daylight\",\"Winter daylight\",\"Winter daylight\",\"Winter daylight\",\"Winter daylight\",\"Winter daylight\",\"Winter daylight\",\"Winter daylight\",\"Winter daylight\",\"Winter daylight\",\"Winter daylight\",\"Winter daylight\",\"Winter daylight\",\"Winter daylight\",\"Winter daylight\",\"Winter daylight\",\"Winter daylight\",\"Winter daylight\",\"Winter daylight\",\"Winter daylight\",\"Winter daylight\",\"Winter daylight\",\"Winter daylight\",\"Winter daylight\",\"Winter daylight\",\"Winter daylight\",\"Winter daylight\",\"Winter daylight\",\"Winter daylight\",\"Winter daylight\",\"Winter daylight\",\"Winter daylight\",\"Winter daylight\",\"Winter daylight\",\"Winter daylight\",\"Winter daylight\",\"Winter daylight\",\"Winter daylight\",\"Winter daylight\",\"Winter daylight\",\"Winter daylight\",\"Winter daylight\",\"Winter daylight\",\"Winter daylight\",\"Winter daylight\",\"Winter daylight\",\"Winter daylight\",\"Winter daylight\",\"Winter daylight\",\"Winter daylight\",\"Winter daylight\",\"Winter daylight\",\"Winter daylight\",\"Winter daylight\",\"Winter daylight\",\"Winter daylight\",\"Winter daylight\",\"Winter daylight\",\"Winter daylight\",\"Winter daylight\",\"Winter daylight\",\"Winter daylight\",\"Winter daylight\",\"Winter daylight\",\"Winter daylight\",\"Winter daylight\",\"Winter daylight\",\"Winter daylight\",\"Winter daylight\",\"Winter daylight\",\"Winter daylight\",\"Winter daylight\",\"Winter daylight\",\"Winter daylight\",\"Winter daylight\",\"Winter daylight\",\"Winter daylight\",\"Winter daylight\",\"Winter daylight\",\"Winter daylight\",\"Winter daylight\",\"Winter daylight\",\"Winter daylight\",\"Winter daylight\",\"Winter daylight\",\"Winter daylight\",\"Winter thermal comfort\",\"Winter thermal comfort\",\"Winter thermal comfort\",\"Winter thermal comfort\",\"Winter thermal comfort\",\"Winter thermal comfort\",\"Winter thermal comfort\",\"Winter thermal comfort\",\"Winter thermal comfort\",\"Winter thermal comfort\",\"Winter thermal comfort\",\"Winter thermal comfort\",\"Winter thermal comfort\",\"Winter thermal comfort\",\"Winter thermal comfort\",\"Winter thermal comfort\",\"Winter thermal comfort\",\"Winter thermal comfort\",\"Winter thermal comfort\",\"Winter thermal comfort\",\"Winter thermal comfort\",\"Winter thermal comfort\",\"Winter thermal comfort\",\"Winter thermal comfort\",\"Winter thermal comfort\",\"Winter thermal comfort\",\"Winter thermal comfort\",\"Winter thermal comfort\",\"Winter thermal comfort\",\"Winter thermal comfort\",\"Winter thermal comfort\",\"Winter thermal comfort\",\"Winter thermal comfort\",\"Winter thermal comfort\",\"Winter thermal comfort\",\"Winter thermal comfort\",\"Winter thermal comfort\",\"Winter thermal comfort\",\"Winter thermal comfort\",\"Winter thermal comfort\",\"Winter thermal comfort\",\"Winter thermal comfort\",\"Winter thermal comfort\",\"Winter thermal comfort\",\"Winter thermal comfort\",\"Winter thermal comfort\",\"Winter thermal comfort\",\"Winter thermal comfort\",\"Winter thermal comfort\",\"Winter thermal comfort\",\"Winter thermal comfort\",\"Winter thermal comfort\",\"Winter thermal comfort\",\"Winter thermal comfort\",\"Winter thermal comfort\",\"Winter thermal comfort\",\"Winter thermal comfort\",\"Winter thermal comfort\",\"Winter thermal comfort\",\"Winter thermal comfort\",\"Winter thermal comfort\",\"Winter thermal comfort\",\"Winter thermal comfort\",\"Winter thermal comfort\",\"Winter thermal comfort\",\"Winter thermal comfort\",\"Winter thermal comfort\",\"Winter thermal comfort\",\"Winter thermal comfort\",\"Winter thermal comfort\",\"Winter thermal comfort\",\"Winter thermal comfort\",\"Winter thermal comfort\",\"Winter thermal comfort\",\"Winter thermal comfort\",\"Winter thermal comfort\",\"Winter thermal comfort\",\"Winter thermal comfort\",\"Winter thermal comfort\",\"Winter thermal comfort\",\"Winter thermal comfort\",\"Winter thermal comfort\",\"Winter thermal comfort\",\"Winter thermal comfort\",\"Winter thermal comfort\",\"Winter thermal comfort\",\"Winter thermal comfort\",\"Winter thermal comfort\",\"Winter thermal comfort\",\"Winter thermal comfort\",\"Winter thermal comfort\",\"Winter thermal comfort\",\"Winter thermal comfort\",\"Winter thermal comfort\",\"Winter thermal comfort\",\"Winter natural ventilation\",\"Winter natural ventilation\",\"Winter natural ventilation\",\"Winter natural ventilation\",\"Winter natural ventilation\",\"Winter natural ventilation\",\"Winter natural ventilation\",\"Winter natural ventilation\",\"Winter natural ventilation\",\"Winter natural ventilation\",\"Winter natural ventilation\",\"Winter natural ventilation\",\"Winter natural ventilation\",\"Winter natural ventilation\",\"Winter natural ventilation\",\"Winter natural ventilation\",\"Winter natural ventilation\",\"Winter natural ventilation\",\"Winter natural ventilation\",\"Winter natural ventilation\",\"Winter natural ventilation\",\"Winter natural ventilation\",\"Winter natural ventilation\",\"Winter natural ventilation\",\"Winter natural ventilation\",\"Winter natural ventilation\",\"Winter natural ventilation\",\"Winter natural ventilation\",\"Winter natural ventilation\",\"Winter natural ventilation\",\"Winter natural ventilation\",\"Winter natural ventilation\",\"Winter natural ventilation\",\"Winter natural ventilation\",\"Winter natural ventilation\",\"Winter natural ventilation\",\"Winter natural ventilation\",\"Winter natural ventilation\",\"Winter natural ventilation\",\"Winter natural ventilation\",\"Winter natural ventilation\",\"Winter natural ventilation\",\"Winter natural ventilation\",\"Winter natural ventilation\",\"Winter natural ventilation\",\"Winter natural ventilation\",\"Winter natural ventilation\",\"Winter natural ventilation\",\"Winter natural ventilation\",\"Winter natural ventilation\",\"Winter natural ventilation\",\"Winter natural ventilation\",\"Winter natural ventilation\",\"Winter natural ventilation\",\"Winter natural ventilation\",\"Winter natural ventilation\",\"Winter natural ventilation\",\"Winter natural ventilation\",\"Winter natural ventilation\",\"Winter natural ventilation\",\"Winter natural ventilation\",\"Winter natural ventilation\",\"Winter natural ventilation\",\"Winter natural ventilation\",\"Winter natural ventilation\",\"Winter natural ventilation\",\"Winter natural ventilation\",\"Winter natural ventilation\",\"Winter natural ventilation\",\"Winter natural ventilation\",\"Winter natural ventilation\",\"Winter natural ventilation\",\"Winter natural ventilation\",\"Winter natural ventilation\",\"Winter natural ventilation\",\"Winter natural ventilation\",\"Winter natural ventilation\",\"Winter natural ventilation\",\"Winter natural ventilation\",\"Winter natural ventilation\",\"Winter natural ventilation\",\"Winter natural ventilation\",\"Winter natural ventilation\",\"Winter natural ventilation\",\"Winter natural ventilation\",\"Winter natural ventilation\",\"Winter natural ventilation\",\"Winter natural ventilation\",\"Winter natural ventilation\",\"Winter natural ventilation\",\"Winter natural ventilation\",\"Winter natural ventilation\",\"Winter natural ventilation\",\"Winter natural ventilation\",\"Winter natural ventilation\"],\"x0\":\" \",\"xaxis\":\"x\",\"y\":[4,5,4,4,1,1,5,3,4,4,4,4,4,3,3,4,3,4,4,4,4,3,3,2,4,2,5,4,4,4,4,4,3,3,4,3,4,4,3,3,4,4,4,2,4,4,4,3,4,3,3,4,4,4,4,5,4,4,4,4,4,4,3,2,4,5,3,3,4,4,2,1,3,3,3,1,3,3,5,3,1,5,4,4,3,2,5,3,4,4,3,3,4,4,3,2,1,3,3,1,1,3,4,3,4,4,4,2,3,3,3,4,3,3,2,4,4,2,1,3,2,5,3,3,3,4,3,3,1,4,3,3,3,2,3,3,3,2,3,4,3,3,3,4,3,2,3,3,5,3,4,4,4,2,3,3,3,2,2,4,5,4,3,3,3,4,1,4,3,1,1,4,1,4,2,1,4,3,4,4,2,1,3,2,3,3,3,4,2,3,3,3,3,3,1,1,4,4,3,4,4,4,2,4,3,3,5,3,3,3,4,4,1,2,4,2,3,4,4,3,4,4,3,2,5,3,3,4,3,2,4,3,4,3,4,4,3,3,3,3,2,3,4,4,3,5,4,4,2,4,4,4,3,2,4,5,5,3,3,4,3,1,4,4,3,1,4,3,4,1,1,4,3,4,3,3,3,3,3,4,3,2,4,3,3,2,5,4,4,1,1,5,1,4,4,3,3,4,3,3,4,3,2,4,4,3,4,3,2,3,3,3,4,4,4,4,4,3,1,4,2,3,4,4,3,4,3,4,2,4,4,3,3,4,3,3,3,4,4,4,5,4,4,3,3,4,3,3,2,3,5,5,3,4,4,2,1,3,3,2,1,3,5,5,3,1,4,4,3,3,2,4,4,4,4,3,2,4,4,3,2,3,4,4,1,1,4,4,4,4,3,4,2,3,3,3,3,4,3,3,4,4,3,3,3,3,3,3,3,3,4,3,3,4,4,3,3,4,3,4,3,4,2,3,4,3,4,3,3,3,4,3,3,4,4,5,3,4,3,3,4,3,2,2,3,5,4,3,3,3,4,1,4,3,1,1,4,5,5,3,1,4,4,4,4,3,3,3,2,3,4,3,4,3,3,3,3,3,3,1,1,4,4,4,4,3,4,2,4,3,3,5,3,3,3,3,4,4,2,3,3,3,3,3,3,4,3,3,3,4,3,3,4,3,4,4,4,3,3,4,4,3,2,4,3,3,4,4,4,4,5,3,4,3,3,4,4,2,2,3,5,3,3,3,4,4,1,4,4,5,1,4,5,5,2,1,5,3,4,3,4,3,3,3,4,3,3,4,3,2],\"y0\":\" \",\"yaxis\":\"y\"},{\"alignmentgroup\":\"True\",\"hovertemplate\":\"House typology=Detached house<br>variable=%{x}<br>value=%{y}<extra></extra>\",\"legendgroup\":\"Detached house\",\"marker\":{\"color\":\"#EF553B\"},\"name\":\"Detached house\",\"notched\":false,\"offsetgroup\":\"Detached house\",\"orientation\":\"v\",\"showlegend\":true,\"type\":\"box\",\"x\":[\"summer daylight\",\"summer daylight\",\"summer daylight\",\"summer daylight\",\"summer daylight\",\"summer daylight\",\"summer daylight\",\"summer daylight\",\"summer daylight\",\"summer daylight\",\"summer daylight\",\"summer daylight\",\"summer daylight\",\"summer thermal comfort\",\"summer thermal comfort\",\"summer thermal comfort\",\"summer thermal comfort\",\"summer thermal comfort\",\"summer thermal comfort\",\"summer thermal comfort\",\"summer thermal comfort\",\"summer thermal comfort\",\"summer thermal comfort\",\"summer thermal comfort\",\"summer thermal comfort\",\"summer thermal comfort\",\"summer natural ventilation\",\"summer natural ventilation\",\"summer natural ventilation\",\"summer natural ventilation\",\"summer natural ventilation\",\"summer natural ventilation\",\"summer natural ventilation\",\"summer natural ventilation\",\"summer natural ventilation\",\"summer natural ventilation\",\"summer natural ventilation\",\"summer natural ventilation\",\"summer natural ventilation\",\"Winter daylight\",\"Winter daylight\",\"Winter daylight\",\"Winter daylight\",\"Winter daylight\",\"Winter daylight\",\"Winter daylight\",\"Winter daylight\",\"Winter daylight\",\"Winter daylight\",\"Winter daylight\",\"Winter daylight\",\"Winter daylight\",\"Winter thermal comfort\",\"Winter thermal comfort\",\"Winter thermal comfort\",\"Winter thermal comfort\",\"Winter thermal comfort\",\"Winter thermal comfort\",\"Winter thermal comfort\",\"Winter thermal comfort\",\"Winter thermal comfort\",\"Winter thermal comfort\",\"Winter thermal comfort\",\"Winter thermal comfort\",\"Winter thermal comfort\",\"Winter natural ventilation\",\"Winter natural ventilation\",\"Winter natural ventilation\",\"Winter natural ventilation\",\"Winter natural ventilation\",\"Winter natural ventilation\",\"Winter natural ventilation\",\"Winter natural ventilation\",\"Winter natural ventilation\",\"Winter natural ventilation\",\"Winter natural ventilation\",\"Winter natural ventilation\",\"Winter natural ventilation\"],\"x0\":\" \",\"xaxis\":\"x\",\"y\":[4,3,4,5,3,4,5,5,5,5,4,4,5,3,3,3,3,3,2,3,3,3,4,3,3,4,4,3,5,3,2,2,5,5,5,4,3,4,4,4,3,3,4,3,3,5,5,5,5,4,4,5,2,4,4,5,3,4,4,4,4,4,4,3,4,4,3,4,5,2,3,4,5,5,4,3,4,4],\"y0\":\" \",\"yaxis\":\"y\"},{\"alignmentgroup\":\"True\",\"hovertemplate\":\"House typology=Apartment<br>variable=%{x}<br>value=%{y}<extra></extra>\",\"legendgroup\":\"Apartment\",\"marker\":{\"color\":\"#00cc96\"},\"name\":\"Apartment\",\"notched\":false,\"offsetgroup\":\"Apartment\",\"orientation\":\"v\",\"showlegend\":true,\"type\":\"box\",\"x\":[\"summer daylight\",\"summer daylight\",\"summer daylight\",\"summer daylight\",\"summer daylight\",\"summer daylight\",\"summer daylight\",\"summer daylight\",\"summer daylight\",\"summer daylight\",\"summer daylight\",\"summer daylight\",\"summer daylight\",\"summer daylight\",\"summer daylight\",\"summer daylight\",\"summer daylight\",\"summer daylight\",\"summer daylight\",\"summer daylight\",\"summer daylight\",\"summer daylight\",\"summer daylight\",\"summer daylight\",\"summer daylight\",\"summer daylight\",\"summer daylight\",\"summer daylight\",\"summer daylight\",\"summer daylight\",\"summer daylight\",\"summer daylight\",\"summer daylight\",\"summer daylight\",\"summer daylight\",\"summer daylight\",\"summer daylight\",\"summer daylight\",\"summer daylight\",\"summer daylight\",\"summer daylight\",\"summer daylight\",\"summer daylight\",\"summer thermal comfort\",\"summer thermal comfort\",\"summer thermal comfort\",\"summer thermal comfort\",\"summer thermal comfort\",\"summer thermal comfort\",\"summer thermal comfort\",\"summer thermal comfort\",\"summer thermal comfort\",\"summer thermal comfort\",\"summer thermal comfort\",\"summer thermal comfort\",\"summer thermal comfort\",\"summer thermal comfort\",\"summer thermal comfort\",\"summer thermal comfort\",\"summer thermal comfort\",\"summer thermal comfort\",\"summer thermal comfort\",\"summer thermal comfort\",\"summer thermal comfort\",\"summer thermal comfort\",\"summer thermal comfort\",\"summer thermal comfort\",\"summer thermal comfort\",\"summer thermal comfort\",\"summer thermal comfort\",\"summer thermal comfort\",\"summer thermal comfort\",\"summer thermal comfort\",\"summer thermal comfort\",\"summer thermal comfort\",\"summer thermal comfort\",\"summer thermal comfort\",\"summer thermal comfort\",\"summer thermal comfort\",\"summer thermal comfort\",\"summer thermal comfort\",\"summer thermal comfort\",\"summer thermal comfort\",\"summer thermal comfort\",\"summer thermal comfort\",\"summer thermal comfort\",\"summer natural ventilation\",\"summer natural ventilation\",\"summer natural ventilation\",\"summer natural ventilation\",\"summer natural ventilation\",\"summer natural ventilation\",\"summer natural ventilation\",\"summer natural ventilation\",\"summer natural ventilation\",\"summer natural ventilation\",\"summer natural ventilation\",\"summer natural ventilation\",\"summer natural ventilation\",\"summer natural ventilation\",\"summer natural ventilation\",\"summer natural ventilation\",\"summer natural ventilation\",\"summer natural ventilation\",\"summer natural ventilation\",\"summer natural ventilation\",\"summer natural ventilation\",\"summer natural ventilation\",\"summer natural ventilation\",\"summer natural ventilation\",\"summer natural ventilation\",\"summer natural ventilation\",\"summer natural ventilation\",\"summer natural ventilation\",\"summer natural ventilation\",\"summer natural ventilation\",\"summer natural ventilation\",\"summer natural ventilation\",\"summer natural ventilation\",\"summer natural ventilation\",\"summer natural ventilation\",\"summer natural ventilation\",\"summer natural ventilation\",\"summer natural ventilation\",\"summer natural ventilation\",\"summer natural ventilation\",\"summer natural ventilation\",\"summer natural ventilation\",\"summer natural ventilation\",\"Winter daylight\",\"Winter daylight\",\"Winter daylight\",\"Winter daylight\",\"Winter daylight\",\"Winter daylight\",\"Winter daylight\",\"Winter daylight\",\"Winter daylight\",\"Winter daylight\",\"Winter daylight\",\"Winter daylight\",\"Winter daylight\",\"Winter daylight\",\"Winter daylight\",\"Winter daylight\",\"Winter daylight\",\"Winter daylight\",\"Winter daylight\",\"Winter daylight\",\"Winter daylight\",\"Winter daylight\",\"Winter daylight\",\"Winter daylight\",\"Winter daylight\",\"Winter daylight\",\"Winter daylight\",\"Winter daylight\",\"Winter daylight\",\"Winter daylight\",\"Winter daylight\",\"Winter daylight\",\"Winter daylight\",\"Winter daylight\",\"Winter daylight\",\"Winter daylight\",\"Winter daylight\",\"Winter daylight\",\"Winter daylight\",\"Winter daylight\",\"Winter daylight\",\"Winter daylight\",\"Winter daylight\",\"Winter thermal comfort\",\"Winter thermal comfort\",\"Winter thermal comfort\",\"Winter thermal comfort\",\"Winter thermal comfort\",\"Winter thermal comfort\",\"Winter thermal comfort\",\"Winter thermal comfort\",\"Winter thermal comfort\",\"Winter thermal comfort\",\"Winter thermal comfort\",\"Winter thermal comfort\",\"Winter thermal comfort\",\"Winter thermal comfort\",\"Winter thermal comfort\",\"Winter thermal comfort\",\"Winter thermal comfort\",\"Winter thermal comfort\",\"Winter thermal comfort\",\"Winter thermal comfort\",\"Winter thermal comfort\",\"Winter thermal comfort\",\"Winter thermal comfort\",\"Winter thermal comfort\",\"Winter thermal comfort\",\"Winter thermal comfort\",\"Winter thermal comfort\",\"Winter thermal comfort\",\"Winter thermal comfort\",\"Winter thermal comfort\",\"Winter thermal comfort\",\"Winter thermal comfort\",\"Winter thermal comfort\",\"Winter thermal comfort\",\"Winter thermal comfort\",\"Winter thermal comfort\",\"Winter thermal comfort\",\"Winter thermal comfort\",\"Winter thermal comfort\",\"Winter thermal comfort\",\"Winter thermal comfort\",\"Winter thermal comfort\",\"Winter thermal comfort\",\"Winter natural ventilation\",\"Winter natural ventilation\",\"Winter natural ventilation\",\"Winter natural ventilation\",\"Winter natural ventilation\",\"Winter natural ventilation\",\"Winter natural ventilation\",\"Winter natural ventilation\",\"Winter natural ventilation\",\"Winter natural ventilation\",\"Winter natural ventilation\",\"Winter natural ventilation\",\"Winter natural ventilation\",\"Winter natural ventilation\",\"Winter natural ventilation\",\"Winter natural ventilation\",\"Winter natural ventilation\",\"Winter natural ventilation\",\"Winter natural ventilation\",\"Winter natural ventilation\",\"Winter natural ventilation\",\"Winter natural ventilation\",\"Winter natural ventilation\",\"Winter natural ventilation\",\"Winter natural ventilation\",\"Winter natural ventilation\",\"Winter natural ventilation\",\"Winter natural ventilation\",\"Winter natural ventilation\",\"Winter natural ventilation\",\"Winter natural ventilation\",\"Winter natural ventilation\",\"Winter natural ventilation\",\"Winter natural ventilation\",\"Winter natural ventilation\",\"Winter natural ventilation\",\"Winter natural ventilation\",\"Winter natural ventilation\",\"Winter natural ventilation\",\"Winter natural ventilation\",\"Winter natural ventilation\",\"Winter natural ventilation\",\"Winter natural ventilation\"],\"x0\":\" \",\"xaxis\":\"x\",\"y\":[4,2,4,4,4,5,4,2,4,4,5,4,5,2,5,5,4,4,2,4,4,4,5,5,2,2,4,3,3,2,3,3,2,3,1,3,3,3,4,3,5,3,2,4,4,4,4,3,1,3,2,3,3,3,4,5,3,1,4,4,4,1,3,4,3,4,5,1,1,4,3,2,1,3,3,1,4,1,4,3,1,4,4,1,3,2,4,4,4,4,3,4,3,2,4,3,4,4,3,3,5,4,4,4,1,4,4,3,4,4,2,2,5,3,2,1,3,3,2,3,1,3,2,2,4,4,3,3,2,4,3,4,4,4,5,4,2,4,4,4,4,5,2,5,5,3,4,2,3,4,4,5,5,2,2,4,3,3,2,3,3,1,2,1,3,3,3,4,3,5,3,1,4,4,4,4,4,1,3,2,5,3,3,4,5,3,3,5,4,4,1,3,4,3,4,5,2,2,4,3,2,2,3,3,1,4,1,3,3,3,4,4,1,3,1,4,4,4,4,4,4,3,2,4,3,4,4,5,3,4,5,4,4,2,3,4,3,4,4,2,2,4,3,2,2,3,3,1,4,1,4,3,2,4,4,3,3,1],\"y0\":\" \",\"yaxis\":\"y\"},{\"alignmentgroup\":\"True\",\"hovertemplate\":\"House typology=semi- detached house<br>variable=%{x}<br>value=%{y}<extra></extra>\",\"legendgroup\":\"semi- detached house\",\"marker\":{\"color\":\"#ab63fa\"},\"name\":\"semi- detached house\",\"notched\":false,\"offsetgroup\":\"semi- detached house\",\"orientation\":\"v\",\"showlegend\":true,\"type\":\"box\",\"x\":[\"summer daylight\",\"summer daylight\",\"summer thermal comfort\",\"summer thermal comfort\",\"summer natural ventilation\",\"summer natural ventilation\",\"Winter daylight\",\"Winter daylight\",\"Winter thermal comfort\",\"Winter thermal comfort\",\"Winter natural ventilation\",\"Winter natural ventilation\"],\"x0\":\" \",\"xaxis\":\"x\",\"y\":[2,3,4,3,4,3,2,3,4,3,4,3],\"y0\":\" \",\"yaxis\":\"y\"}],                        {\"boxmode\":\"group\",\"legend\":{\"title\":{\"text\":\"House typology\"},\"tracegroupgap\":0},\"margin\":{\"t\":60},\"template\":{\"data\":{\"bar\":[{\"error_x\":{\"color\":\"#2a3f5f\"},\"error_y\":{\"color\":\"#2a3f5f\"},\"marker\":{\"line\":{\"color\":\"#E5ECF6\",\"width\":0.5},\"pattern\":{\"fillmode\":\"overlay\",\"size\":10,\"solidity\":0.2}},\"type\":\"bar\"}],\"barpolar\":[{\"marker\":{\"line\":{\"color\":\"#E5ECF6\",\"width\":0.5},\"pattern\":{\"fillmode\":\"overlay\",\"size\":10,\"solidity\":0.2}},\"type\":\"barpolar\"}],\"carpet\":[{\"aaxis\":{\"endlinecolor\":\"#2a3f5f\",\"gridcolor\":\"white\",\"linecolor\":\"white\",\"minorgridcolor\":\"white\",\"startlinecolor\":\"#2a3f5f\"},\"baxis\":{\"endlinecolor\":\"#2a3f5f\",\"gridcolor\":\"white\",\"linecolor\":\"white\",\"minorgridcolor\":\"white\",\"startlinecolor\":\"#2a3f5f\"},\"type\":\"carpet\"}],\"choropleth\":[{\"colorbar\":{\"outlinewidth\":0,\"ticks\":\"\"},\"type\":\"choropleth\"}],\"contour\":[{\"colorbar\":{\"outlinewidth\":0,\"ticks\":\"\"},\"colorscale\":[[0.0,\"#0d0887\"],[0.1111111111111111,\"#46039f\"],[0.2222222222222222,\"#7201a8\"],[0.3333333333333333,\"#9c179e\"],[0.4444444444444444,\"#bd3786\"],[0.5555555555555556,\"#d8576b\"],[0.6666666666666666,\"#ed7953\"],[0.7777777777777778,\"#fb9f3a\"],[0.8888888888888888,\"#fdca26\"],[1.0,\"#f0f921\"]],\"type\":\"contour\"}],\"contourcarpet\":[{\"colorbar\":{\"outlinewidth\":0,\"ticks\":\"\"},\"type\":\"contourcarpet\"}],\"heatmap\":[{\"colorbar\":{\"outlinewidth\":0,\"ticks\":\"\"},\"colorscale\":[[0.0,\"#0d0887\"],[0.1111111111111111,\"#46039f\"],[0.2222222222222222,\"#7201a8\"],[0.3333333333333333,\"#9c179e\"],[0.4444444444444444,\"#bd3786\"],[0.5555555555555556,\"#d8576b\"],[0.6666666666666666,\"#ed7953\"],[0.7777777777777778,\"#fb9f3a\"],[0.8888888888888888,\"#fdca26\"],[1.0,\"#f0f921\"]],\"type\":\"heatmap\"}],\"heatmapgl\":[{\"colorbar\":{\"outlinewidth\":0,\"ticks\":\"\"},\"colorscale\":[[0.0,\"#0d0887\"],[0.1111111111111111,\"#46039f\"],[0.2222222222222222,\"#7201a8\"],[0.3333333333333333,\"#9c179e\"],[0.4444444444444444,\"#bd3786\"],[0.5555555555555556,\"#d8576b\"],[0.6666666666666666,\"#ed7953\"],[0.7777777777777778,\"#fb9f3a\"],[0.8888888888888888,\"#fdca26\"],[1.0,\"#f0f921\"]],\"type\":\"heatmapgl\"}],\"histogram\":[{\"marker\":{\"pattern\":{\"fillmode\":\"overlay\",\"size\":10,\"solidity\":0.2}},\"type\":\"histogram\"}],\"histogram2d\":[{\"colorbar\":{\"outlinewidth\":0,\"ticks\":\"\"},\"colorscale\":[[0.0,\"#0d0887\"],[0.1111111111111111,\"#46039f\"],[0.2222222222222222,\"#7201a8\"],[0.3333333333333333,\"#9c179e\"],[0.4444444444444444,\"#bd3786\"],[0.5555555555555556,\"#d8576b\"],[0.6666666666666666,\"#ed7953\"],[0.7777777777777778,\"#fb9f3a\"],[0.8888888888888888,\"#fdca26\"],[1.0,\"#f0f921\"]],\"type\":\"histogram2d\"}],\"histogram2dcontour\":[{\"colorbar\":{\"outlinewidth\":0,\"ticks\":\"\"},\"colorscale\":[[0.0,\"#0d0887\"],[0.1111111111111111,\"#46039f\"],[0.2222222222222222,\"#7201a8\"],[0.3333333333333333,\"#9c179e\"],[0.4444444444444444,\"#bd3786\"],[0.5555555555555556,\"#d8576b\"],[0.6666666666666666,\"#ed7953\"],[0.7777777777777778,\"#fb9f3a\"],[0.8888888888888888,\"#fdca26\"],[1.0,\"#f0f921\"]],\"type\":\"histogram2dcontour\"}],\"mesh3d\":[{\"colorbar\":{\"outlinewidth\":0,\"ticks\":\"\"},\"type\":\"mesh3d\"}],\"parcoords\":[{\"line\":{\"colorbar\":{\"outlinewidth\":0,\"ticks\":\"\"}},\"type\":\"parcoords\"}],\"pie\":[{\"automargin\":true,\"type\":\"pie\"}],\"scatter\":[{\"marker\":{\"colorbar\":{\"outlinewidth\":0,\"ticks\":\"\"}},\"type\":\"scatter\"}],\"scatter3d\":[{\"line\":{\"colorbar\":{\"outlinewidth\":0,\"ticks\":\"\"}},\"marker\":{\"colorbar\":{\"outlinewidth\":0,\"ticks\":\"\"}},\"type\":\"scatter3d\"}],\"scattercarpet\":[{\"marker\":{\"colorbar\":{\"outlinewidth\":0,\"ticks\":\"\"}},\"type\":\"scattercarpet\"}],\"scattergeo\":[{\"marker\":{\"colorbar\":{\"outlinewidth\":0,\"ticks\":\"\"}},\"type\":\"scattergeo\"}],\"scattergl\":[{\"marker\":{\"colorbar\":{\"outlinewidth\":0,\"ticks\":\"\"}},\"type\":\"scattergl\"}],\"scattermapbox\":[{\"marker\":{\"colorbar\":{\"outlinewidth\":0,\"ticks\":\"\"}},\"type\":\"scattermapbox\"}],\"scatterpolar\":[{\"marker\":{\"colorbar\":{\"outlinewidth\":0,\"ticks\":\"\"}},\"type\":\"scatterpolar\"}],\"scatterpolargl\":[{\"marker\":{\"colorbar\":{\"outlinewidth\":0,\"ticks\":\"\"}},\"type\":\"scatterpolargl\"}],\"scatterternary\":[{\"marker\":{\"colorbar\":{\"outlinewidth\":0,\"ticks\":\"\"}},\"type\":\"scatterternary\"}],\"surface\":[{\"colorbar\":{\"outlinewidth\":0,\"ticks\":\"\"},\"colorscale\":[[0.0,\"#0d0887\"],[0.1111111111111111,\"#46039f\"],[0.2222222222222222,\"#7201a8\"],[0.3333333333333333,\"#9c179e\"],[0.4444444444444444,\"#bd3786\"],[0.5555555555555556,\"#d8576b\"],[0.6666666666666666,\"#ed7953\"],[0.7777777777777778,\"#fb9f3a\"],[0.8888888888888888,\"#fdca26\"],[1.0,\"#f0f921\"]],\"type\":\"surface\"}],\"table\":[{\"cells\":{\"fill\":{\"color\":\"#EBF0F8\"},\"line\":{\"color\":\"white\"}},\"header\":{\"fill\":{\"color\":\"#C8D4E3\"},\"line\":{\"color\":\"white\"}},\"type\":\"table\"}]},\"layout\":{\"annotationdefaults\":{\"arrowcolor\":\"#2a3f5f\",\"arrowhead\":0,\"arrowwidth\":1},\"autotypenumbers\":\"strict\",\"coloraxis\":{\"colorbar\":{\"outlinewidth\":0,\"ticks\":\"\"}},\"colorscale\":{\"diverging\":[[0,\"#8e0152\"],[0.1,\"#c51b7d\"],[0.2,\"#de77ae\"],[0.3,\"#f1b6da\"],[0.4,\"#fde0ef\"],[0.5,\"#f7f7f7\"],[0.6,\"#e6f5d0\"],[0.7,\"#b8e186\"],[0.8,\"#7fbc41\"],[0.9,\"#4d9221\"],[1,\"#276419\"]],\"sequential\":[[0.0,\"#0d0887\"],[0.1111111111111111,\"#46039f\"],[0.2222222222222222,\"#7201a8\"],[0.3333333333333333,\"#9c179e\"],[0.4444444444444444,\"#bd3786\"],[0.5555555555555556,\"#d8576b\"],[0.6666666666666666,\"#ed7953\"],[0.7777777777777778,\"#fb9f3a\"],[0.8888888888888888,\"#fdca26\"],[1.0,\"#f0f921\"]],\"sequentialminus\":[[0.0,\"#0d0887\"],[0.1111111111111111,\"#46039f\"],[0.2222222222222222,\"#7201a8\"],[0.3333333333333333,\"#9c179e\"],[0.4444444444444444,\"#bd3786\"],[0.5555555555555556,\"#d8576b\"],[0.6666666666666666,\"#ed7953\"],[0.7777777777777778,\"#fb9f3a\"],[0.8888888888888888,\"#fdca26\"],[1.0,\"#f0f921\"]]},\"colorway\":[\"#636efa\",\"#EF553B\",\"#00cc96\",\"#ab63fa\",\"#FFA15A\",\"#19d3f3\",\"#FF6692\",\"#B6E880\",\"#FF97FF\",\"#FECB52\"],\"font\":{\"color\":\"#2a3f5f\"},\"geo\":{\"bgcolor\":\"white\",\"lakecolor\":\"white\",\"landcolor\":\"#E5ECF6\",\"showlakes\":true,\"showland\":true,\"subunitcolor\":\"white\"},\"hoverlabel\":{\"align\":\"left\"},\"hovermode\":\"closest\",\"mapbox\":{\"style\":\"light\"},\"paper_bgcolor\":\"white\",\"plot_bgcolor\":\"#E5ECF6\",\"polar\":{\"angularaxis\":{\"gridcolor\":\"white\",\"linecolor\":\"white\",\"ticks\":\"\"},\"bgcolor\":\"#E5ECF6\",\"radialaxis\":{\"gridcolor\":\"white\",\"linecolor\":\"white\",\"ticks\":\"\"}},\"scene\":{\"xaxis\":{\"backgroundcolor\":\"#E5ECF6\",\"gridcolor\":\"white\",\"gridwidth\":2,\"linecolor\":\"white\",\"showbackground\":true,\"ticks\":\"\",\"zerolinecolor\":\"white\"},\"yaxis\":{\"backgroundcolor\":\"#E5ECF6\",\"gridcolor\":\"white\",\"gridwidth\":2,\"linecolor\":\"white\",\"showbackground\":true,\"ticks\":\"\",\"zerolinecolor\":\"white\"},\"zaxis\":{\"backgroundcolor\":\"#E5ECF6\",\"gridcolor\":\"white\",\"gridwidth\":2,\"linecolor\":\"white\",\"showbackground\":true,\"ticks\":\"\",\"zerolinecolor\":\"white\"}},\"shapedefaults\":{\"line\":{\"color\":\"#2a3f5f\"}},\"ternary\":{\"aaxis\":{\"gridcolor\":\"white\",\"linecolor\":\"white\",\"ticks\":\"\"},\"baxis\":{\"gridcolor\":\"white\",\"linecolor\":\"white\",\"ticks\":\"\"},\"bgcolor\":\"#E5ECF6\",\"caxis\":{\"gridcolor\":\"white\",\"linecolor\":\"white\",\"ticks\":\"\"}},\"title\":{\"x\":0.05},\"xaxis\":{\"automargin\":true,\"gridcolor\":\"white\",\"linecolor\":\"white\",\"ticks\":\"\",\"title\":{\"standoff\":15},\"zerolinecolor\":\"white\",\"zerolinewidth\":2},\"yaxis\":{\"automargin\":true,\"gridcolor\":\"white\",\"linecolor\":\"white\",\"ticks\":\"\",\"title\":{\"standoff\":15},\"zerolinecolor\":\"white\",\"zerolinewidth\":2}}},\"xaxis\":{\"anchor\":\"y\",\"domain\":[0.0,1.0],\"title\":{\"text\":\"variable\"}},\"yaxis\":{\"anchor\":\"x\",\"domain\":[0.0,1.0],\"title\":{\"text\":\"value\"}}},                        {\"responsive\": true}                    ).then(function(){\n",
       "                            \n",
       "var gd = document.getElementById('63e33ffb-4d87-414e-8e60-5e79da45f706');\n",
       "var x = new MutationObserver(function (mutations, observer) {{\n",
       "        var display = window.getComputedStyle(gd).display;\n",
       "        if (!display || display === 'none') {{\n",
       "            console.log([gd, 'removed!']);\n",
       "            Plotly.purge(gd);\n",
       "            observer.disconnect();\n",
       "        }}\n",
       "}});\n",
       "\n",
       "// Listen for the removal of the full notebook cells\n",
       "var notebookContainer = gd.closest('#notebook-container');\n",
       "if (notebookContainer) {{\n",
       "    x.observe(notebookContainer, {childList: true});\n",
       "}}\n",
       "\n",
       "// Listen for the clearing of the current output cell\n",
       "var outputEl = gd.closest('.output');\n",
       "if (outputEl) {{\n",
       "    x.observe(outputEl, {childList: true});\n",
       "}}\n",
       "\n",
       "                        })                };                });            </script>        </div>"
      ]
     },
     "metadata": {},
     "output_type": "display_data"
    }
   ],
   "source": [
    "fig = px.box(data_df, y=data_df.columns[8:14], color=data_df.columns[4])\n",
    "fig.show()"
   ]
  },
  {
   "cell_type": "markdown",
   "id": "ec3894b2-b69c-4c14-b4e4-fd41709f5ab9",
   "metadata": {},
   "source": [
    "**Nhận xét:**\n",
    "- Nhà ở riêng lẻ nhận được đánh giá trung bình khá trên tất cả các tiêu chí, thể hiện khá rõ sự chênh lệch cao hơn so với những loại nhà khác ở hầu hết các hạng mục. Đặc biệt không có đánh giá 1 điểm cho tiêu chí nào.\n",
    "- Nhà ở liền kề gặp nhiều than phiền về cảm giác nhiệt độ mùa hè, tuy nhiên vào mùa đông đánh giá có phần cải thiện.\n",
    "- Nhà chung cư ngoài việc nhận đánh giá tương tự nhà liền kề ở cảm giác nhiệt độ mùa hè còn bị nhiều đánh giá thấp ở mục thông gió tự nhiên mùa hè và cảm giác nhiệt độ mùa đông\n",
    "\n",
    "## Những ngôi nhà có diện tích mỗi tầng như thế nào?"
   ]
  },
  {
   "cell_type": "code",
   "execution_count": 7,
   "id": "80612458-8a8f-4a5b-b16a-2482ce478c85",
   "metadata": {},
   "outputs": [
    {
     "name": "stderr",
     "output_type": "stream",
     "text": [
      "<ipython-input-7-95682e57fbf6>:3: SettingWithCopyWarning:\n",
      "\n",
      "\n",
      "A value is trying to be set on a copy of a slice from a DataFrame.\n",
      "Try using .loc[row_indexer,col_indexer] = value instead\n",
      "\n",
      "See the caveats in the documentation: https://pandas.pydata.org/pandas-docs/stable/user_guide/indexing.html#returning-a-view-versus-a-copy\n",
      "\n"
     ]
    },
    {
     "data": {
      "application/vnd.plotly.v1+json": {
       "config": {
        "plotlyServerURL": "https://plot.ly"
       },
       "data": [
        {
         "alignmentgroup": "True",
         "bingroup": "x",
         "hovertemplate": "Climatic region=North<br>area=%{x}<br>count=%{y}<extra></extra>",
         "legendgroup": "North",
         "marker": {
          "color": "#636efa",
          "line": {
           "color": "black",
           "width": 1
          },
          "pattern": {
           "shape": ""
          }
         },
         "name": "North",
         "offsetgroup": "North",
         "orientation": "v",
         "showlegend": true,
         "type": "histogram",
         "visible": true,
         "x": [
          36.666666666666664,
          10,
          6,
          48,
          60,
          60,
          55,
          7.5,
          23.333333333333332,
          null,
          48,
          27.5,
          null,
          36.666666666666664,
          80,
          14,
          70,
          35,
          36.666666666666664,
          110,
          22,
          60,
          60,
          36.666666666666664,
          70,
          22,
          27.5,
          36.666666666666664,
          23.333333333333332,
          90,
          23.333333333333332,
          110,
          60,
          110,
          27.5,
          27.5,
          22,
          48,
          70,
          27.5,
          45,
          17.5,
          35,
          35,
          60,
          45,
          70,
          60,
          80,
          110,
          27.5,
          6,
          10,
          30,
          22,
          22,
          36.666666666666664,
          110,
          23.333333333333332,
          60,
          null,
          22,
          22,
          10,
          30,
          6,
          45,
          36.666666666666664,
          70,
          30,
          60,
          90,
          60,
          23.333333333333332,
          60,
          110,
          17.5,
          48,
          48,
          35,
          36,
          6,
          110,
          110,
          90,
          36,
          30,
          80,
          36.666666666666664,
          90,
          14,
          45,
          45,
          110,
          80,
          23.333333333333332,
          36.666666666666664,
          90,
          55,
          6,
          110,
          17.5,
          80,
          15,
          30,
          70,
          23.333333333333332,
          60,
          48,
          10,
          30,
          80,
          45,
          27.5,
          10,
          7.5,
          14,
          55,
          70,
          45,
          48,
          60,
          80,
          60,
          35,
          45,
          90
         ],
         "xaxis": "x",
         "yaxis": "y"
        },
        {
         "alignmentgroup": "True",
         "bingroup": "x",
         "hovertemplate": "Climatic region=Center<br>area=%{x}<br>count=%{y}<extra></extra>",
         "legendgroup": "Center",
         "marker": {
          "color": "#EF553B",
          "line": {
           "color": "black",
           "width": 1
          },
          "pattern": {
           "shape": ""
          }
         },
         "name": "Center",
         "offsetgroup": "Center",
         "orientation": "v",
         "showlegend": true,
         "type": "histogram",
         "visible": true,
         "x": [
          36,
          110,
          35,
          null,
          30,
          80,
          90,
          60,
          180,
          27.5,
          60,
          110,
          80
         ],
         "xaxis": "x",
         "yaxis": "y"
        },
        {
         "alignmentgroup": "True",
         "bingroup": "x",
         "hovertemplate": "Climatic region=South<br>area=%{x}<br>count=%{y}<extra></extra>",
         "legendgroup": "South",
         "marker": {
          "color": "#00cc96",
          "line": {
           "color": "black",
           "width": 1
          },
          "pattern": {
           "shape": ""
          }
         },
         "name": "South",
         "offsetgroup": "South",
         "orientation": "v",
         "showlegend": true,
         "type": "histogram",
         "visible": true,
         "x": [
          14,
          10,
          22,
          80,
          80,
          null,
          70,
          70,
          null,
          110,
          null,
          110,
          120
         ],
         "xaxis": "x",
         "yaxis": "y"
        }
       ],
       "layout": {
        "autosize": true,
        "barmode": "relative",
        "dragmode": "pan",
        "legend": {
         "title": {
          "text": "Climatic region"
         },
         "tracegroupgap": 0
        },
        "margin": {
         "t": 60
        },
        "template": {
         "data": {
          "bar": [
           {
            "error_x": {
             "color": "#2a3f5f"
            },
            "error_y": {
             "color": "#2a3f5f"
            },
            "marker": {
             "line": {
              "color": "#E5ECF6",
              "width": 0.5
             },
             "pattern": {
              "fillmode": "overlay",
              "size": 10,
              "solidity": 0.2
             }
            },
            "type": "bar"
           }
          ],
          "barpolar": [
           {
            "marker": {
             "line": {
              "color": "#E5ECF6",
              "width": 0.5
             },
             "pattern": {
              "fillmode": "overlay",
              "size": 10,
              "solidity": 0.2
             }
            },
            "type": "barpolar"
           }
          ],
          "carpet": [
           {
            "aaxis": {
             "endlinecolor": "#2a3f5f",
             "gridcolor": "white",
             "linecolor": "white",
             "minorgridcolor": "white",
             "startlinecolor": "#2a3f5f"
            },
            "baxis": {
             "endlinecolor": "#2a3f5f",
             "gridcolor": "white",
             "linecolor": "white",
             "minorgridcolor": "white",
             "startlinecolor": "#2a3f5f"
            },
            "type": "carpet"
           }
          ],
          "choropleth": [
           {
            "colorbar": {
             "outlinewidth": 0,
             "ticks": ""
            },
            "type": "choropleth"
           }
          ],
          "contour": [
           {
            "colorbar": {
             "outlinewidth": 0,
             "ticks": ""
            },
            "colorscale": [
             [
              0,
              "#0d0887"
             ],
             [
              0.1111111111111111,
              "#46039f"
             ],
             [
              0.2222222222222222,
              "#7201a8"
             ],
             [
              0.3333333333333333,
              "#9c179e"
             ],
             [
              0.4444444444444444,
              "#bd3786"
             ],
             [
              0.5555555555555556,
              "#d8576b"
             ],
             [
              0.6666666666666666,
              "#ed7953"
             ],
             [
              0.7777777777777778,
              "#fb9f3a"
             ],
             [
              0.8888888888888888,
              "#fdca26"
             ],
             [
              1,
              "#f0f921"
             ]
            ],
            "type": "contour"
           }
          ],
          "contourcarpet": [
           {
            "colorbar": {
             "outlinewidth": 0,
             "ticks": ""
            },
            "type": "contourcarpet"
           }
          ],
          "heatmap": [
           {
            "colorbar": {
             "outlinewidth": 0,
             "ticks": ""
            },
            "colorscale": [
             [
              0,
              "#0d0887"
             ],
             [
              0.1111111111111111,
              "#46039f"
             ],
             [
              0.2222222222222222,
              "#7201a8"
             ],
             [
              0.3333333333333333,
              "#9c179e"
             ],
             [
              0.4444444444444444,
              "#bd3786"
             ],
             [
              0.5555555555555556,
              "#d8576b"
             ],
             [
              0.6666666666666666,
              "#ed7953"
             ],
             [
              0.7777777777777778,
              "#fb9f3a"
             ],
             [
              0.8888888888888888,
              "#fdca26"
             ],
             [
              1,
              "#f0f921"
             ]
            ],
            "type": "heatmap"
           }
          ],
          "heatmapgl": [
           {
            "colorbar": {
             "outlinewidth": 0,
             "ticks": ""
            },
            "colorscale": [
             [
              0,
              "#0d0887"
             ],
             [
              0.1111111111111111,
              "#46039f"
             ],
             [
              0.2222222222222222,
              "#7201a8"
             ],
             [
              0.3333333333333333,
              "#9c179e"
             ],
             [
              0.4444444444444444,
              "#bd3786"
             ],
             [
              0.5555555555555556,
              "#d8576b"
             ],
             [
              0.6666666666666666,
              "#ed7953"
             ],
             [
              0.7777777777777778,
              "#fb9f3a"
             ],
             [
              0.8888888888888888,
              "#fdca26"
             ],
             [
              1,
              "#f0f921"
             ]
            ],
            "type": "heatmapgl"
           }
          ],
          "histogram": [
           {
            "marker": {
             "pattern": {
              "fillmode": "overlay",
              "size": 10,
              "solidity": 0.2
             }
            },
            "type": "histogram"
           }
          ],
          "histogram2d": [
           {
            "colorbar": {
             "outlinewidth": 0,
             "ticks": ""
            },
            "colorscale": [
             [
              0,
              "#0d0887"
             ],
             [
              0.1111111111111111,
              "#46039f"
             ],
             [
              0.2222222222222222,
              "#7201a8"
             ],
             [
              0.3333333333333333,
              "#9c179e"
             ],
             [
              0.4444444444444444,
              "#bd3786"
             ],
             [
              0.5555555555555556,
              "#d8576b"
             ],
             [
              0.6666666666666666,
              "#ed7953"
             ],
             [
              0.7777777777777778,
              "#fb9f3a"
             ],
             [
              0.8888888888888888,
              "#fdca26"
             ],
             [
              1,
              "#f0f921"
             ]
            ],
            "type": "histogram2d"
           }
          ],
          "histogram2dcontour": [
           {
            "colorbar": {
             "outlinewidth": 0,
             "ticks": ""
            },
            "colorscale": [
             [
              0,
              "#0d0887"
             ],
             [
              0.1111111111111111,
              "#46039f"
             ],
             [
              0.2222222222222222,
              "#7201a8"
             ],
             [
              0.3333333333333333,
              "#9c179e"
             ],
             [
              0.4444444444444444,
              "#bd3786"
             ],
             [
              0.5555555555555556,
              "#d8576b"
             ],
             [
              0.6666666666666666,
              "#ed7953"
             ],
             [
              0.7777777777777778,
              "#fb9f3a"
             ],
             [
              0.8888888888888888,
              "#fdca26"
             ],
             [
              1,
              "#f0f921"
             ]
            ],
            "type": "histogram2dcontour"
           }
          ],
          "mesh3d": [
           {
            "colorbar": {
             "outlinewidth": 0,
             "ticks": ""
            },
            "type": "mesh3d"
           }
          ],
          "parcoords": [
           {
            "line": {
             "colorbar": {
              "outlinewidth": 0,
              "ticks": ""
             }
            },
            "type": "parcoords"
           }
          ],
          "pie": [
           {
            "automargin": true,
            "type": "pie"
           }
          ],
          "scatter": [
           {
            "marker": {
             "colorbar": {
              "outlinewidth": 0,
              "ticks": ""
             }
            },
            "type": "scatter"
           }
          ],
          "scatter3d": [
           {
            "line": {
             "colorbar": {
              "outlinewidth": 0,
              "ticks": ""
             }
            },
            "marker": {
             "colorbar": {
              "outlinewidth": 0,
              "ticks": ""
             }
            },
            "type": "scatter3d"
           }
          ],
          "scattercarpet": [
           {
            "marker": {
             "colorbar": {
              "outlinewidth": 0,
              "ticks": ""
             }
            },
            "type": "scattercarpet"
           }
          ],
          "scattergeo": [
           {
            "marker": {
             "colorbar": {
              "outlinewidth": 0,
              "ticks": ""
             }
            },
            "type": "scattergeo"
           }
          ],
          "scattergl": [
           {
            "marker": {
             "colorbar": {
              "outlinewidth": 0,
              "ticks": ""
             }
            },
            "type": "scattergl"
           }
          ],
          "scattermapbox": [
           {
            "marker": {
             "colorbar": {
              "outlinewidth": 0,
              "ticks": ""
             }
            },
            "type": "scattermapbox"
           }
          ],
          "scatterpolar": [
           {
            "marker": {
             "colorbar": {
              "outlinewidth": 0,
              "ticks": ""
             }
            },
            "type": "scatterpolar"
           }
          ],
          "scatterpolargl": [
           {
            "marker": {
             "colorbar": {
              "outlinewidth": 0,
              "ticks": ""
             }
            },
            "type": "scatterpolargl"
           }
          ],
          "scatterternary": [
           {
            "marker": {
             "colorbar": {
              "outlinewidth": 0,
              "ticks": ""
             }
            },
            "type": "scatterternary"
           }
          ],
          "surface": [
           {
            "colorbar": {
             "outlinewidth": 0,
             "ticks": ""
            },
            "colorscale": [
             [
              0,
              "#0d0887"
             ],
             [
              0.1111111111111111,
              "#46039f"
             ],
             [
              0.2222222222222222,
              "#7201a8"
             ],
             [
              0.3333333333333333,
              "#9c179e"
             ],
             [
              0.4444444444444444,
              "#bd3786"
             ],
             [
              0.5555555555555556,
              "#d8576b"
             ],
             [
              0.6666666666666666,
              "#ed7953"
             ],
             [
              0.7777777777777778,
              "#fb9f3a"
             ],
             [
              0.8888888888888888,
              "#fdca26"
             ],
             [
              1,
              "#f0f921"
             ]
            ],
            "type": "surface"
           }
          ],
          "table": [
           {
            "cells": {
             "fill": {
              "color": "#EBF0F8"
             },
             "line": {
              "color": "white"
             }
            },
            "header": {
             "fill": {
              "color": "#C8D4E3"
             },
             "line": {
              "color": "white"
             }
            },
            "type": "table"
           }
          ]
         },
         "layout": {
          "annotationdefaults": {
           "arrowcolor": "#2a3f5f",
           "arrowhead": 0,
           "arrowwidth": 1
          },
          "autotypenumbers": "strict",
          "coloraxis": {
           "colorbar": {
            "outlinewidth": 0,
            "ticks": ""
           }
          },
          "colorscale": {
           "diverging": [
            [
             0,
             "#8e0152"
            ],
            [
             0.1,
             "#c51b7d"
            ],
            [
             0.2,
             "#de77ae"
            ],
            [
             0.3,
             "#f1b6da"
            ],
            [
             0.4,
             "#fde0ef"
            ],
            [
             0.5,
             "#f7f7f7"
            ],
            [
             0.6,
             "#e6f5d0"
            ],
            [
             0.7,
             "#b8e186"
            ],
            [
             0.8,
             "#7fbc41"
            ],
            [
             0.9,
             "#4d9221"
            ],
            [
             1,
             "#276419"
            ]
           ],
           "sequential": [
            [
             0,
             "#0d0887"
            ],
            [
             0.1111111111111111,
             "#46039f"
            ],
            [
             0.2222222222222222,
             "#7201a8"
            ],
            [
             0.3333333333333333,
             "#9c179e"
            ],
            [
             0.4444444444444444,
             "#bd3786"
            ],
            [
             0.5555555555555556,
             "#d8576b"
            ],
            [
             0.6666666666666666,
             "#ed7953"
            ],
            [
             0.7777777777777778,
             "#fb9f3a"
            ],
            [
             0.8888888888888888,
             "#fdca26"
            ],
            [
             1,
             "#f0f921"
            ]
           ],
           "sequentialminus": [
            [
             0,
             "#0d0887"
            ],
            [
             0.1111111111111111,
             "#46039f"
            ],
            [
             0.2222222222222222,
             "#7201a8"
            ],
            [
             0.3333333333333333,
             "#9c179e"
            ],
            [
             0.4444444444444444,
             "#bd3786"
            ],
            [
             0.5555555555555556,
             "#d8576b"
            ],
            [
             0.6666666666666666,
             "#ed7953"
            ],
            [
             0.7777777777777778,
             "#fb9f3a"
            ],
            [
             0.8888888888888888,
             "#fdca26"
            ],
            [
             1,
             "#f0f921"
            ]
           ]
          },
          "colorway": [
           "#636efa",
           "#EF553B",
           "#00cc96",
           "#ab63fa",
           "#FFA15A",
           "#19d3f3",
           "#FF6692",
           "#B6E880",
           "#FF97FF",
           "#FECB52"
          ],
          "font": {
           "color": "#2a3f5f"
          },
          "geo": {
           "bgcolor": "white",
           "lakecolor": "white",
           "landcolor": "#E5ECF6",
           "showlakes": true,
           "showland": true,
           "subunitcolor": "white"
          },
          "hoverlabel": {
           "align": "left"
          },
          "hovermode": "closest",
          "mapbox": {
           "style": "light"
          },
          "paper_bgcolor": "white",
          "plot_bgcolor": "#E5ECF6",
          "polar": {
           "angularaxis": {
            "gridcolor": "white",
            "linecolor": "white",
            "ticks": ""
           },
           "bgcolor": "#E5ECF6",
           "radialaxis": {
            "gridcolor": "white",
            "linecolor": "white",
            "ticks": ""
           }
          },
          "scene": {
           "xaxis": {
            "backgroundcolor": "#E5ECF6",
            "gridcolor": "white",
            "gridwidth": 2,
            "linecolor": "white",
            "showbackground": true,
            "ticks": "",
            "zerolinecolor": "white"
           },
           "yaxis": {
            "backgroundcolor": "#E5ECF6",
            "gridcolor": "white",
            "gridwidth": 2,
            "linecolor": "white",
            "showbackground": true,
            "ticks": "",
            "zerolinecolor": "white"
           },
           "zaxis": {
            "backgroundcolor": "#E5ECF6",
            "gridcolor": "white",
            "gridwidth": 2,
            "linecolor": "white",
            "showbackground": true,
            "ticks": "",
            "zerolinecolor": "white"
           }
          },
          "shapedefaults": {
           "line": {
            "color": "#2a3f5f"
           }
          },
          "ternary": {
           "aaxis": {
            "gridcolor": "white",
            "linecolor": "white",
            "ticks": ""
           },
           "baxis": {
            "gridcolor": "white",
            "linecolor": "white",
            "ticks": ""
           },
           "bgcolor": "#E5ECF6",
           "caxis": {
            "gridcolor": "white",
            "linecolor": "white",
            "ticks": ""
           }
          },
          "title": {
           "x": 0.05
          },
          "xaxis": {
           "automargin": true,
           "gridcolor": "white",
           "linecolor": "white",
           "ticks": "",
           "title": {
            "standoff": 15
           },
           "zerolinecolor": "white",
           "zerolinewidth": 2
          },
          "yaxis": {
           "automargin": true,
           "gridcolor": "white",
           "linecolor": "white",
           "ticks": "",
           "title": {
            "standoff": 15
           },
           "zerolinecolor": "white",
           "zerolinewidth": 2
          }
         }
        },
        "xaxis": {
         "anchor": "y",
         "autorange": true,
         "domain": [
          0,
          1
         ],
         "range": [
          0,
          190
         ],
         "title": {
          "text": "area"
         },
         "type": "linear"
        },
        "yaxis": {
         "anchor": "x",
         "autorange": true,
         "domain": [
          0,
          1
         ],
         "range": [
          0,
          26.315789473684212
         ],
         "title": {
          "text": "count"
         }
        }
       }
      },
      "image/png": "[encoded data removed]",
      "text/html": [
       "<div>                            <div id=\"e260bd50-7ef3-4545-8276-b0b9ab93b61e\" class=\"plotly-graph-div\" style=\"height:525px; width:100%;\"></div>            <script type=\"text/javascript\">                require([\"plotly\"], function(Plotly) {                    window.PLOTLYENV=window.PLOTLYENV || {};                                    if (document.getElementById(\"e260bd50-7ef3-4545-8276-b0b9ab93b61e\")) {                    Plotly.newPlot(                        \"e260bd50-7ef3-4545-8276-b0b9ab93b61e\",                        [{\"alignmentgroup\":\"True\",\"bingroup\":\"x\",\"hovertemplate\":\"Climatic region=North<br>area=%{x}<br>count=%{y}<extra></extra>\",\"legendgroup\":\"North\",\"marker\":{\"color\":\"#636efa\",\"line\":{\"color\":\"black\",\"width\":1},\"pattern\":{\"shape\":\"\"}},\"name\":\"North\",\"offsetgroup\":\"North\",\"orientation\":\"v\",\"showlegend\":true,\"type\":\"histogram\",\"x\":[36.666666666666664,10.0,6.0,48.0,60.0,60.0,55.0,7.5,23.333333333333332,null,48.0,27.5,null,36.666666666666664,80.0,14.0,70.0,35.0,36.666666666666664,110.0,22.0,60.0,60.0,36.666666666666664,70.0,22.0,27.5,36.666666666666664,23.333333333333332,90.0,23.333333333333332,110.0,60.0,110.0,27.5,27.5,22.0,48.0,70.0,27.5,45.0,17.5,35.0,35.0,60.0,45.0,70.0,60.0,80.0,110.0,27.5,6.0,10.0,30.0,22.0,22.0,36.666666666666664,110.0,23.333333333333332,60.0,null,22.0,22.0,10.0,30.0,6.0,45.0,36.666666666666664,70.0,30.0,60.0,90.0,60.0,23.333333333333332,60.0,110.0,17.5,48.0,48.0,35.0,36.0,6.0,110.0,110.0,90.0,36.0,30.0,80.0,36.666666666666664,90.0,14.0,45.0,45.0,110.0,80.0,23.333333333333332,36.666666666666664,90.0,55.0,6.0,110.0,17.5,80.0,15.0,30.0,70.0,23.333333333333332,60.0,48.0,10.0,30.0,80.0,45.0,27.5,10.0,7.5,14.0,55.0,70.0,45.0,48.0,60.0,80.0,60.0,35.0,45.0,90.0],\"xaxis\":\"x\",\"yaxis\":\"y\"},{\"alignmentgroup\":\"True\",\"bingroup\":\"x\",\"hovertemplate\":\"Climatic region=Center<br>area=%{x}<br>count=%{y}<extra></extra>\",\"legendgroup\":\"Center\",\"marker\":{\"color\":\"#EF553B\",\"line\":{\"color\":\"black\",\"width\":1},\"pattern\":{\"shape\":\"\"}},\"name\":\"Center\",\"offsetgroup\":\"Center\",\"orientation\":\"v\",\"showlegend\":true,\"type\":\"histogram\",\"x\":[36.0,110.0,35.0,null,30.0,80.0,90.0,60.0,180.0,27.5,60.0,110.0,80.0],\"xaxis\":\"x\",\"yaxis\":\"y\"},{\"alignmentgroup\":\"True\",\"bingroup\":\"x\",\"hovertemplate\":\"Climatic region=South<br>area=%{x}<br>count=%{y}<extra></extra>\",\"legendgroup\":\"South\",\"marker\":{\"color\":\"#00cc96\",\"line\":{\"color\":\"black\",\"width\":1},\"pattern\":{\"shape\":\"\"}},\"name\":\"South\",\"offsetgroup\":\"South\",\"orientation\":\"v\",\"showlegend\":true,\"type\":\"histogram\",\"x\":[14.0,10.0,22.0,80.0,80.0,null,70.0,70.0,null,110.0,null,110.0,120.0],\"xaxis\":\"x\",\"yaxis\":\"y\"}],                        {\"barmode\":\"relative\",\"legend\":{\"title\":{\"text\":\"Climatic region\"},\"tracegroupgap\":0},\"margin\":{\"t\":60},\"template\":{\"data\":{\"bar\":[{\"error_x\":{\"color\":\"#2a3f5f\"},\"error_y\":{\"color\":\"#2a3f5f\"},\"marker\":{\"line\":{\"color\":\"#E5ECF6\",\"width\":0.5},\"pattern\":{\"fillmode\":\"overlay\",\"size\":10,\"solidity\":0.2}},\"type\":\"bar\"}],\"barpolar\":[{\"marker\":{\"line\":{\"color\":\"#E5ECF6\",\"width\":0.5},\"pattern\":{\"fillmode\":\"overlay\",\"size\":10,\"solidity\":0.2}},\"type\":\"barpolar\"}],\"carpet\":[{\"aaxis\":{\"endlinecolor\":\"#2a3f5f\",\"gridcolor\":\"white\",\"linecolor\":\"white\",\"minorgridcolor\":\"white\",\"startlinecolor\":\"#2a3f5f\"},\"baxis\":{\"endlinecolor\":\"#2a3f5f\",\"gridcolor\":\"white\",\"linecolor\":\"white\",\"minorgridcolor\":\"white\",\"startlinecolor\":\"#2a3f5f\"},\"type\":\"carpet\"}],\"choropleth\":[{\"colorbar\":{\"outlinewidth\":0,\"ticks\":\"\"},\"type\":\"choropleth\"}],\"contour\":[{\"colorbar\":{\"outlinewidth\":0,\"ticks\":\"\"},\"colorscale\":[[0.0,\"#0d0887\"],[0.1111111111111111,\"#46039f\"],[0.2222222222222222,\"#7201a8\"],[0.3333333333333333,\"#9c179e\"],[0.4444444444444444,\"#bd3786\"],[0.5555555555555556,\"#d8576b\"],[0.6666666666666666,\"#ed7953\"],[0.7777777777777778,\"#fb9f3a\"],[0.8888888888888888,\"#fdca26\"],[1.0,\"#f0f921\"]],\"type\":\"contour\"}],\"contourcarpet\":[{\"colorbar\":{\"outlinewidth\":0,\"ticks\":\"\"},\"type\":\"contourcarpet\"}],\"heatmap\":[{\"colorbar\":{\"outlinewidth\":0,\"ticks\":\"\"},\"colorscale\":[[0.0,\"#0d0887\"],[0.1111111111111111,\"#46039f\"],[0.2222222222222222,\"#7201a8\"],[0.3333333333333333,\"#9c179e\"],[0.4444444444444444,\"#bd3786\"],[0.5555555555555556,\"#d8576b\"],[0.6666666666666666,\"#ed7953\"],[0.7777777777777778,\"#fb9f3a\"],[0.8888888888888888,\"#fdca26\"],[1.0,\"#f0f921\"]],\"type\":\"heatmap\"}],\"heatmapgl\":[{\"colorbar\":{\"outlinewidth\":0,\"ticks\":\"\"},\"colorscale\":[[0.0,\"#0d0887\"],[0.1111111111111111,\"#46039f\"],[0.2222222222222222,\"#7201a8\"],[0.3333333333333333,\"#9c179e\"],[0.4444444444444444,\"#bd3786\"],[0.5555555555555556,\"#d8576b\"],[0.6666666666666666,\"#ed7953\"],[0.7777777777777778,\"#fb9f3a\"],[0.8888888888888888,\"#fdca26\"],[1.0,\"#f0f921\"]],\"type\":\"heatmapgl\"}],\"histogram\":[{\"marker\":{\"pattern\":{\"fillmode\":\"overlay\",\"size\":10,\"solidity\":0.2}},\"type\":\"histogram\"}],\"histogram2d\":[{\"colorbar\":{\"outlinewidth\":0,\"ticks\":\"\"},\"colorscale\":[[0.0,\"#0d0887\"],[0.1111111111111111,\"#46039f\"],[0.2222222222222222,\"#7201a8\"],[0.3333333333333333,\"#9c179e\"],[0.4444444444444444,\"#bd3786\"],[0.5555555555555556,\"#d8576b\"],[0.6666666666666666,\"#ed7953\"],[0.7777777777777778,\"#fb9f3a\"],[0.8888888888888888,\"#fdca26\"],[1.0,\"#f0f921\"]],\"type\":\"histogram2d\"}],\"histogram2dcontour\":[{\"colorbar\":{\"outlinewidth\":0,\"ticks\":\"\"},\"colorscale\":[[0.0,\"#0d0887\"],[0.1111111111111111,\"#46039f\"],[0.2222222222222222,\"#7201a8\"],[0.3333333333333333,\"#9c179e\"],[0.4444444444444444,\"#bd3786\"],[0.5555555555555556,\"#d8576b\"],[0.6666666666666666,\"#ed7953\"],[0.7777777777777778,\"#fb9f3a\"],[0.8888888888888888,\"#fdca26\"],[1.0,\"#f0f921\"]],\"type\":\"histogram2dcontour\"}],\"mesh3d\":[{\"colorbar\":{\"outlinewidth\":0,\"ticks\":\"\"},\"type\":\"mesh3d\"}],\"parcoords\":[{\"line\":{\"colorbar\":{\"outlinewidth\":0,\"ticks\":\"\"}},\"type\":\"parcoords\"}],\"pie\":[{\"automargin\":true,\"type\":\"pie\"}],\"scatter\":[{\"marker\":{\"colorbar\":{\"outlinewidth\":0,\"ticks\":\"\"}},\"type\":\"scatter\"}],\"scatter3d\":[{\"line\":{\"colorbar\":{\"outlinewidth\":0,\"ticks\":\"\"}},\"marker\":{\"colorbar\":{\"outlinewidth\":0,\"ticks\":\"\"}},\"type\":\"scatter3d\"}],\"scattercarpet\":[{\"marker\":{\"colorbar\":{\"outlinewidth\":0,\"ticks\":\"\"}},\"type\":\"scattercarpet\"}],\"scattergeo\":[{\"marker\":{\"colorbar\":{\"outlinewidth\":0,\"ticks\":\"\"}},\"type\":\"scattergeo\"}],\"scattergl\":[{\"marker\":{\"colorbar\":{\"outlinewidth\":0,\"ticks\":\"\"}},\"type\":\"scattergl\"}],\"scattermapbox\":[{\"marker\":{\"colorbar\":{\"outlinewidth\":0,\"ticks\":\"\"}},\"type\":\"scattermapbox\"}],\"scatterpolar\":[{\"marker\":{\"colorbar\":{\"outlinewidth\":0,\"ticks\":\"\"}},\"type\":\"scatterpolar\"}],\"scatterpolargl\":[{\"marker\":{\"colorbar\":{\"outlinewidth\":0,\"ticks\":\"\"}},\"type\":\"scatterpolargl\"}],\"scatterternary\":[{\"marker\":{\"colorbar\":{\"outlinewidth\":0,\"ticks\":\"\"}},\"type\":\"scatterternary\"}],\"surface\":[{\"colorbar\":{\"outlinewidth\":0,\"ticks\":\"\"},\"colorscale\":[[0.0,\"#0d0887\"],[0.1111111111111111,\"#46039f\"],[0.2222222222222222,\"#7201a8\"],[0.3333333333333333,\"#9c179e\"],[0.4444444444444444,\"#bd3786\"],[0.5555555555555556,\"#d8576b\"],[0.6666666666666666,\"#ed7953\"],[0.7777777777777778,\"#fb9f3a\"],[0.8888888888888888,\"#fdca26\"],[1.0,\"#f0f921\"]],\"type\":\"surface\"}],\"table\":[{\"cells\":{\"fill\":{\"color\":\"#EBF0F8\"},\"line\":{\"color\":\"white\"}},\"header\":{\"fill\":{\"color\":\"#C8D4E3\"},\"line\":{\"color\":\"white\"}},\"type\":\"table\"}]},\"layout\":{\"annotationdefaults\":{\"arrowcolor\":\"#2a3f5f\",\"arrowhead\":0,\"arrowwidth\":1},\"autotypenumbers\":\"strict\",\"coloraxis\":{\"colorbar\":{\"outlinewidth\":0,\"ticks\":\"\"}},\"colorscale\":{\"diverging\":[[0,\"#8e0152\"],[0.1,\"#c51b7d\"],[0.2,\"#de77ae\"],[0.3,\"#f1b6da\"],[0.4,\"#fde0ef\"],[0.5,\"#f7f7f7\"],[0.6,\"#e6f5d0\"],[0.7,\"#b8e186\"],[0.8,\"#7fbc41\"],[0.9,\"#4d9221\"],[1,\"#276419\"]],\"sequential\":[[0.0,\"#0d0887\"],[0.1111111111111111,\"#46039f\"],[0.2222222222222222,\"#7201a8\"],[0.3333333333333333,\"#9c179e\"],[0.4444444444444444,\"#bd3786\"],[0.5555555555555556,\"#d8576b\"],[0.6666666666666666,\"#ed7953\"],[0.7777777777777778,\"#fb9f3a\"],[0.8888888888888888,\"#fdca26\"],[1.0,\"#f0f921\"]],\"sequentialminus\":[[0.0,\"#0d0887\"],[0.1111111111111111,\"#46039f\"],[0.2222222222222222,\"#7201a8\"],[0.3333333333333333,\"#9c179e\"],[0.4444444444444444,\"#bd3786\"],[0.5555555555555556,\"#d8576b\"],[0.6666666666666666,\"#ed7953\"],[0.7777777777777778,\"#fb9f3a\"],[0.8888888888888888,\"#fdca26\"],[1.0,\"#f0f921\"]]},\"colorway\":[\"#636efa\",\"#EF553B\",\"#00cc96\",\"#ab63fa\",\"#FFA15A\",\"#19d3f3\",\"#FF6692\",\"#B6E880\",\"#FF97FF\",\"#FECB52\"],\"font\":{\"color\":\"#2a3f5f\"},\"geo\":{\"bgcolor\":\"white\",\"lakecolor\":\"white\",\"landcolor\":\"#E5ECF6\",\"showlakes\":true,\"showland\":true,\"subunitcolor\":\"white\"},\"hoverlabel\":{\"align\":\"left\"},\"hovermode\":\"closest\",\"mapbox\":{\"style\":\"light\"},\"paper_bgcolor\":\"white\",\"plot_bgcolor\":\"#E5ECF6\",\"polar\":{\"angularaxis\":{\"gridcolor\":\"white\",\"linecolor\":\"white\",\"ticks\":\"\"},\"bgcolor\":\"#E5ECF6\",\"radialaxis\":{\"gridcolor\":\"white\",\"linecolor\":\"white\",\"ticks\":\"\"}},\"scene\":{\"xaxis\":{\"backgroundcolor\":\"#E5ECF6\",\"gridcolor\":\"white\",\"gridwidth\":2,\"linecolor\":\"white\",\"showbackground\":true,\"ticks\":\"\",\"zerolinecolor\":\"white\"},\"yaxis\":{\"backgroundcolor\":\"#E5ECF6\",\"gridcolor\":\"white\",\"gridwidth\":2,\"linecolor\":\"white\",\"showbackground\":true,\"ticks\":\"\",\"zerolinecolor\":\"white\"},\"zaxis\":{\"backgroundcolor\":\"#E5ECF6\",\"gridcolor\":\"white\",\"gridwidth\":2,\"linecolor\":\"white\",\"showbackground\":true,\"ticks\":\"\",\"zerolinecolor\":\"white\"}},\"shapedefaults\":{\"line\":{\"color\":\"#2a3f5f\"}},\"ternary\":{\"aaxis\":{\"gridcolor\":\"white\",\"linecolor\":\"white\",\"ticks\":\"\"},\"baxis\":{\"gridcolor\":\"white\",\"linecolor\":\"white\",\"ticks\":\"\"},\"bgcolor\":\"#E5ECF6\",\"caxis\":{\"gridcolor\":\"white\",\"linecolor\":\"white\",\"ticks\":\"\"}},\"title\":{\"x\":0.05},\"xaxis\":{\"automargin\":true,\"gridcolor\":\"white\",\"linecolor\":\"white\",\"ticks\":\"\",\"title\":{\"standoff\":15},\"zerolinecolor\":\"white\",\"zerolinewidth\":2},\"yaxis\":{\"automargin\":true,\"gridcolor\":\"white\",\"linecolor\":\"white\",\"ticks\":\"\",\"title\":{\"standoff\":15},\"zerolinecolor\":\"white\",\"zerolinewidth\":2}}},\"xaxis\":{\"anchor\":\"y\",\"domain\":[0.0,1.0],\"title\":{\"text\":\"area\"}},\"yaxis\":{\"anchor\":\"x\",\"domain\":[0.0,1.0],\"title\":{\"text\":\"count\"}}},                        {\"responsive\": true}                    ).then(function(){\n",
       "                            \n",
       "var gd = document.getElementById('e260bd50-7ef3-4545-8276-b0b9ab93b61e');\n",
       "var x = new MutationObserver(function (mutations, observer) {{\n",
       "        var display = window.getComputedStyle(gd).display;\n",
       "        if (!display || display === 'none') {{\n",
       "            console.log([gd, 'removed!']);\n",
       "            Plotly.purge(gd);\n",
       "            observer.disconnect();\n",
       "        }}\n",
       "}});\n",
       "\n",
       "// Listen for the removal of the full notebook cells\n",
       "var notebookContainer = gd.closest('#notebook-container');\n",
       "if (notebookContainer) {{\n",
       "    x.observe(notebookContainer, {childList: true});\n",
       "}}\n",
       "\n",
       "// Listen for the clearing of the current output cell\n",
       "var outputEl = gd.closest('.output');\n",
       "if (outputEl) {{\n",
       "    x.observe(outputEl, {childList: true});\n",
       "}}\n",
       "\n",
       "                        })                };                });            </script>        </div>"
      ]
     },
     "metadata": {},
     "output_type": "display_data"
    }
   ],
   "source": [
    "# floor_area = data_df['Total floor area'] / data_df['Number of floor']\n",
    "area_df = data_df.iloc[:, [0, 6, 7]]\n",
    "area_df['area'] = area_df['Total floor area'] / area_df['Number of floor']\n",
    "fig = px.histogram(area_df, x='area', color=area_df.columns[0])\n",
    "fig.update_traces(marker_line_width=1, marker_line_color='black')\n",
    "fig.show()"
   ]
  },
  {
   "cell_type": "markdown",
   "id": "12bc8ecc-64a5-4612-ab49-e19eb0ca0e63",
   "metadata": {},
   "source": [
    "**Nhận xét:**\n",
    "- Phổ biến nhất là những ngôi nhà có diện tích từ 20 - 40$m^2/tầng$.\n",
    "- Những nhà có diện tích 10 - 20$m^2/tầng$ cũng xuất hiện khá nhiều với 14 nhà trong bảng khảo sát.\n",
    "- Khoảng diện tích 50 - 60$m^2/tầng$ không phổ biến bằng những khoảng xung quanh.\n",
    "- Những ngôi nhà với diện tích 110 - 120$m^2/tầng$ đang trở nên khá phổ biến.\n",
    "- Những ngôi nhà với diện tích cho mỗi tầng $\\leq 10m^2$ chỉ có với những người ở vùng khí hậu miền Bắc."
   ]
  },
  {
   "cell_type": "code",
   "execution_count": 9,
   "id": "5227fdda-fd7c-486c-9018-fa7913a2801e",
   "metadata": {},
   "outputs": [
    {
     "data": {
      "image/png": "[encoded data removed]",
      "text/plain": [
       "<Figure size 432x432 with 4 Axes>"
      ]
     },
     "metadata": {
      "needs_background": "light"
     },
     "output_type": "display_data"
    }
   ],
   "source": [
    "fg = sns.FacetGrid(data = data_df, row ='Solar hotwater', col='Energy efficiency equipment', margin_titles=True)\n",
    "fg.map(sns.scatterplot, 'number of airconditioning', 'total energy consumption')\n",
    "fg.map(sns.scatterplot, 'number of electricity water heater', 'total energy consumption', color ='orange', cmap= 'viridis', alpha = 0.4);"
   ]
  },
  {
   "cell_type": "code",
   "execution_count": null,
   "id": "4647a83a-0fb4-4fdf-a7ce-e5c10c21ab51",
   "metadata": {},
   "outputs": [],
   "source": [
    "fg = sns.relplot(row ='Solar hotwater', col='Energy efficiency equipment',\n",
    "                x=data_df[['number of airconditioning', 'number of electricity water heater']],\n",
    "                y=data_df[['total energy consumption']])"
   ]
  },
  {
   "cell_type": "code",
   "execution_count": 16,
   "id": "a2f27912-99a4-4876-a842-22a3fd636b9a",
   "metadata": {},
   "outputs": [],
   "source": [
    "plt.close('all')"
   ]
  },
  {
   "cell_type": "markdown",
   "id": "786e9899-799a-4ecd-bc55-4962d577f595",
   "metadata": {},
   "source": [
    "# Phân tích dữ liệu.\n",
    "## Câu hỏi 1\n",
    "**Câu hỏi đặt ra là:** Chênh lệch giũa lượng điện năng tiêu thụ nhiều nhất và ít nhất trên từng người ở những nhà không sử dụng thiết bị tiết kiệm điện so với những nhà có sử dụng như thế nào?\n",
    "\n",
    "**Trả lời được câu hỏi này** giúp nhóm phần nào hiểu được sự khác biệt của lượng điện tiêu thụ khi nhà có sử dụng thiết bị tiết kiệm diện so với những nhà không sử dụng, qua đó thấy được hiệu quả của các thiết bị tiết kiệm điện là như thế nào.\n",
    "\n",
    "**Các bước thực hiện:**\n",
    "1. Truy xuất 2 cột lượng điện tiêu thụ thấp và cao nhất và chia cho số cư dân của những ngôi nhà.\n",
    "2. Ghép cột thể hiện xài có hay không xài thiết bị tiết kiệm điện.\n",
    "3. Trực quan dữ liệu ở trên chia theo những nhà có và không sử dụng thiết bị tiết kiệm điện."
   ]
  },
  {
   "cell_type": "code",
   "execution_count": null,
   "id": "f3b54fa8-ac94-4d93-bd99-2879744ab1fc",
   "metadata": {},
   "outputs": [],
   "source": [
    "electricity_per_person = data_df.iloc[:, 16:18].div(data_df['Number of occupants'], 0)\n",
    "electricity_per_person"
   ]
  },
  {
   "cell_type": "code",
   "execution_count": 5,
   "id": "7a85d10d-cf2f-466b-969c-481508bf83be",
   "metadata": {},
   "outputs": [
    {
     "data": {
      "text/html": [
       "<div>\n",
       "<style scoped>\n",
       "    .dataframe tbody tr th:only-of-type {\n",
       "        vertical-align: middle;\n",
       "    }\n",
       "\n",
       "    .dataframe tbody tr th {\n",
       "        vertical-align: top;\n",
       "    }\n",
       "\n",
       "    .dataframe thead th {\n",
       "        text-align: right;\n",
       "    }\n",
       "</style>\n",
       "<table border=\"1\" class=\"dataframe\">\n",
       "  <thead>\n",
       "    <tr style=\"text-align: right;\">\n",
       "      <th></th>\n",
       "      <th>maximum electricity consumption</th>\n",
       "      <th>minimum electricity consumption</th>\n",
       "      <th>Energy efficiency equipment</th>\n",
       "    </tr>\n",
       "  </thead>\n",
       "  <tbody>\n",
       "    <tr>\n",
       "      <th>0</th>\n",
       "      <td>110000.000000</td>\n",
       "      <td>25000.0</td>\n",
       "      <td>Yes</td>\n",
       "    </tr>\n",
       "    <tr>\n",
       "      <th>1</th>\n",
       "      <td>300000.000000</td>\n",
       "      <td>300000.0</td>\n",
       "      <td>No</td>\n",
       "    </tr>\n",
       "    <tr>\n",
       "      <th>2</th>\n",
       "      <td>60000.000000</td>\n",
       "      <td>60000.0</td>\n",
       "      <td>No</td>\n",
       "    </tr>\n",
       "    <tr>\n",
       "      <th>3</th>\n",
       "      <td>100000.000000</td>\n",
       "      <td>100000.0</td>\n",
       "      <td>No</td>\n",
       "    </tr>\n",
       "    <tr>\n",
       "      <th>4</th>\n",
       "      <td>257142.857143</td>\n",
       "      <td>190000.0</td>\n",
       "      <td>Yes</td>\n",
       "    </tr>\n",
       "    <tr>\n",
       "      <th>...</th>\n",
       "      <td>...</td>\n",
       "      <td>...</td>\n",
       "      <td>...</td>\n",
       "    </tr>\n",
       "    <tr>\n",
       "      <th>148</th>\n",
       "      <td>168750.000000</td>\n",
       "      <td>25000.0</td>\n",
       "      <td>Yes</td>\n",
       "    </tr>\n",
       "    <tr>\n",
       "      <th>149</th>\n",
       "      <td>443333.333333</td>\n",
       "      <td>310000.0</td>\n",
       "      <td>Yes</td>\n",
       "    </tr>\n",
       "    <tr>\n",
       "      <th>150</th>\n",
       "      <td>337500.000000</td>\n",
       "      <td>120000.0</td>\n",
       "      <td>No</td>\n",
       "    </tr>\n",
       "    <tr>\n",
       "      <th>151</th>\n",
       "      <td>120000.000000</td>\n",
       "      <td>50000.0</td>\n",
       "      <td>Yes</td>\n",
       "    </tr>\n",
       "    <tr>\n",
       "      <th>152</th>\n",
       "      <td>168750.000000</td>\n",
       "      <td>110000.0</td>\n",
       "      <td>Yes</td>\n",
       "    </tr>\n",
       "  </tbody>\n",
       "</table>\n",
       "<p>153 rows × 3 columns</p>\n",
       "</div>"
      ],
      "text/plain": [
       "     maximum electricity consumption  minimum electricity consumption  \\\n",
       "0                      110000.000000                          25000.0   \n",
       "1                      300000.000000                         300000.0   \n",
       "2                       60000.000000                          60000.0   \n",
       "3                      100000.000000                         100000.0   \n",
       "4                      257142.857143                         190000.0   \n",
       "..                               ...                              ...   \n",
       "148                    168750.000000                          25000.0   \n",
       "149                    443333.333333                         310000.0   \n",
       "150                    337500.000000                         120000.0   \n",
       "151                    120000.000000                          50000.0   \n",
       "152                    168750.000000                         110000.0   \n",
       "\n",
       "    Energy efficiency equipment  \n",
       "0                           Yes  \n",
       "1                            No  \n",
       "2                            No  \n",
       "3                            No  \n",
       "4                           Yes  \n",
       "..                          ...  \n",
       "148                         Yes  \n",
       "149                         Yes  \n",
       "150                          No  \n",
       "151                         Yes  \n",
       "152                         Yes  \n",
       "\n",
       "[153 rows x 3 columns]"
      ]
     },
     "execution_count": 5,
     "metadata": {},
     "output_type": "execute_result"
    }
   ],
   "source": [
    "electricity_per_person = electricity_per_person.join(data_df['Energy efficiency equipment'])\n",
    "electricity_per_person"
   ]
  },
  {
   "cell_type": "code",
   "execution_count": 8,
   "id": "b5f98d87-daee-4252-9904-66f155c318c5",
   "metadata": {},
   "outputs": [
    {
     "data": {
      "application/vnd.plotly.v1+json": {
       "config": {
        "plotlyServerURL": "https://plot.ly"
       },
       "data": [
        {
         "alignmentgroup": "True",
         "box": {
          "visible": false
         },
         "hovertemplate": "Energy efficiency equipment=Yes<br>variable=%{x}<br>value=%{y}<extra></extra>",
         "legendgroup": "Yes",
         "marker": {
          "color": "#636efa"
         },
         "name": "Yes",
         "offsetgroup": "Yes",
         "orientation": "v",
         "points": "all",
         "scalegroup": "True",
         "showlegend": true,
         "type": "violin",
         "visible": true,
         "x": [
          "maximum electricity consumption",
          "maximum electricity consumption",
          "maximum electricity consumption",
          "maximum electricity consumption",
          "maximum electricity consumption",
          "maximum electricity consumption",
          "maximum electricity consumption",
          "maximum electricity consumption",
          "maximum electricity consumption",
          "maximum electricity consumption",
          "maximum electricity consumption",
          "maximum electricity consumption",
          "maximum electricity consumption",
          "maximum electricity consumption",
          "maximum electricity consumption",
          "maximum electricity consumption",
          "maximum electricity consumption",
          "maximum electricity consumption",
          "maximum electricity consumption",
          "maximum electricity consumption",
          "maximum electricity consumption",
          "maximum electricity consumption",
          "maximum electricity consumption",
          "maximum electricity consumption",
          "maximum electricity consumption",
          "maximum electricity consumption",
          "maximum electricity consumption",
          "maximum electricity consumption",
          "maximum electricity consumption",
          "maximum electricity consumption",
          "maximum electricity consumption",
          "maximum electricity consumption",
          "maximum electricity consumption",
          "maximum electricity consumption",
          "maximum electricity consumption",
          "maximum electricity consumption",
          "maximum electricity consumption",
          "maximum electricity consumption",
          "maximum electricity consumption",
          "maximum electricity consumption",
          "maximum electricity consumption",
          "maximum electricity consumption",
          "maximum electricity consumption",
          "maximum electricity consumption",
          "maximum electricity consumption",
          "maximum electricity consumption",
          "maximum electricity consumption",
          "maximum electricity consumption",
          "maximum electricity consumption",
          "maximum electricity consumption",
          "maximum electricity consumption",
          "maximum electricity consumption",
          "maximum electricity consumption",
          "maximum electricity consumption",
          "maximum electricity consumption",
          "maximum electricity consumption",
          "maximum electricity consumption",
          "maximum electricity consumption",
          "maximum electricity consumption",
          "maximum electricity consumption",
          "maximum electricity consumption",
          "maximum electricity consumption",
          "maximum electricity consumption",
          "maximum electricity consumption",
          "maximum electricity consumption",
          "maximum electricity consumption",
          "maximum electricity consumption",
          "maximum electricity consumption",
          "maximum electricity consumption",
          "maximum electricity consumption",
          "maximum electricity consumption",
          "maximum electricity consumption",
          "minimum electricity consumption",
          "minimum electricity consumption",
          "minimum electricity consumption",
          "minimum electricity consumption",
          "minimum electricity consumption",
          "minimum electricity consumption",
          "minimum electricity consumption",
          "minimum electricity consumption",
          "minimum electricity consumption",
          "minimum electricity consumption",
          "minimum electricity consumption",
          "minimum electricity consumption",
          "minimum electricity consumption",
          "minimum electricity consumption",
          "minimum electricity consumption",
          "minimum electricity consumption",
          "minimum electricity consumption",
          "minimum electricity consumption",
          "minimum electricity consumption",
          "minimum electricity consumption",
          "minimum electricity consumption",
          "minimum electricity consumption",
          "minimum electricity consumption",
          "minimum electricity consumption",
          "minimum electricity consumption",
          "minimum electricity consumption",
          "minimum electricity consumption",
          "minimum electricity consumption",
          "minimum electricity consumption",
          "minimum electricity consumption",
          "minimum electricity consumption",
          "minimum electricity consumption",
          "minimum electricity consumption",
          "minimum electricity consumption",
          "minimum electricity consumption",
          "minimum electricity consumption",
          "minimum electricity consumption",
          "minimum electricity consumption",
          "minimum electricity consumption",
          "minimum electricity consumption",
          "minimum electricity consumption",
          "minimum electricity consumption",
          "minimum electricity consumption",
          "minimum electricity consumption",
          "minimum electricity consumption",
          "minimum electricity consumption",
          "minimum electricity consumption",
          "minimum electricity consumption",
          "minimum electricity consumption",
          "minimum electricity consumption",
          "minimum electricity consumption",
          "minimum electricity consumption",
          "minimum electricity consumption",
          "minimum electricity consumption",
          "minimum electricity consumption",
          "minimum electricity consumption",
          "minimum electricity consumption",
          "minimum electricity consumption",
          "minimum electricity consumption",
          "minimum electricity consumption",
          "minimum electricity consumption",
          "minimum electricity consumption",
          "minimum electricity consumption",
          "minimum electricity consumption",
          "minimum electricity consumption",
          "minimum electricity consumption",
          "minimum electricity consumption",
          "minimum electricity consumption",
          "minimum electricity consumption",
          "minimum electricity consumption",
          "minimum electricity consumption",
          "minimum electricity consumption"
         ],
         "x0": " ",
         "xaxis": "x",
         "y": [
          110000,
          257142.85714285713,
          220000,
          450000,
          110000,
          450000,
          110000,
          73333.33333333333,
          146666.66666666666,
          266000,
          62857.142857142855,
          146666.66666666666,
          266000,
          257142.85714285713,
          221666.66666666666,
          300000,
          332500,
          120000,
          310000,
          450000,
          110000,
          80000,
          132857.14285714287,
          332500,
          443333.3333333333,
          186000,
          220000,
          88000,
          220000,
          186000,
          266000,
          240000,
          266000,
          930000,
          257142.85714285713,
          80000,
          221666.66666666666,
          168750,
          221666.66666666666,
          220000,
          168750,
          443333.3333333333,
          360000,
          48000,
          186000,
          null,
          257142.85714285713,
          146666.66666666666,
          266000,
          300000,
          266000,
          225000,
          440000,
          110000,
          450000,
          80000,
          60000,
          450000,
          266000,
          310000,
          332500,
          337500,
          120000,
          266000,
          232500,
          186000,
          221666.66666666666,
          465000,
          168750,
          443333.3333333333,
          120000,
          168750,
          25000,
          190000,
          120000,
          232500,
          60000,
          450000,
          110000,
          40000,
          80000,
          48000,
          34285.71428571428,
          80000,
          88000,
          190000,
          73333.33333333333,
          155000,
          232500,
          120000,
          146666.66666666666,
          232500,
          60000,
          80000,
          62857.142857142855,
          110000,
          146666.66666666666,
          135000,
          120000,
          48000,
          120000,
          48000,
          88000,
          100000,
          135000,
          675000,
          190000,
          80000,
          155000,
          110000,
          112500,
          120000,
          60000,
          146666.66666666666,
          48000,
          20000,
          88000,
          null,
          96428.57142857143,
          80000,
          135000,
          112500,
          88000,
          225000,
          240000,
          60000,
          332500,
          33333.333333333336,
          25000,
          110000,
          135000,
          146666.66666666666,
          60000,
          50000,
          50000,
          135000,
          110000,
          88000,
          73333.33333333333,
          337500,
          25000,
          310000,
          50000,
          110000
         ],
         "y0": " ",
         "yaxis": "y"
        },
        {
         "alignmentgroup": "True",
         "box": {
          "visible": false
         },
         "hovertemplate": "Energy efficiency equipment=No<br>variable=%{x}<br>value=%{y}<extra></extra>",
         "legendgroup": "No",
         "marker": {
          "color": "#EF553B"
         },
         "name": "No",
         "offsetgroup": "No",
         "orientation": "v",
         "points": "all",
         "scalegroup": "True",
         "showlegend": true,
         "type": "violin",
         "visible": true,
         "x": [
          "maximum electricity consumption",
          "maximum electricity consumption",
          "maximum electricity consumption",
          "maximum electricity consumption",
          "maximum electricity consumption",
          "maximum electricity consumption",
          "maximum electricity consumption",
          "maximum electricity consumption",
          "maximum electricity consumption",
          "maximum electricity consumption",
          "maximum electricity consumption",
          "maximum electricity consumption",
          "maximum electricity consumption",
          "maximum electricity consumption",
          "maximum electricity consumption",
          "maximum electricity consumption",
          "maximum electricity consumption",
          "maximum electricity consumption",
          "maximum electricity consumption",
          "maximum electricity consumption",
          "maximum electricity consumption",
          "maximum electricity consumption",
          "maximum electricity consumption",
          "maximum electricity consumption",
          "maximum electricity consumption",
          "maximum electricity consumption",
          "maximum electricity consumption",
          "maximum electricity consumption",
          "maximum electricity consumption",
          "maximum electricity consumption",
          "maximum electricity consumption",
          "maximum electricity consumption",
          "maximum electricity consumption",
          "maximum electricity consumption",
          "maximum electricity consumption",
          "maximum electricity consumption",
          "maximum electricity consumption",
          "maximum electricity consumption",
          "maximum electricity consumption",
          "maximum electricity consumption",
          "maximum electricity consumption",
          "maximum electricity consumption",
          "maximum electricity consumption",
          "maximum electricity consumption",
          "maximum electricity consumption",
          "maximum electricity consumption",
          "maximum electricity consumption",
          "maximum electricity consumption",
          "maximum electricity consumption",
          "maximum electricity consumption",
          "maximum electricity consumption",
          "maximum electricity consumption",
          "maximum electricity consumption",
          "maximum electricity consumption",
          "maximum electricity consumption",
          "maximum electricity consumption",
          "maximum electricity consumption",
          "maximum electricity consumption",
          "maximum electricity consumption",
          "maximum electricity consumption",
          "maximum electricity consumption",
          "maximum electricity consumption",
          "maximum electricity consumption",
          "maximum electricity consumption",
          "maximum electricity consumption",
          "maximum electricity consumption",
          "maximum electricity consumption",
          "maximum electricity consumption",
          "maximum electricity consumption",
          "maximum electricity consumption",
          "maximum electricity consumption",
          "maximum electricity consumption",
          "maximum electricity consumption",
          "maximum electricity consumption",
          "maximum electricity consumption",
          "maximum electricity consumption",
          "maximum electricity consumption",
          "maximum electricity consumption",
          "maximum electricity consumption",
          "maximum electricity consumption",
          "maximum electricity consumption",
          "minimum electricity consumption",
          "minimum electricity consumption",
          "minimum electricity consumption",
          "minimum electricity consumption",
          "minimum electricity consumption",
          "minimum electricity consumption",
          "minimum electricity consumption",
          "minimum electricity consumption",
          "minimum electricity consumption",
          "minimum electricity consumption",
          "minimum electricity consumption",
          "minimum electricity consumption",
          "minimum electricity consumption",
          "minimum electricity consumption",
          "minimum electricity consumption",
          "minimum electricity consumption",
          "minimum electricity consumption",
          "minimum electricity consumption",
          "minimum electricity consumption",
          "minimum electricity consumption",
          "minimum electricity consumption",
          "minimum electricity consumption",
          "minimum electricity consumption",
          "minimum electricity consumption",
          "minimum electricity consumption",
          "minimum electricity consumption",
          "minimum electricity consumption",
          "minimum electricity consumption",
          "minimum electricity consumption",
          "minimum electricity consumption",
          "minimum electricity consumption",
          "minimum electricity consumption",
          "minimum electricity consumption",
          "minimum electricity consumption",
          "minimum electricity consumption",
          "minimum electricity consumption",
          "minimum electricity consumption",
          "minimum electricity consumption",
          "minimum electricity consumption",
          "minimum electricity consumption",
          "minimum electricity consumption",
          "minimum electricity consumption",
          "minimum electricity consumption",
          "minimum electricity consumption",
          "minimum electricity consumption",
          "minimum electricity consumption",
          "minimum electricity consumption",
          "minimum electricity consumption",
          "minimum electricity consumption",
          "minimum electricity consumption",
          "minimum electricity consumption",
          "minimum electricity consumption",
          "minimum electricity consumption",
          "minimum electricity consumption",
          "minimum electricity consumption",
          "minimum electricity consumption",
          "minimum electricity consumption",
          "minimum electricity consumption",
          "minimum electricity consumption",
          "minimum electricity consumption",
          "minimum electricity consumption",
          "minimum electricity consumption",
          "minimum electricity consumption",
          "minimum electricity consumption",
          "minimum electricity consumption",
          "minimum electricity consumption",
          "minimum electricity consumption",
          "minimum electricity consumption",
          "minimum electricity consumption",
          "minimum electricity consumption",
          "minimum electricity consumption",
          "minimum electricity consumption",
          "minimum electricity consumption",
          "minimum electricity consumption",
          "minimum electricity consumption",
          "minimum electricity consumption",
          "minimum electricity consumption",
          "minimum electricity consumption",
          "minimum electricity consumption",
          "minimum electricity consumption",
          "minimum electricity consumption"
         ],
         "x0": " ",
         "xaxis": "x",
         "y": [
          300000,
          60000,
          100000,
          257142.85714285713,
          300000,
          168750,
          360000,
          360000,
          168750,
          465000,
          240000,
          110000,
          146666.66666666666,
          146666.66666666666,
          310000,
          135000,
          135000,
          168750,
          112500,
          20000,
          337500,
          135000,
          135000,
          450000,
          168750,
          135000,
          310000,
          360000,
          155000,
          240000,
          110000,
          100000,
          120000,
          232500,
          168750,
          168750,
          266000,
          40000,
          450000,
          232500,
          310000,
          33333.333333333336,
          300000,
          337500,
          332500,
          225000,
          450000,
          300000,
          220000,
          450000,
          360000,
          225000,
          332500,
          337500,
          48000,
          48000,
          110000,
          null,
          190000,
          310000,
          332500,
          112500,
          332500,
          443333.3333333333,
          112500,
          257142.85714285713,
          332500,
          221666.66666666666,
          80000,
          146666.66666666666,
          120000,
          186000,
          332500,
          310000,
          88000,
          332500,
          120000,
          310000,
          443333.3333333333,
          450000,
          337500,
          300000,
          60000,
          100000,
          257142.85714285713,
          300000,
          168750,
          186000,
          186000,
          110000,
          337500,
          100000,
          110000,
          80000,
          33333.333333333336,
          146666.66666666666,
          88000,
          88000,
          168750,
          40000,
          20000,
          220000,
          88000,
          88000,
          168750,
          110000,
          88000,
          225000,
          135000,
          112500,
          100000,
          60000,
          100000,
          50000,
          168750,
          110000,
          60000,
          88000,
          40000,
          110000,
          110000,
          225000,
          33333.333333333336,
          221666.66666666666,
          120000,
          168750,
          146666.66666666666,
          168750,
          221666.66666666666,
          120000,
          168750,
          266000,
          146666.66666666666,
          110000,
          120000,
          48000,
          48000,
          60000,
          null,
          132857.14285714287,
          146666.66666666666,
          232500,
          73333.33333333333,
          168750,
          225000,
          73333.33333333333,
          132857.14285714287,
          232500,
          155000,
          80000,
          80000,
          50000,
          48000,
          168750,
          80000,
          48000,
          168750,
          50000,
          225000,
          310000,
          232500,
          120000
         ],
         "y0": " ",
         "yaxis": "y"
        }
       ],
       "layout": {
        "autosize": true,
        "legend": {
         "title": {
          "text": "Energy efficiency equipment"
         },
         "tracegroupgap": 0
        },
        "margin": {
         "t": 60
        },
        "template": {
         "data": {
          "bar": [
           {
            "error_x": {
             "color": "#2a3f5f"
            },
            "error_y": {
             "color": "#2a3f5f"
            },
            "marker": {
             "line": {
              "color": "#E5ECF6",
              "width": 0.5
             },
             "pattern": {
              "fillmode": "overlay",
              "size": 10,
              "solidity": 0.2
             }
            },
            "type": "bar"
           }
          ],
          "barpolar": [
           {
            "marker": {
             "line": {
              "color": "#E5ECF6",
              "width": 0.5
             },
             "pattern": {
              "fillmode": "overlay",
              "size": 10,
              "solidity": 0.2
             }
            },
            "type": "barpolar"
           }
          ],
          "carpet": [
           {
            "aaxis": {
             "endlinecolor": "#2a3f5f",
             "gridcolor": "white",
             "linecolor": "white",
             "minorgridcolor": "white",
             "startlinecolor": "#2a3f5f"
            },
            "baxis": {
             "endlinecolor": "#2a3f5f",
             "gridcolor": "white",
             "linecolor": "white",
             "minorgridcolor": "white",
             "startlinecolor": "#2a3f5f"
            },
            "type": "carpet"
           }
          ],
          "choropleth": [
           {
            "colorbar": {
             "outlinewidth": 0,
             "ticks": ""
            },
            "type": "choropleth"
           }
          ],
          "contour": [
           {
            "colorbar": {
             "outlinewidth": 0,
             "ticks": ""
            },
            "colorscale": [
             [
              0,
              "#0d0887"
             ],
             [
              0.1111111111111111,
              "#46039f"
             ],
             [
              0.2222222222222222,
              "#7201a8"
             ],
             [
              0.3333333333333333,
              "#9c179e"
             ],
             [
              0.4444444444444444,
              "#bd3786"
             ],
             [
              0.5555555555555556,
              "#d8576b"
             ],
             [
              0.6666666666666666,
              "#ed7953"
             ],
             [
              0.7777777777777778,
              "#fb9f3a"
             ],
             [
              0.8888888888888888,
              "#fdca26"
             ],
             [
              1,
              "#f0f921"
             ]
            ],
            "type": "contour"
           }
          ],
          "contourcarpet": [
           {
            "colorbar": {
             "outlinewidth": 0,
             "ticks": ""
            },
            "type": "contourcarpet"
           }
          ],
          "heatmap": [
           {
            "colorbar": {
             "outlinewidth": 0,
             "ticks": ""
            },
            "colorscale": [
             [
              0,
              "#0d0887"
             ],
             [
              0.1111111111111111,
              "#46039f"
             ],
             [
              0.2222222222222222,
              "#7201a8"
             ],
             [
              0.3333333333333333,
              "#9c179e"
             ],
             [
              0.4444444444444444,
              "#bd3786"
             ],
             [
              0.5555555555555556,
              "#d8576b"
             ],
             [
              0.6666666666666666,
              "#ed7953"
             ],
             [
              0.7777777777777778,
              "#fb9f3a"
             ],
             [
              0.8888888888888888,
              "#fdca26"
             ],
             [
              1,
              "#f0f921"
             ]
            ],
            "type": "heatmap"
           }
          ],
          "heatmapgl": [
           {
            "colorbar": {
             "outlinewidth": 0,
             "ticks": ""
            },
            "colorscale": [
             [
              0,
              "#0d0887"
             ],
             [
              0.1111111111111111,
              "#46039f"
             ],
             [
              0.2222222222222222,
              "#7201a8"
             ],
             [
              0.3333333333333333,
              "#9c179e"
             ],
             [
              0.4444444444444444,
              "#bd3786"
             ],
             [
              0.5555555555555556,
              "#d8576b"
             ],
             [
              0.6666666666666666,
              "#ed7953"
             ],
             [
              0.7777777777777778,
              "#fb9f3a"
             ],
             [
              0.8888888888888888,
              "#fdca26"
             ],
             [
              1,
              "#f0f921"
             ]
            ],
            "type": "heatmapgl"
           }
          ],
          "histogram": [
           {
            "marker": {
             "pattern": {
              "fillmode": "overlay",
              "size": 10,
              "solidity": 0.2
             }
            },
            "type": "histogram"
           }
          ],
          "histogram2d": [
           {
            "colorbar": {
             "outlinewidth": 0,
             "ticks": ""
            },
            "colorscale": [
             [
              0,
              "#0d0887"
             ],
             [
              0.1111111111111111,
              "#46039f"
             ],
             [
              0.2222222222222222,
              "#7201a8"
             ],
             [
              0.3333333333333333,
              "#9c179e"
             ],
             [
              0.4444444444444444,
              "#bd3786"
             ],
             [
              0.5555555555555556,
              "#d8576b"
             ],
             [
              0.6666666666666666,
              "#ed7953"
             ],
             [
              0.7777777777777778,
              "#fb9f3a"
             ],
             [
              0.8888888888888888,
              "#fdca26"
             ],
             [
              1,
              "#f0f921"
             ]
            ],
            "type": "histogram2d"
           }
          ],
          "histogram2dcontour": [
           {
            "colorbar": {
             "outlinewidth": 0,
             "ticks": ""
            },
            "colorscale": [
             [
              0,
              "#0d0887"
             ],
             [
              0.1111111111111111,
              "#46039f"
             ],
             [
              0.2222222222222222,
              "#7201a8"
             ],
             [
              0.3333333333333333,
              "#9c179e"
             ],
             [
              0.4444444444444444,
              "#bd3786"
             ],
             [
              0.5555555555555556,
              "#d8576b"
             ],
             [
              0.6666666666666666,
              "#ed7953"
             ],
             [
              0.7777777777777778,
              "#fb9f3a"
             ],
             [
              0.8888888888888888,
              "#fdca26"
             ],
             [
              1,
              "#f0f921"
             ]
            ],
            "type": "histogram2dcontour"
           }
          ],
          "mesh3d": [
           {
            "colorbar": {
             "outlinewidth": 0,
             "ticks": ""
            },
            "type": "mesh3d"
           }
          ],
          "parcoords": [
           {
            "line": {
             "colorbar": {
              "outlinewidth": 0,
              "ticks": ""
             }
            },
            "type": "parcoords"
           }
          ],
          "pie": [
           {
            "automargin": true,
            "type": "pie"
           }
          ],
          "scatter": [
           {
            "marker": {
             "colorbar": {
              "outlinewidth": 0,
              "ticks": ""
             }
            },
            "type": "scatter"
           }
          ],
          "scatter3d": [
           {
            "line": {
             "colorbar": {
              "outlinewidth": 0,
              "ticks": ""
             }
            },
            "marker": {
             "colorbar": {
              "outlinewidth": 0,
              "ticks": ""
             }
            },
            "type": "scatter3d"
           }
          ],
          "scattercarpet": [
           {
            "marker": {
             "colorbar": {
              "outlinewidth": 0,
              "ticks": ""
             }
            },
            "type": "scattercarpet"
           }
          ],
          "scattergeo": [
           {
            "marker": {
             "colorbar": {
              "outlinewidth": 0,
              "ticks": ""
             }
            },
            "type": "scattergeo"
           }
          ],
          "scattergl": [
           {
            "marker": {
             "colorbar": {
              "outlinewidth": 0,
              "ticks": ""
             }
            },
            "type": "scattergl"
           }
          ],
          "scattermapbox": [
           {
            "marker": {
             "colorbar": {
              "outlinewidth": 0,
              "ticks": ""
             }
            },
            "type": "scattermapbox"
           }
          ],
          "scatterpolar": [
           {
            "marker": {
             "colorbar": {
              "outlinewidth": 0,
              "ticks": ""
             }
            },
            "type": "scatterpolar"
           }
          ],
          "scatterpolargl": [
           {
            "marker": {
             "colorbar": {
              "outlinewidth": 0,
              "ticks": ""
             }
            },
            "type": "scatterpolargl"
           }
          ],
          "scatterternary": [
           {
            "marker": {
             "colorbar": {
              "outlinewidth": 0,
              "ticks": ""
             }
            },
            "type": "scatterternary"
           }
          ],
          "surface": [
           {
            "colorbar": {
             "outlinewidth": 0,
             "ticks": ""
            },
            "colorscale": [
             [
              0,
              "#0d0887"
             ],
             [
              0.1111111111111111,
              "#46039f"
             ],
             [
              0.2222222222222222,
              "#7201a8"
             ],
             [
              0.3333333333333333,
              "#9c179e"
             ],
             [
              0.4444444444444444,
              "#bd3786"
             ],
             [
              0.5555555555555556,
              "#d8576b"
             ],
             [
              0.6666666666666666,
              "#ed7953"
             ],
             [
              0.7777777777777778,
              "#fb9f3a"
             ],
             [
              0.8888888888888888,
              "#fdca26"
             ],
             [
              1,
              "#f0f921"
             ]
            ],
            "type": "surface"
           }
          ],
          "table": [
           {
            "cells": {
             "fill": {
              "color": "#EBF0F8"
             },
             "line": {
              "color": "white"
             }
            },
            "header": {
             "fill": {
              "color": "#C8D4E3"
             },
             "line": {
              "color": "white"
             }
            },
            "type": "table"
           }
          ]
         },
         "layout": {
          "annotationdefaults": {
           "arrowcolor": "#2a3f5f",
           "arrowhead": 0,
           "arrowwidth": 1
          },
          "autotypenumbers": "strict",
          "coloraxis": {
           "colorbar": {
            "outlinewidth": 0,
            "ticks": ""
           }
          },
          "colorscale": {
           "diverging": [
            [
             0,
             "#8e0152"
            ],
            [
             0.1,
             "#c51b7d"
            ],
            [
             0.2,
             "#de77ae"
            ],
            [
             0.3,
             "#f1b6da"
            ],
            [
             0.4,
             "#fde0ef"
            ],
            [
             0.5,
             "#f7f7f7"
            ],
            [
             0.6,
             "#e6f5d0"
            ],
            [
             0.7,
             "#b8e186"
            ],
            [
             0.8,
             "#7fbc41"
            ],
            [
             0.9,
             "#4d9221"
            ],
            [
             1,
             "#276419"
            ]
           ],
           "sequential": [
            [
             0,
             "#0d0887"
            ],
            [
             0.1111111111111111,
             "#46039f"
            ],
            [
             0.2222222222222222,
             "#7201a8"
            ],
            [
             0.3333333333333333,
             "#9c179e"
            ],
            [
             0.4444444444444444,
             "#bd3786"
            ],
            [
             0.5555555555555556,
             "#d8576b"
            ],
            [
             0.6666666666666666,
             "#ed7953"
            ],
            [
             0.7777777777777778,
             "#fb9f3a"
            ],
            [
             0.8888888888888888,
             "#fdca26"
            ],
            [
             1,
             "#f0f921"
            ]
           ],
           "sequentialminus": [
            [
             0,
             "#0d0887"
            ],
            [
             0.1111111111111111,
             "#46039f"
            ],
            [
             0.2222222222222222,
             "#7201a8"
            ],
            [
             0.3333333333333333,
             "#9c179e"
            ],
            [
             0.4444444444444444,
             "#bd3786"
            ],
            [
             0.5555555555555556,
             "#d8576b"
            ],
            [
             0.6666666666666666,
             "#ed7953"
            ],
            [
             0.7777777777777778,
             "#fb9f3a"
            ],
            [
             0.8888888888888888,
             "#fdca26"
            ],
            [
             1,
             "#f0f921"
            ]
           ]
          },
          "colorway": [
           "#636efa",
           "#EF553B",
           "#00cc96",
           "#ab63fa",
           "#FFA15A",
           "#19d3f3",
           "#FF6692",
           "#B6E880",
           "#FF97FF",
           "#FECB52"
          ],
          "font": {
           "color": "#2a3f5f"
          },
          "geo": {
           "bgcolor": "white",
           "lakecolor": "white",
           "landcolor": "#E5ECF6",
           "showlakes": true,
           "showland": true,
           "subunitcolor": "white"
          },
          "hoverlabel": {
           "align": "left"
          },
          "hovermode": "closest",
          "mapbox": {
           "style": "light"
          },
          "paper_bgcolor": "white",
          "plot_bgcolor": "#E5ECF6",
          "polar": {
           "angularaxis": {
            "gridcolor": "white",
            "linecolor": "white",
            "ticks": ""
           },
           "bgcolor": "#E5ECF6",
           "radialaxis": {
            "gridcolor": "white",
            "linecolor": "white",
            "ticks": ""
           }
          },
          "scene": {
           "xaxis": {
            "backgroundcolor": "#E5ECF6",
            "gridcolor": "white",
            "gridwidth": 2,
            "linecolor": "white",
            "showbackground": true,
            "ticks": "",
            "zerolinecolor": "white"
           },
           "yaxis": {
            "backgroundcolor": "#E5ECF6",
            "gridcolor": "white",
            "gridwidth": 2,
            "linecolor": "white",
            "showbackground": true,
            "ticks": "",
            "zerolinecolor": "white"
           },
           "zaxis": {
            "backgroundcolor": "#E5ECF6",
            "gridcolor": "white",
            "gridwidth": 2,
            "linecolor": "white",
            "showbackground": true,
            "ticks": "",
            "zerolinecolor": "white"
           }
          },
          "shapedefaults": {
           "line": {
            "color": "#2a3f5f"
           }
          },
          "ternary": {
           "aaxis": {
            "gridcolor": "white",
            "linecolor": "white",
            "ticks": ""
           },
           "baxis": {
            "gridcolor": "white",
            "linecolor": "white",
            "ticks": ""
           },
           "bgcolor": "#E5ECF6",
           "caxis": {
            "gridcolor": "white",
            "linecolor": "white",
            "ticks": ""
           }
          },
          "title": {
           "x": 0.05
          },
          "xaxis": {
           "automargin": true,
           "gridcolor": "white",
           "linecolor": "white",
           "ticks": "",
           "title": {
            "standoff": 15
           },
           "zerolinecolor": "white",
           "zerolinewidth": 2
          },
          "yaxis": {
           "automargin": true,
           "gridcolor": "white",
           "linecolor": "white",
           "ticks": "",
           "title": {
            "standoff": 15
           },
           "zerolinecolor": "white",
           "zerolinewidth": 2
          }
         }
        },
        "violinmode": "group",
        "xaxis": {
         "anchor": "y",
         "autorange": true,
         "domain": [
          0,
          1
         ],
         "range": [
          -0.6578644708423326,
          1.6135718142548596
         ],
         "title": {
          "text": "variable"
         },
         "type": "category"
        },
        "yaxis": {
         "anchor": "x",
         "autorange": true,
         "domain": [
          0,
          1
         ],
         "range": [
          -148564.7471225171,
          1100088.712628321
         ],
         "title": {
          "text": "value"
         },
         "type": "linear"
        }
       }
      },
      "image/png": "[encoded data removed]",
      "text/html": [
       "<div>                            <div id=\"cbfee37a-fa27-4c54-b5cd-2d93531ee300\" class=\"plotly-graph-div\" style=\"height:525px; width:100%;\"></div>            <script type=\"text/javascript\">                require([\"plotly\"], function(Plotly) {                    window.PLOTLYENV=window.PLOTLYENV || {};                                    if (document.getElementById(\"cbfee37a-fa27-4c54-b5cd-2d93531ee300\")) {                    Plotly.newPlot(                        \"cbfee37a-fa27-4c54-b5cd-2d93531ee300\",                        [{\"alignmentgroup\":\"True\",\"box\":{\"visible\":false},\"hovertemplate\":\"Energy efficiency equipment=Yes<br>variable=%{x}<br>value=%{y}<extra></extra>\",\"legendgroup\":\"Yes\",\"marker\":{\"color\":\"#636efa\"},\"name\":\"Yes\",\"offsetgroup\":\"Yes\",\"orientation\":\"v\",\"points\":\"all\",\"scalegroup\":\"True\",\"showlegend\":true,\"type\":\"violin\",\"x\":[\"maximum electricity consumption\",\"maximum electricity consumption\",\"maximum electricity consumption\",\"maximum electricity consumption\",\"maximum electricity consumption\",\"maximum electricity consumption\",\"maximum electricity consumption\",\"maximum electricity consumption\",\"maximum electricity consumption\",\"maximum electricity consumption\",\"maximum electricity consumption\",\"maximum electricity consumption\",\"maximum electricity consumption\",\"maximum electricity consumption\",\"maximum electricity consumption\",\"maximum electricity consumption\",\"maximum electricity consumption\",\"maximum electricity consumption\",\"maximum electricity consumption\",\"maximum electricity consumption\",\"maximum electricity consumption\",\"maximum electricity consumption\",\"maximum electricity consumption\",\"maximum electricity consumption\",\"maximum electricity consumption\",\"maximum electricity consumption\",\"maximum electricity consumption\",\"maximum electricity consumption\",\"maximum electricity consumption\",\"maximum electricity consumption\",\"maximum electricity consumption\",\"maximum electricity consumption\",\"maximum electricity consumption\",\"maximum electricity consumption\",\"maximum electricity consumption\",\"maximum electricity consumption\",\"maximum electricity consumption\",\"maximum electricity consumption\",\"maximum electricity consumption\",\"maximum electricity consumption\",\"maximum electricity consumption\",\"maximum electricity consumption\",\"maximum electricity consumption\",\"maximum electricity consumption\",\"maximum electricity consumption\",\"maximum electricity consumption\",\"maximum electricity consumption\",\"maximum electricity consumption\",\"maximum electricity consumption\",\"maximum electricity consumption\",\"maximum electricity consumption\",\"maximum electricity consumption\",\"maximum electricity consumption\",\"maximum electricity consumption\",\"maximum electricity consumption\",\"maximum electricity consumption\",\"maximum electricity consumption\",\"maximum electricity consumption\",\"maximum electricity consumption\",\"maximum electricity consumption\",\"maximum electricity consumption\",\"maximum electricity consumption\",\"maximum electricity consumption\",\"maximum electricity consumption\",\"maximum electricity consumption\",\"maximum electricity consumption\",\"maximum electricity consumption\",\"maximum electricity consumption\",\"maximum electricity consumption\",\"maximum electricity consumption\",\"maximum electricity consumption\",\"maximum electricity consumption\",\"minimum electricity consumption\",\"minimum electricity consumption\",\"minimum electricity consumption\",\"minimum electricity consumption\",\"minimum electricity consumption\",\"minimum electricity consumption\",\"minimum electricity consumption\",\"minimum electricity consumption\",\"minimum electricity consumption\",\"minimum electricity consumption\",\"minimum electricity consumption\",\"minimum electricity consumption\",\"minimum electricity consumption\",\"minimum electricity consumption\",\"minimum electricity consumption\",\"minimum electricity consumption\",\"minimum electricity consumption\",\"minimum electricity consumption\",\"minimum electricity consumption\",\"minimum electricity consumption\",\"minimum electricity consumption\",\"minimum electricity consumption\",\"minimum electricity consumption\",\"minimum electricity consumption\",\"minimum electricity consumption\",\"minimum electricity consumption\",\"minimum electricity consumption\",\"minimum electricity consumption\",\"minimum electricity consumption\",\"minimum electricity consumption\",\"minimum electricity consumption\",\"minimum electricity consumption\",\"minimum electricity consumption\",\"minimum electricity consumption\",\"minimum electricity consumption\",\"minimum electricity consumption\",\"minimum electricity consumption\",\"minimum electricity consumption\",\"minimum electricity consumption\",\"minimum electricity consumption\",\"minimum electricity consumption\",\"minimum electricity consumption\",\"minimum electricity consumption\",\"minimum electricity consumption\",\"minimum electricity consumption\",\"minimum electricity consumption\",\"minimum electricity consumption\",\"minimum electricity consumption\",\"minimum electricity consumption\",\"minimum electricity consumption\",\"minimum electricity consumption\",\"minimum electricity consumption\",\"minimum electricity consumption\",\"minimum electricity consumption\",\"minimum electricity consumption\",\"minimum electricity consumption\",\"minimum electricity consumption\",\"minimum electricity consumption\",\"minimum electricity consumption\",\"minimum electricity consumption\",\"minimum electricity consumption\",\"minimum electricity consumption\",\"minimum electricity consumption\",\"minimum electricity consumption\",\"minimum electricity consumption\",\"minimum electricity consumption\",\"minimum electricity consumption\",\"minimum electricity consumption\",\"minimum electricity consumption\",\"minimum electricity consumption\",\"minimum electricity consumption\",\"minimum electricity consumption\"],\"x0\":\" \",\"xaxis\":\"x\",\"y\":[110000.0,257142.85714285713,220000.0,450000.0,110000.0,450000.0,110000.0,73333.33333333333,146666.66666666666,266000.0,62857.142857142855,146666.66666666666,266000.0,257142.85714285713,221666.66666666666,300000.0,332500.0,120000.0,310000.0,450000.0,110000.0,80000.0,132857.14285714287,332500.0,443333.3333333333,186000.0,220000.0,88000.0,220000.0,186000.0,266000.0,240000.0,266000.0,930000.0,257142.85714285713,80000.0,221666.66666666666,168750.0,221666.66666666666,220000.0,168750.0,443333.3333333333,360000.0,48000.0,186000.0,null,257142.85714285713,146666.66666666666,266000.0,300000.0,266000.0,225000.0,440000.0,110000.0,450000.0,80000.0,60000.0,450000.0,266000.0,310000.0,332500.0,337500.0,120000.0,266000.0,232500.0,186000.0,221666.66666666666,465000.0,168750.0,443333.3333333333,120000.0,168750.0,25000.0,190000.0,120000.0,232500.0,60000.0,450000.0,110000.0,40000.0,80000.0,48000.0,34285.71428571428,80000.0,88000.0,190000.0,73333.33333333333,155000.0,232500.0,120000.0,146666.66666666666,232500.0,60000.0,80000.0,62857.142857142855,110000.0,146666.66666666666,135000.0,120000.0,48000.0,120000.0,48000.0,88000.0,100000.0,135000.0,675000.0,190000.0,80000.0,155000.0,110000.0,112500.0,120000.0,60000.0,146666.66666666666,48000.0,20000.0,88000.0,null,96428.57142857143,80000.0,135000.0,112500.0,88000.0,225000.0,240000.0,60000.0,332500.0,33333.333333333336,25000.0,110000.0,135000.0,146666.66666666666,60000.0,50000.0,50000.0,135000.0,110000.0,88000.0,73333.33333333333,337500.0,25000.0,310000.0,50000.0,110000.0],\"y0\":\" \",\"yaxis\":\"y\"},{\"alignmentgroup\":\"True\",\"box\":{\"visible\":false},\"hovertemplate\":\"Energy efficiency equipment=No<br>variable=%{x}<br>value=%{y}<extra></extra>\",\"legendgroup\":\"No\",\"marker\":{\"color\":\"#EF553B\"},\"name\":\"No\",\"offsetgroup\":\"No\",\"orientation\":\"v\",\"points\":\"all\",\"scalegroup\":\"True\",\"showlegend\":true,\"type\":\"violin\",\"x\":[\"maximum electricity consumption\",\"maximum electricity consumption\",\"maximum electricity consumption\",\"maximum electricity consumption\",\"maximum electricity consumption\",\"maximum electricity consumption\",\"maximum electricity consumption\",\"maximum electricity consumption\",\"maximum electricity consumption\",\"maximum electricity consumption\",\"maximum electricity consumption\",\"maximum electricity consumption\",\"maximum electricity consumption\",\"maximum electricity consumption\",\"maximum electricity consumption\",\"maximum electricity consumption\",\"maximum electricity consumption\",\"maximum electricity consumption\",\"maximum electricity consumption\",\"maximum electricity consumption\",\"maximum electricity consumption\",\"maximum electricity consumption\",\"maximum electricity consumption\",\"maximum electricity consumption\",\"maximum electricity consumption\",\"maximum electricity consumption\",\"maximum electricity consumption\",\"maximum electricity consumption\",\"maximum electricity consumption\",\"maximum electricity consumption\",\"maximum electricity consumption\",\"maximum electricity consumption\",\"maximum electricity consumption\",\"maximum electricity consumption\",\"maximum electricity consumption\",\"maximum electricity consumption\",\"maximum electricity consumption\",\"maximum electricity consumption\",\"maximum electricity consumption\",\"maximum electricity consumption\",\"maximum electricity consumption\",\"maximum electricity consumption\",\"maximum electricity consumption\",\"maximum electricity consumption\",\"maximum electricity consumption\",\"maximum electricity consumption\",\"maximum electricity consumption\",\"maximum electricity consumption\",\"maximum electricity consumption\",\"maximum electricity consumption\",\"maximum electricity consumption\",\"maximum electricity consumption\",\"maximum electricity consumption\",\"maximum electricity consumption\",\"maximum electricity consumption\",\"maximum electricity consumption\",\"maximum electricity consumption\",\"maximum electricity consumption\",\"maximum electricity consumption\",\"maximum electricity consumption\",\"maximum electricity consumption\",\"maximum electricity consumption\",\"maximum electricity consumption\",\"maximum electricity consumption\",\"maximum electricity consumption\",\"maximum electricity consumption\",\"maximum electricity consumption\",\"maximum electricity consumption\",\"maximum electricity consumption\",\"maximum electricity consumption\",\"maximum electricity consumption\",\"maximum electricity consumption\",\"maximum electricity consumption\",\"maximum electricity consumption\",\"maximum electricity consumption\",\"maximum electricity consumption\",\"maximum electricity consumption\",\"maximum electricity consumption\",\"maximum electricity consumption\",\"maximum electricity consumption\",\"maximum electricity consumption\",\"minimum electricity consumption\",\"minimum electricity consumption\",\"minimum electricity consumption\",\"minimum electricity consumption\",\"minimum electricity consumption\",\"minimum electricity consumption\",\"minimum electricity consumption\",\"minimum electricity consumption\",\"minimum electricity consumption\",\"minimum electricity consumption\",\"minimum electricity consumption\",\"minimum electricity consumption\",\"minimum electricity consumption\",\"minimum electricity consumption\",\"minimum electricity consumption\",\"minimum electricity consumption\",\"minimum electricity consumption\",\"minimum electricity consumption\",\"minimum electricity consumption\",\"minimum electricity consumption\",\"minimum electricity consumption\",\"minimum electricity consumption\",\"minimum electricity consumption\",\"minimum electricity consumption\",\"minimum electricity consumption\",\"minimum electricity consumption\",\"minimum electricity consumption\",\"minimum electricity consumption\",\"minimum electricity consumption\",\"minimum electricity consumption\",\"minimum electricity consumption\",\"minimum electricity consumption\",\"minimum electricity consumption\",\"minimum electricity consumption\",\"minimum electricity consumption\",\"minimum electricity consumption\",\"minimum electricity consumption\",\"minimum electricity consumption\",\"minimum electricity consumption\",\"minimum electricity consumption\",\"minimum electricity consumption\",\"minimum electricity consumption\",\"minimum electricity consumption\",\"minimum electricity consumption\",\"minimum electricity consumption\",\"minimum electricity consumption\",\"minimum electricity consumption\",\"minimum electricity consumption\",\"minimum electricity consumption\",\"minimum electricity consumption\",\"minimum electricity consumption\",\"minimum electricity consumption\",\"minimum electricity consumption\",\"minimum electricity consumption\",\"minimum electricity consumption\",\"minimum electricity consumption\",\"minimum electricity consumption\",\"minimum electricity consumption\",\"minimum electricity consumption\",\"minimum electricity consumption\",\"minimum electricity consumption\",\"minimum electricity consumption\",\"minimum electricity consumption\",\"minimum electricity consumption\",\"minimum electricity consumption\",\"minimum electricity consumption\",\"minimum electricity consumption\",\"minimum electricity consumption\",\"minimum electricity consumption\",\"minimum electricity consumption\",\"minimum electricity consumption\",\"minimum electricity consumption\",\"minimum electricity consumption\",\"minimum electricity consumption\",\"minimum electricity consumption\",\"minimum electricity consumption\",\"minimum electricity consumption\",\"minimum electricity consumption\",\"minimum electricity consumption\",\"minimum electricity consumption\",\"minimum electricity consumption\"],\"x0\":\" \",\"xaxis\":\"x\",\"y\":[300000.0,60000.0,100000.0,257142.85714285713,300000.0,168750.0,360000.0,360000.0,168750.0,465000.0,240000.0,110000.0,146666.66666666666,146666.66666666666,310000.0,135000.0,135000.0,168750.0,112500.0,20000.0,337500.0,135000.0,135000.0,450000.0,168750.0,135000.0,310000.0,360000.0,155000.0,240000.0,110000.0,100000.0,120000.0,232500.0,168750.0,168750.0,266000.0,40000.0,450000.0,232500.0,310000.0,33333.333333333336,300000.0,337500.0,332500.0,225000.0,450000.0,300000.0,220000.0,450000.0,360000.0,225000.0,332500.0,337500.0,48000.0,48000.0,110000.0,null,190000.0,310000.0,332500.0,112500.0,332500.0,443333.3333333333,112500.0,257142.85714285713,332500.0,221666.66666666666,80000.0,146666.66666666666,120000.0,186000.0,332500.0,310000.0,88000.0,332500.0,120000.0,310000.0,443333.3333333333,450000.0,337500.0,300000.0,60000.0,100000.0,257142.85714285713,300000.0,168750.0,186000.0,186000.0,110000.0,337500.0,100000.0,110000.0,80000.0,33333.333333333336,146666.66666666666,88000.0,88000.0,168750.0,40000.0,20000.0,220000.0,88000.0,88000.0,168750.0,110000.0,88000.0,225000.0,135000.0,112500.0,100000.0,60000.0,100000.0,50000.0,168750.0,110000.0,60000.0,88000.0,40000.0,110000.0,110000.0,225000.0,33333.333333333336,221666.66666666666,120000.0,168750.0,146666.66666666666,168750.0,221666.66666666666,120000.0,168750.0,266000.0,146666.66666666666,110000.0,120000.0,48000.0,48000.0,60000.0,null,132857.14285714287,146666.66666666666,232500.0,73333.33333333333,168750.0,225000.0,73333.33333333333,132857.14285714287,232500.0,155000.0,80000.0,80000.0,50000.0,48000.0,168750.0,80000.0,48000.0,168750.0,50000.0,225000.0,310000.0,232500.0,120000.0],\"y0\":\" \",\"yaxis\":\"y\"}],                        {\"legend\":{\"title\":{\"text\":\"Energy efficiency equipment\"},\"tracegroupgap\":0},\"margin\":{\"t\":60},\"template\":{\"data\":{\"bar\":[{\"error_x\":{\"color\":\"#2a3f5f\"},\"error_y\":{\"color\":\"#2a3f5f\"},\"marker\":{\"line\":{\"color\":\"#E5ECF6\",\"width\":0.5},\"pattern\":{\"fillmode\":\"overlay\",\"size\":10,\"solidity\":0.2}},\"type\":\"bar\"}],\"barpolar\":[{\"marker\":{\"line\":{\"color\":\"#E5ECF6\",\"width\":0.5},\"pattern\":{\"fillmode\":\"overlay\",\"size\":10,\"solidity\":0.2}},\"type\":\"barpolar\"}],\"carpet\":[{\"aaxis\":{\"endlinecolor\":\"#2a3f5f\",\"gridcolor\":\"white\",\"linecolor\":\"white\",\"minorgridcolor\":\"white\",\"startlinecolor\":\"#2a3f5f\"},\"baxis\":{\"endlinecolor\":\"#2a3f5f\",\"gridcolor\":\"white\",\"linecolor\":\"white\",\"minorgridcolor\":\"white\",\"startlinecolor\":\"#2a3f5f\"},\"type\":\"carpet\"}],\"choropleth\":[{\"colorbar\":{\"outlinewidth\":0,\"ticks\":\"\"},\"type\":\"choropleth\"}],\"contour\":[{\"colorbar\":{\"outlinewidth\":0,\"ticks\":\"\"},\"colorscale\":[[0.0,\"#0d0887\"],[0.1111111111111111,\"#46039f\"],[0.2222222222222222,\"#7201a8\"],[0.3333333333333333,\"#9c179e\"],[0.4444444444444444,\"#bd3786\"],[0.5555555555555556,\"#d8576b\"],[0.6666666666666666,\"#ed7953\"],[0.7777777777777778,\"#fb9f3a\"],[0.8888888888888888,\"#fdca26\"],[1.0,\"#f0f921\"]],\"type\":\"contour\"}],\"contourcarpet\":[{\"colorbar\":{\"outlinewidth\":0,\"ticks\":\"\"},\"type\":\"contourcarpet\"}],\"heatmap\":[{\"colorbar\":{\"outlinewidth\":0,\"ticks\":\"\"},\"colorscale\":[[0.0,\"#0d0887\"],[0.1111111111111111,\"#46039f\"],[0.2222222222222222,\"#7201a8\"],[0.3333333333333333,\"#9c179e\"],[0.4444444444444444,\"#bd3786\"],[0.5555555555555556,\"#d8576b\"],[0.6666666666666666,\"#ed7953\"],[0.7777777777777778,\"#fb9f3a\"],[0.8888888888888888,\"#fdca26\"],[1.0,\"#f0f921\"]],\"type\":\"heatmap\"}],\"heatmapgl\":[{\"colorbar\":{\"outlinewidth\":0,\"ticks\":\"\"},\"colorscale\":[[0.0,\"#0d0887\"],[0.1111111111111111,\"#46039f\"],[0.2222222222222222,\"#7201a8\"],[0.3333333333333333,\"#9c179e\"],[0.4444444444444444,\"#bd3786\"],[0.5555555555555556,\"#d8576b\"],[0.6666666666666666,\"#ed7953\"],[0.7777777777777778,\"#fb9f3a\"],[0.8888888888888888,\"#fdca26\"],[1.0,\"#f0f921\"]],\"type\":\"heatmapgl\"}],\"histogram\":[{\"marker\":{\"pattern\":{\"fillmode\":\"overlay\",\"size\":10,\"solidity\":0.2}},\"type\":\"histogram\"}],\"histogram2d\":[{\"colorbar\":{\"outlinewidth\":0,\"ticks\":\"\"},\"colorscale\":[[0.0,\"#0d0887\"],[0.1111111111111111,\"#46039f\"],[0.2222222222222222,\"#7201a8\"],[0.3333333333333333,\"#9c179e\"],[0.4444444444444444,\"#bd3786\"],[0.5555555555555556,\"#d8576b\"],[0.6666666666666666,\"#ed7953\"],[0.7777777777777778,\"#fb9f3a\"],[0.8888888888888888,\"#fdca26\"],[1.0,\"#f0f921\"]],\"type\":\"histogram2d\"}],\"histogram2dcontour\":[{\"colorbar\":{\"outlinewidth\":0,\"ticks\":\"\"},\"colorscale\":[[0.0,\"#0d0887\"],[0.1111111111111111,\"#46039f\"],[0.2222222222222222,\"#7201a8\"],[0.3333333333333333,\"#9c179e\"],[0.4444444444444444,\"#bd3786\"],[0.5555555555555556,\"#d8576b\"],[0.6666666666666666,\"#ed7953\"],[0.7777777777777778,\"#fb9f3a\"],[0.8888888888888888,\"#fdca26\"],[1.0,\"#f0f921\"]],\"type\":\"histogram2dcontour\"}],\"mesh3d\":[{\"colorbar\":{\"outlinewidth\":0,\"ticks\":\"\"},\"type\":\"mesh3d\"}],\"parcoords\":[{\"line\":{\"colorbar\":{\"outlinewidth\":0,\"ticks\":\"\"}},\"type\":\"parcoords\"}],\"pie\":[{\"automargin\":true,\"type\":\"pie\"}],\"scatter\":[{\"marker\":{\"colorbar\":{\"outlinewidth\":0,\"ticks\":\"\"}},\"type\":\"scatter\"}],\"scatter3d\":[{\"line\":{\"colorbar\":{\"outlinewidth\":0,\"ticks\":\"\"}},\"marker\":{\"colorbar\":{\"outlinewidth\":0,\"ticks\":\"\"}},\"type\":\"scatter3d\"}],\"scattercarpet\":[{\"marker\":{\"colorbar\":{\"outlinewidth\":0,\"ticks\":\"\"}},\"type\":\"scattercarpet\"}],\"scattergeo\":[{\"marker\":{\"colorbar\":{\"outlinewidth\":0,\"ticks\":\"\"}},\"type\":\"scattergeo\"}],\"scattergl\":[{\"marker\":{\"colorbar\":{\"outlinewidth\":0,\"ticks\":\"\"}},\"type\":\"scattergl\"}],\"scattermapbox\":[{\"marker\":{\"colorbar\":{\"outlinewidth\":0,\"ticks\":\"\"}},\"type\":\"scattermapbox\"}],\"scatterpolar\":[{\"marker\":{\"colorbar\":{\"outlinewidth\":0,\"ticks\":\"\"}},\"type\":\"scatterpolar\"}],\"scatterpolargl\":[{\"marker\":{\"colorbar\":{\"outlinewidth\":0,\"ticks\":\"\"}},\"type\":\"scatterpolargl\"}],\"scatterternary\":[{\"marker\":{\"colorbar\":{\"outlinewidth\":0,\"ticks\":\"\"}},\"type\":\"scatterternary\"}],\"surface\":[{\"colorbar\":{\"outlinewidth\":0,\"ticks\":\"\"},\"colorscale\":[[0.0,\"#0d0887\"],[0.1111111111111111,\"#46039f\"],[0.2222222222222222,\"#7201a8\"],[0.3333333333333333,\"#9c179e\"],[0.4444444444444444,\"#bd3786\"],[0.5555555555555556,\"#d8576b\"],[0.6666666666666666,\"#ed7953\"],[0.7777777777777778,\"#fb9f3a\"],[0.8888888888888888,\"#fdca26\"],[1.0,\"#f0f921\"]],\"type\":\"surface\"}],\"table\":[{\"cells\":{\"fill\":{\"color\":\"#EBF0F8\"},\"line\":{\"color\":\"white\"}},\"header\":{\"fill\":{\"color\":\"#C8D4E3\"},\"line\":{\"color\":\"white\"}},\"type\":\"table\"}]},\"layout\":{\"annotationdefaults\":{\"arrowcolor\":\"#2a3f5f\",\"arrowhead\":0,\"arrowwidth\":1},\"autotypenumbers\":\"strict\",\"coloraxis\":{\"colorbar\":{\"outlinewidth\":0,\"ticks\":\"\"}},\"colorscale\":{\"diverging\":[[0,\"#8e0152\"],[0.1,\"#c51b7d\"],[0.2,\"#de77ae\"],[0.3,\"#f1b6da\"],[0.4,\"#fde0ef\"],[0.5,\"#f7f7f7\"],[0.6,\"#e6f5d0\"],[0.7,\"#b8e186\"],[0.8,\"#7fbc41\"],[0.9,\"#4d9221\"],[1,\"#276419\"]],\"sequential\":[[0.0,\"#0d0887\"],[0.1111111111111111,\"#46039f\"],[0.2222222222222222,\"#7201a8\"],[0.3333333333333333,\"#9c179e\"],[0.4444444444444444,\"#bd3786\"],[0.5555555555555556,\"#d8576b\"],[0.6666666666666666,\"#ed7953\"],[0.7777777777777778,\"#fb9f3a\"],[0.8888888888888888,\"#fdca26\"],[1.0,\"#f0f921\"]],\"sequentialminus\":[[0.0,\"#0d0887\"],[0.1111111111111111,\"#46039f\"],[0.2222222222222222,\"#7201a8\"],[0.3333333333333333,\"#9c179e\"],[0.4444444444444444,\"#bd3786\"],[0.5555555555555556,\"#d8576b\"],[0.6666666666666666,\"#ed7953\"],[0.7777777777777778,\"#fb9f3a\"],[0.8888888888888888,\"#fdca26\"],[1.0,\"#f0f921\"]]},\"colorway\":[\"#636efa\",\"#EF553B\",\"#00cc96\",\"#ab63fa\",\"#FFA15A\",\"#19d3f3\",\"#FF6692\",\"#B6E880\",\"#FF97FF\",\"#FECB52\"],\"font\":{\"color\":\"#2a3f5f\"},\"geo\":{\"bgcolor\":\"white\",\"lakecolor\":\"white\",\"landcolor\":\"#E5ECF6\",\"showlakes\":true,\"showland\":true,\"subunitcolor\":\"white\"},\"hoverlabel\":{\"align\":\"left\"},\"hovermode\":\"closest\",\"mapbox\":{\"style\":\"light\"},\"paper_bgcolor\":\"white\",\"plot_bgcolor\":\"#E5ECF6\",\"polar\":{\"angularaxis\":{\"gridcolor\":\"white\",\"linecolor\":\"white\",\"ticks\":\"\"},\"bgcolor\":\"#E5ECF6\",\"radialaxis\":{\"gridcolor\":\"white\",\"linecolor\":\"white\",\"ticks\":\"\"}},\"scene\":{\"xaxis\":{\"backgroundcolor\":\"#E5ECF6\",\"gridcolor\":\"white\",\"gridwidth\":2,\"linecolor\":\"white\",\"showbackground\":true,\"ticks\":\"\",\"zerolinecolor\":\"white\"},\"yaxis\":{\"backgroundcolor\":\"#E5ECF6\",\"gridcolor\":\"white\",\"gridwidth\":2,\"linecolor\":\"white\",\"showbackground\":true,\"ticks\":\"\",\"zerolinecolor\":\"white\"},\"zaxis\":{\"backgroundcolor\":\"#E5ECF6\",\"gridcolor\":\"white\",\"gridwidth\":2,\"linecolor\":\"white\",\"showbackground\":true,\"ticks\":\"\",\"zerolinecolor\":\"white\"}},\"shapedefaults\":{\"line\":{\"color\":\"#2a3f5f\"}},\"ternary\":{\"aaxis\":{\"gridcolor\":\"white\",\"linecolor\":\"white\",\"ticks\":\"\"},\"baxis\":{\"gridcolor\":\"white\",\"linecolor\":\"white\",\"ticks\":\"\"},\"bgcolor\":\"#E5ECF6\",\"caxis\":{\"gridcolor\":\"white\",\"linecolor\":\"white\",\"ticks\":\"\"}},\"title\":{\"x\":0.05},\"xaxis\":{\"automargin\":true,\"gridcolor\":\"white\",\"linecolor\":\"white\",\"ticks\":\"\",\"title\":{\"standoff\":15},\"zerolinecolor\":\"white\",\"zerolinewidth\":2},\"yaxis\":{\"automargin\":true,\"gridcolor\":\"white\",\"linecolor\":\"white\",\"ticks\":\"\",\"title\":{\"standoff\":15},\"zerolinecolor\":\"white\",\"zerolinewidth\":2}}},\"violinmode\":\"group\",\"xaxis\":{\"anchor\":\"y\",\"domain\":[0.0,1.0],\"title\":{\"text\":\"variable\"}},\"yaxis\":{\"anchor\":\"x\",\"domain\":[0.0,1.0],\"title\":{\"text\":\"value\"}}},                        {\"responsive\": true}                    ).then(function(){\n",
       "                            \n",
       "var gd = document.getElementById('cbfee37a-fa27-4c54-b5cd-2d93531ee300');\n",
       "var x = new MutationObserver(function (mutations, observer) {{\n",
       "        var display = window.getComputedStyle(gd).display;\n",
       "        if (!display || display === 'none') {{\n",
       "            console.log([gd, 'removed!']);\n",
       "            Plotly.purge(gd);\n",
       "            observer.disconnect();\n",
       "        }}\n",
       "}});\n",
       "\n",
       "// Listen for the removal of the full notebook cells\n",
       "var notebookContainer = gd.closest('#notebook-container');\n",
       "if (notebookContainer) {{\n",
       "    x.observe(notebookContainer, {childList: true});\n",
       "}}\n",
       "\n",
       "// Listen for the clearing of the current output cell\n",
       "var outputEl = gd.closest('.output');\n",
       "if (outputEl) {{\n",
       "    x.observe(outputEl, {childList: true});\n",
       "}}\n",
       "\n",
       "                        })                };                });            </script>        </div>"
      ]
     },
     "metadata": {},
     "output_type": "display_data"
    }
   ],
   "source": [
    "fig = px.violin(electricity_per_person, color='Energy efficiency equipment',\n",
    "               points='all')\n",
    "fig.show()"
   ]
  },
  {
   "cell_type": "markdown",
   "id": "426b0604-d6a1-4569-8589-1d427ac48c7d",
   "metadata": {},
   "source": [
    "**Nhận xét:**\n",
    "- Không có nhiều sự khác biệt giữa lượng điện năng tiêu thụ tối đa và tối thiểu trên 1 người ở những nhà có và không sử dụng thiết bị tiết kiệm điện.\n",
    "- Có 1 số trường hợp lượng diện tiêu thụ của người ở nhà có sử dụng thiết bị tiết kiệm điện còn cao hơn so với những nhà không sử dụng.\n",
    "- Đa số các nhà dân đều có mức tiêu thụ điện trong khoảng $\\leq 400$ kWh.\n",
    "- 2 trường hợp tiêu thụ điện cao đột biến ở mức 930 kWh tối đa và 675 kWh tối thiểu đều xảy ra ở nhà dân có sử dụng thiết bị tiết kiệm diện.\n",
    "- Mặc dù có phân bố mức tiêu thụ diện khá tương đồng nhưng có nhiều nhà sử dụng thiết bị tiết kiệm điện đạt mức tiêu thụ điện $\\leq 400$ kWh hơn so với những nhà không sử dụng. Như vậy các thiết bị tiết kiệm điện có hiệu quả trong việc giảm lượng điện tiêu thụ.\n",
    "## Câu hỏi 2\n",
    "**Câu hỏi đặt ra là:** Lượng điện năng tiêu thụ hằng tháng cao nhất của những nhà khác nhau có thể được giải thích bằng những thuộc tính khác theo công thức nào?\n",
    "\n",
    "**Trả lời được câu hỏi này** giúp nhóm hiểu được yếu tố nào trong những thuộc tính được ghi lại ở tập dữ liệu này có ảnh hưởng đến lượng điện tiêu thụ và mức độ ảnh hưởng của những yếu tố đó và có thể có được một số biện pháp giảm thiểu lượng điện tiêu thụ.\n",
    "\n",
    "**Các bước thực hiện:**\n",
    "1. Mã hóa \"No\" = 0, \"Yes\" = 1 và lấy ra các thuộc tính số nhưng bỏ 2 cột \"total energy consumption\" và \"energy per person\" do được tính trực tiếp từ cột \"maximum electricity consumption\".\n",
    "2. Tính công thức hồi quy biểu diễn \"maximum electricity consumption\" theo những thuộc tính còn lại.\n",
    "3. Thực hiện một số thay đổi về các biến độc lập và quay lại bước 2 (nếu có), đánh giá công thức hồi quy."
   ]
  },
  {
   "cell_type": "code",
   "execution_count": 3,
   "id": "3b72dc53-32d2-4e17-97e6-e817ee06f344",
   "metadata": {},
   "outputs": [
    {
     "data": {
      "text/html": [
       "<div>\n",
       "<style scoped>\n",
       "    .dataframe tbody tr th:only-of-type {\n",
       "        vertical-align: middle;\n",
       "    }\n",
       "\n",
       "    .dataframe tbody tr th {\n",
       "        vertical-align: top;\n",
       "    }\n",
       "\n",
       "    .dataframe thead th {\n",
       "        text-align: right;\n",
       "    }\n",
       "</style>\n",
       "<table border=\"1\" class=\"dataframe\">\n",
       "  <thead>\n",
       "    <tr style=\"text-align: right;\">\n",
       "      <th></th>\n",
       "      <th>Number of occupants</th>\n",
       "      <th>House age</th>\n",
       "      <th>Number of floor</th>\n",
       "      <th>Total floor area</th>\n",
       "      <th>summer daylight</th>\n",
       "      <th>summer thermal comfort</th>\n",
       "      <th>summer natural ventilation</th>\n",
       "      <th>Winter daylight</th>\n",
       "      <th>Winter thermal comfort</th>\n",
       "      <th>Winter natural ventilation</th>\n",
       "      <th>Gas consumption</th>\n",
       "      <th>maximum electricity consumption</th>\n",
       "      <th>minimum electricity consumption</th>\n",
       "      <th>number of airconditioning</th>\n",
       "      <th>number of electricity water heater</th>\n",
       "      <th>Solar hotwater</th>\n",
       "      <th>Energy efficiency equipment</th>\n",
       "    </tr>\n",
       "  </thead>\n",
       "  <tbody>\n",
       "    <tr>\n",
       "      <th>0</th>\n",
       "      <td>4</td>\n",
       "      <td>5.0</td>\n",
       "      <td>3</td>\n",
       "      <td>110.0</td>\n",
       "      <td>4</td>\n",
       "      <td>2</td>\n",
       "      <td>3</td>\n",
       "      <td>2</td>\n",
       "      <td>2</td>\n",
       "      <td>3</td>\n",
       "      <td>100000.0</td>\n",
       "      <td>440000.0</td>\n",
       "      <td>100000.0</td>\n",
       "      <td>0</td>\n",
       "      <td>1</td>\n",
       "      <td>0</td>\n",
       "      <td>1</td>\n",
       "    </tr>\n",
       "    <tr>\n",
       "      <th>1</th>\n",
       "      <td>6</td>\n",
       "      <td>5.0</td>\n",
       "      <td>5</td>\n",
       "      <td>180.0</td>\n",
       "      <td>4</td>\n",
       "      <td>3</td>\n",
       "      <td>4</td>\n",
       "      <td>4</td>\n",
       "      <td>2</td>\n",
       "      <td>4</td>\n",
       "      <td>375000.0</td>\n",
       "      <td>1800000.0</td>\n",
       "      <td>1800000.0</td>\n",
       "      <td>5</td>\n",
       "      <td>5</td>\n",
       "      <td>1</td>\n",
       "      <td>0</td>\n",
       "    </tr>\n",
       "    <tr>\n",
       "      <th>2</th>\n",
       "      <td>4</td>\n",
       "      <td>5.0</td>\n",
       "      <td>3</td>\n",
       "      <td>30.0</td>\n",
       "      <td>5</td>\n",
       "      <td>1</td>\n",
       "      <td>3</td>\n",
       "      <td>5</td>\n",
       "      <td>3</td>\n",
       "      <td>3</td>\n",
       "      <td>100000.0</td>\n",
       "      <td>240000.0</td>\n",
       "      <td>240000.0</td>\n",
       "      <td>0</td>\n",
       "      <td>1</td>\n",
       "      <td>0</td>\n",
       "      <td>0</td>\n",
       "    </tr>\n",
       "    <tr>\n",
       "      <th>3</th>\n",
       "      <td>1</td>\n",
       "      <td>5.0</td>\n",
       "      <td>5</td>\n",
       "      <td>30.0</td>\n",
       "      <td>4</td>\n",
       "      <td>3</td>\n",
       "      <td>3</td>\n",
       "      <td>4</td>\n",
       "      <td>4</td>\n",
       "      <td>3</td>\n",
       "      <td>100000.0</td>\n",
       "      <td>100000.0</td>\n",
       "      <td>100000.0</td>\n",
       "      <td>0</td>\n",
       "      <td>0</td>\n",
       "      <td>0</td>\n",
       "      <td>0</td>\n",
       "    </tr>\n",
       "    <tr>\n",
       "      <th>4</th>\n",
       "      <td>7</td>\n",
       "      <td>5.0</td>\n",
       "      <td>5</td>\n",
       "      <td>240.0</td>\n",
       "      <td>4</td>\n",
       "      <td>3</td>\n",
       "      <td>3</td>\n",
       "      <td>4</td>\n",
       "      <td>4</td>\n",
       "      <td>3</td>\n",
       "      <td>NaN</td>\n",
       "      <td>1800000.0</td>\n",
       "      <td>1330000.0</td>\n",
       "      <td>5</td>\n",
       "      <td>5</td>\n",
       "      <td>0</td>\n",
       "      <td>1</td>\n",
       "    </tr>\n",
       "    <tr>\n",
       "      <th>...</th>\n",
       "      <td>...</td>\n",
       "      <td>...</td>\n",
       "      <td>...</td>\n",
       "      <td>...</td>\n",
       "      <td>...</td>\n",
       "      <td>...</td>\n",
       "      <td>...</td>\n",
       "      <td>...</td>\n",
       "      <td>...</td>\n",
       "      <td>...</td>\n",
       "      <td>...</td>\n",
       "      <td>...</td>\n",
       "      <td>...</td>\n",
       "      <td>...</td>\n",
       "      <td>...</td>\n",
       "      <td>...</td>\n",
       "      <td>...</td>\n",
       "    </tr>\n",
       "    <tr>\n",
       "      <th>148</th>\n",
       "      <td>4</td>\n",
       "      <td>15.0</td>\n",
       "      <td>2</td>\n",
       "      <td>70.0</td>\n",
       "      <td>4</td>\n",
       "      <td>4</td>\n",
       "      <td>4</td>\n",
       "      <td>4</td>\n",
       "      <td>4</td>\n",
       "      <td>4</td>\n",
       "      <td>100000.0</td>\n",
       "      <td>675000.0</td>\n",
       "      <td>100000.0</td>\n",
       "      <td>1</td>\n",
       "      <td>2</td>\n",
       "      <td>0</td>\n",
       "      <td>1</td>\n",
       "    </tr>\n",
       "    <tr>\n",
       "      <th>149</th>\n",
       "      <td>3</td>\n",
       "      <td>5.0</td>\n",
       "      <td>4</td>\n",
       "      <td>180.0</td>\n",
       "      <td>4</td>\n",
       "      <td>2</td>\n",
       "      <td>3</td>\n",
       "      <td>4</td>\n",
       "      <td>3</td>\n",
       "      <td>3</td>\n",
       "      <td>NaN</td>\n",
       "      <td>1330000.0</td>\n",
       "      <td>930000.0</td>\n",
       "      <td>1</td>\n",
       "      <td>1</td>\n",
       "      <td>1</td>\n",
       "      <td>1</td>\n",
       "    </tr>\n",
       "    <tr>\n",
       "      <th>150</th>\n",
       "      <td>2</td>\n",
       "      <td>5.0</td>\n",
       "      <td>1</td>\n",
       "      <td>110.0</td>\n",
       "      <td>2</td>\n",
       "      <td>2</td>\n",
       "      <td>2</td>\n",
       "      <td>1</td>\n",
       "      <td>1</td>\n",
       "      <td>1</td>\n",
       "      <td>100000.0</td>\n",
       "      <td>675000.0</td>\n",
       "      <td>240000.0</td>\n",
       "      <td>3</td>\n",
       "      <td>2</td>\n",
       "      <td>0</td>\n",
       "      <td>0</td>\n",
       "    </tr>\n",
       "    <tr>\n",
       "      <th>151</th>\n",
       "      <td>2</td>\n",
       "      <td>5.0</td>\n",
       "      <td>2</td>\n",
       "      <td>180.0</td>\n",
       "      <td>3</td>\n",
       "      <td>3</td>\n",
       "      <td>3</td>\n",
       "      <td>3</td>\n",
       "      <td>3</td>\n",
       "      <td>2</td>\n",
       "      <td>100000.0</td>\n",
       "      <td>240000.0</td>\n",
       "      <td>100000.0</td>\n",
       "      <td>1</td>\n",
       "      <td>1</td>\n",
       "      <td>1</td>\n",
       "      <td>1</td>\n",
       "    </tr>\n",
       "    <tr>\n",
       "      <th>152</th>\n",
       "      <td>4</td>\n",
       "      <td>15.0</td>\n",
       "      <td>2</td>\n",
       "      <td>240.0</td>\n",
       "      <td>3</td>\n",
       "      <td>3</td>\n",
       "      <td>3</td>\n",
       "      <td>3</td>\n",
       "      <td>3</td>\n",
       "      <td>3</td>\n",
       "      <td>375000.0</td>\n",
       "      <td>675000.0</td>\n",
       "      <td>440000.0</td>\n",
       "      <td>3</td>\n",
       "      <td>3</td>\n",
       "      <td>1</td>\n",
       "      <td>1</td>\n",
       "    </tr>\n",
       "  </tbody>\n",
       "</table>\n",
       "<p>153 rows × 17 columns</p>\n",
       "</div>"
      ],
      "text/plain": [
       "     Number of occupants  House age  Number of floor  Total floor area  \\\n",
       "0                      4        5.0                3             110.0   \n",
       "1                      6        5.0                5             180.0   \n",
       "2                      4        5.0                3              30.0   \n",
       "3                      1        5.0                5              30.0   \n",
       "4                      7        5.0                5             240.0   \n",
       "..                   ...        ...              ...               ...   \n",
       "148                    4       15.0                2              70.0   \n",
       "149                    3        5.0                4             180.0   \n",
       "150                    2        5.0                1             110.0   \n",
       "151                    2        5.0                2             180.0   \n",
       "152                    4       15.0                2             240.0   \n",
       "\n",
       "     summer daylight  summer thermal comfort  summer natural ventilation  \\\n",
       "0                  4                       2                           3   \n",
       "1                  4                       3                           4   \n",
       "2                  5                       1                           3   \n",
       "3                  4                       3                           3   \n",
       "4                  4                       3                           3   \n",
       "..               ...                     ...                         ...   \n",
       "148                4                       4                           4   \n",
       "149                4                       2                           3   \n",
       "150                2                       2                           2   \n",
       "151                3                       3                           3   \n",
       "152                3                       3                           3   \n",
       "\n",
       "     Winter daylight  Winter thermal comfort  Winter natural ventilation  \\\n",
       "0                  2                       2                           3   \n",
       "1                  4                       2                           4   \n",
       "2                  5                       3                           3   \n",
       "3                  4                       4                           3   \n",
       "4                  4                       4                           3   \n",
       "..               ...                     ...                         ...   \n",
       "148                4                       4                           4   \n",
       "149                4                       3                           3   \n",
       "150                1                       1                           1   \n",
       "151                3                       3                           2   \n",
       "152                3                       3                           3   \n",
       "\n",
       "     Gas consumption  maximum electricity consumption  \\\n",
       "0           100000.0                         440000.0   \n",
       "1           375000.0                        1800000.0   \n",
       "2           100000.0                         240000.0   \n",
       "3           100000.0                         100000.0   \n",
       "4                NaN                        1800000.0   \n",
       "..               ...                              ...   \n",
       "148         100000.0                         675000.0   \n",
       "149              NaN                        1330000.0   \n",
       "150         100000.0                         675000.0   \n",
       "151         100000.0                         240000.0   \n",
       "152         375000.0                         675000.0   \n",
       "\n",
       "     minimum electricity consumption  number of airconditioning  \\\n",
       "0                           100000.0                          0   \n",
       "1                          1800000.0                          5   \n",
       "2                           240000.0                          0   \n",
       "3                           100000.0                          0   \n",
       "4                          1330000.0                          5   \n",
       "..                               ...                        ...   \n",
       "148                         100000.0                          1   \n",
       "149                         930000.0                          1   \n",
       "150                         240000.0                          3   \n",
       "151                         100000.0                          1   \n",
       "152                         440000.0                          3   \n",
       "\n",
       "     number of electricity water heater  Solar hotwater  \\\n",
       "0                                     1               0   \n",
       "1                                     5               1   \n",
       "2                                     1               0   \n",
       "3                                     0               0   \n",
       "4                                     5               0   \n",
       "..                                  ...             ...   \n",
       "148                                   2               0   \n",
       "149                                   1               1   \n",
       "150                                   2               0   \n",
       "151                                   1               1   \n",
       "152                                   3               1   \n",
       "\n",
       "     Energy efficiency equipment  \n",
       "0                              1  \n",
       "1                              0  \n",
       "2                              0  \n",
       "3                              0  \n",
       "4                              1  \n",
       "..                           ...  \n",
       "148                            1  \n",
       "149                            1  \n",
       "150                            0  \n",
       "151                            1  \n",
       "152                            1  \n",
       "\n",
       "[153 rows x 17 columns]"
      ]
     },
     "execution_count": 3,
     "metadata": {},
     "output_type": "execute_result"
    }
   ],
   "source": [
    "numeric_df = df.replace({'No': 0, 'Yes': 1}).select_dtypes(exclude='object')\n",
    "numeric_df.drop(columns=numeric_df.columns[[-2, -1]], inplace=True)\n",
    "# numeric_df['maximum electricity consumption'] = pd.qcut(numeric_df['maximum electricity consumption'],\n",
    "#                                                             4, list(range(4)))\n",
    "numeric_df"
   ]
  },
  {
   "cell_type": "code",
   "execution_count": 4,
   "id": "d1225dba-9402-4df0-9e3c-cb26886de282",
   "metadata": {},
   "outputs": [
    {
     "data": {
      "text/html": [
       "<table class=\"simpletable\">\n",
       "<caption>OLS Regression Results</caption>\n",
       "<tr>\n",
       "  <th>Dep. Variable:</th>    <td>maximum electricity consumption</td> <th>  R-squared:         </th> <td>   0.677</td>\n",
       "</tr>\n",
       "<tr>\n",
       "  <th>Model:</th>                          <td>OLS</td>               <th>  Adj. R-squared:    </th> <td>   0.609</td>\n",
       "</tr>\n",
       "<tr>\n",
       "  <th>Method:</th>                    <td>Least Squares</td>          <th>  F-statistic:       </th> <td>   9.958</td>\n",
       "</tr>\n",
       "<tr>\n",
       "  <th>Date:</th>                    <td>Sat, 17 Jul 2021</td>         <th>  Prob (F-statistic):</th> <td>7.19e-13</td>\n",
       "</tr>\n",
       "<tr>\n",
       "  <th>Time:</th>                        <td>20:58:29</td>             <th>  Log-Likelihood:    </th> <td> -1312.4</td>\n",
       "</tr>\n",
       "<tr>\n",
       "  <th>No. Observations:</th>             <td>    93</td>              <th>  AIC:               </th> <td>   2659.</td>\n",
       "</tr>\n",
       "<tr>\n",
       "  <th>Df Residuals:</th>                 <td>    76</td>              <th>  BIC:               </th> <td>   2702.</td>\n",
       "</tr>\n",
       "<tr>\n",
       "  <th>Df Model:</th>                     <td>    16</td>              <th>                     </th>     <td> </td>   \n",
       "</tr>\n",
       "<tr>\n",
       "  <th>Covariance Type:</th>             <td>nonrobust</td>            <th>                     </th>     <td> </td>   \n",
       "</tr>\n",
       "</table>\n",
       "<table class=\"simpletable\">\n",
       "<tr>\n",
       "                   <td></td>                     <th>coef</th>     <th>std err</th>      <th>t</th>      <th>P>|t|</th>  <th>[0.025</th>    <th>0.975]</th>  \n",
       "</tr>\n",
       "<tr>\n",
       "  <th>const</th>                              <td>-2.448e+05</td> <td> 2.35e+05</td> <td>   -1.043</td> <td> 0.300</td> <td>-7.12e+05</td> <td> 2.23e+05</td>\n",
       "</tr>\n",
       "<tr>\n",
       "  <th>Number of occupants</th>                <td> 3.784e+04</td> <td> 3.38e+04</td> <td>    1.119</td> <td> 0.267</td> <td>-2.95e+04</td> <td> 1.05e+05</td>\n",
       "</tr>\n",
       "<tr>\n",
       "  <th>House age</th>                          <td> 5943.4856</td> <td> 5258.850</td> <td>    1.130</td> <td> 0.262</td> <td>-4530.421</td> <td> 1.64e+04</td>\n",
       "</tr>\n",
       "<tr>\n",
       "  <th>Number of floor</th>                    <td> 5.438e+04</td> <td> 3.24e+04</td> <td>    1.676</td> <td> 0.098</td> <td>-1.02e+04</td> <td> 1.19e+05</td>\n",
       "</tr>\n",
       "<tr>\n",
       "  <th>Total floor area</th>                   <td> -284.7673</td> <td>  643.207</td> <td>   -0.443</td> <td> 0.659</td> <td>-1565.825</td> <td>  996.291</td>\n",
       "</tr>\n",
       "<tr>\n",
       "  <th>summer daylight</th>                    <td> 6.826e+04</td> <td> 7.73e+04</td> <td>    0.883</td> <td> 0.380</td> <td>-8.57e+04</td> <td> 2.22e+05</td>\n",
       "</tr>\n",
       "<tr>\n",
       "  <th>summer thermal comfort</th>             <td>  4.39e+04</td> <td>  7.1e+04</td> <td>    0.619</td> <td> 0.538</td> <td>-9.74e+04</td> <td> 1.85e+05</td>\n",
       "</tr>\n",
       "<tr>\n",
       "  <th>summer natural ventilation</th>         <td>  3.09e+04</td> <td> 6.59e+04</td> <td>    0.469</td> <td> 0.640</td> <td>   -1e+05</td> <td> 1.62e+05</td>\n",
       "</tr>\n",
       "<tr>\n",
       "  <th>Winter daylight</th>                    <td>-8.891e+04</td> <td> 7.97e+04</td> <td>   -1.116</td> <td> 0.268</td> <td>-2.48e+05</td> <td> 6.98e+04</td>\n",
       "</tr>\n",
       "<tr>\n",
       "  <th>Winter thermal comfort</th>             <td> -2.83e+04</td> <td> 7.89e+04</td> <td>   -0.358</td> <td> 0.721</td> <td>-1.86e+05</td> <td> 1.29e+05</td>\n",
       "</tr>\n",
       "<tr>\n",
       "  <th>Winter natural ventilation</th>         <td> 2.906e+04</td> <td> 6.87e+04</td> <td>    0.423</td> <td> 0.673</td> <td>-1.08e+05</td> <td> 1.66e+05</td>\n",
       "</tr>\n",
       "<tr>\n",
       "  <th>Gas consumption</th>                    <td>    0.4708</td> <td>    0.290</td> <td>    1.621</td> <td> 0.109</td> <td>   -0.108</td> <td>    1.049</td>\n",
       "</tr>\n",
       "<tr>\n",
       "  <th>minimum electricity consumption</th>    <td>    0.9855</td> <td>    0.156</td> <td>    6.326</td> <td> 0.000</td> <td>    0.675</td> <td>    1.296</td>\n",
       "</tr>\n",
       "<tr>\n",
       "  <th>number of airconditioning</th>          <td> 1.338e+04</td> <td> 6.03e+04</td> <td>    0.222</td> <td> 0.825</td> <td>-1.07e+05</td> <td> 1.33e+05</td>\n",
       "</tr>\n",
       "<tr>\n",
       "  <th>number of electricity water heater</th> <td>-2.633e+04</td> <td> 7.03e+04</td> <td>   -0.375</td> <td> 0.709</td> <td>-1.66e+05</td> <td> 1.14e+05</td>\n",
       "</tr>\n",
       "<tr>\n",
       "  <th>Solar hotwater</th>                     <td>-3468.0855</td> <td> 1.05e+05</td> <td>   -0.033</td> <td> 0.974</td> <td>-2.12e+05</td> <td> 2.05e+05</td>\n",
       "</tr>\n",
       "<tr>\n",
       "  <th>Energy efficiency equipment</th>        <td> 1.174e+05</td> <td> 9.06e+04</td> <td>    1.296</td> <td> 0.199</td> <td>-6.31e+04</td> <td> 2.98e+05</td>\n",
       "</tr>\n",
       "</table>\n",
       "<table class=\"simpletable\">\n",
       "<tr>\n",
       "  <th>Omnibus:</th>       <td> 7.660</td> <th>  Durbin-Watson:     </th> <td>   1.977</td>\n",
       "</tr>\n",
       "<tr>\n",
       "  <th>Prob(Omnibus):</th> <td> 0.022</td> <th>  Jarque-Bera (JB):  </th> <td>   8.027</td>\n",
       "</tr>\n",
       "<tr>\n",
       "  <th>Skew:</th>          <td> 0.716</td> <th>  Prob(JB):          </th> <td>  0.0181</td>\n",
       "</tr>\n",
       "<tr>\n",
       "  <th>Kurtosis:</th>      <td> 2.860</td> <th>  Cond. No.          </th> <td>4.40e+06</td>\n",
       "</tr>\n",
       "</table><br/><br/>Notes:<br/>[1] Standard Errors assume that the covariance matrix of the errors is correctly specified.<br/>[2] The condition number is large, 4.4e+06. This might indicate that there are<br/>strong multicollinearity or other numerical problems."
      ],
      "text/plain": [
       "<class 'statsmodels.iolib.summary.Summary'>\n",
       "\"\"\"\n",
       "                                   OLS Regression Results                                  \n",
       "===========================================================================================\n",
       "Dep. Variable:     maximum electricity consumption   R-squared:                       0.677\n",
       "Model:                                         OLS   Adj. R-squared:                  0.609\n",
       "Method:                              Least Squares   F-statistic:                     9.958\n",
       "Date:                             Sat, 17 Jul 2021   Prob (F-statistic):           7.19e-13\n",
       "Time:                                     20:58:29   Log-Likelihood:                -1312.4\n",
       "No. Observations:                               93   AIC:                             2659.\n",
       "Df Residuals:                                   76   BIC:                             2702.\n",
       "Df Model:                                       16                                         \n",
       "Covariance Type:                         nonrobust                                         \n",
       "======================================================================================================\n",
       "                                         coef    std err          t      P>|t|      [0.025      0.975]\n",
       "------------------------------------------------------------------------------------------------------\n",
       "const                              -2.448e+05   2.35e+05     -1.043      0.300   -7.12e+05    2.23e+05\n",
       "Number of occupants                 3.784e+04   3.38e+04      1.119      0.267   -2.95e+04    1.05e+05\n",
       "House age                           5943.4856   5258.850      1.130      0.262   -4530.421    1.64e+04\n",
       "Number of floor                     5.438e+04   3.24e+04      1.676      0.098   -1.02e+04    1.19e+05\n",
       "Total floor area                    -284.7673    643.207     -0.443      0.659   -1565.825     996.291\n",
       "summer daylight                     6.826e+04   7.73e+04      0.883      0.380   -8.57e+04    2.22e+05\n",
       "summer thermal comfort               4.39e+04    7.1e+04      0.619      0.538   -9.74e+04    1.85e+05\n",
       "summer natural ventilation           3.09e+04   6.59e+04      0.469      0.640      -1e+05    1.62e+05\n",
       "Winter daylight                    -8.891e+04   7.97e+04     -1.116      0.268   -2.48e+05    6.98e+04\n",
       "Winter thermal comfort              -2.83e+04   7.89e+04     -0.358      0.721   -1.86e+05    1.29e+05\n",
       "Winter natural ventilation          2.906e+04   6.87e+04      0.423      0.673   -1.08e+05    1.66e+05\n",
       "Gas consumption                        0.4708      0.290      1.621      0.109      -0.108       1.049\n",
       "minimum electricity consumption        0.9855      0.156      6.326      0.000       0.675       1.296\n",
       "number of airconditioning           1.338e+04   6.03e+04      0.222      0.825   -1.07e+05    1.33e+05\n",
       "number of electricity water heater -2.633e+04   7.03e+04     -0.375      0.709   -1.66e+05    1.14e+05\n",
       "Solar hotwater                     -3468.0855   1.05e+05     -0.033      0.974   -2.12e+05    2.05e+05\n",
       "Energy efficiency equipment         1.174e+05   9.06e+04      1.296      0.199   -6.31e+04    2.98e+05\n",
       "==============================================================================\n",
       "Omnibus:                        7.660   Durbin-Watson:                   1.977\n",
       "Prob(Omnibus):                  0.022   Jarque-Bera (JB):                8.027\n",
       "Skew:                           0.716   Prob(JB):                       0.0181\n",
       "Kurtosis:                       2.860   Cond. No.                     4.40e+06\n",
       "==============================================================================\n",
       "\n",
       "Notes:\n",
       "[1] Standard Errors assume that the covariance matrix of the errors is correctly specified.\n",
       "[2] The condition number is large, 4.4e+06. This might indicate that there are\n",
       "strong multicollinearity or other numerical problems.\n",
       "\"\"\""
      ]
     },
     "execution_count": 4,
     "metadata": {},
     "output_type": "execute_result"
    }
   ],
   "source": [
    "y = numeric_df['maximum electricity consumption']\n",
    "X = numeric_df.drop(columns='maximum electricity consumption')\n",
    "model = OLS(y, add_constant(X), missing='drop')\n",
    "result = model.fit()\n",
    "result.summary()"
   ]
  },
  {
   "cell_type": "markdown",
   "id": "6f354911-f8e9-470c-9d6b-7eab7065e409",
   "metadata": {},
   "source": [
    "**Nhận xét:**\n",
    "- Ngoại trừ biến \"minimum electricity consumption\", các biến còn lại đều không có ý nghĩa đối với mô hình về mặt thống kê.\n",
    "- Mô hình có thể giải thích được 60.9% sự thay đổi của biến \"maximum electricity consumption\"..\n",
    "- Hệ số điều kiện - biểu diễn khoảng giá trị đầu ra có thể thay đổi khi thực hiện thay đổi nhỏ ở đầu vào - có giá trị rất cao, $4.4 \\times 10^6$.\n",
    "- Có cảnh báo về hiện tượng đa cộng tuyến hay vấn đề khác về số liệu, do đó cần kiểm tra và loại bỏ một số biến có thể gây nên vấn đề.\n",
    "\n",
    "Sử dụng phương thức `variance_inflation_factor` tính VIF cho các thuộc tính."
   ]
  },
  {
   "cell_type": "code",
   "execution_count": 4,
   "id": "8e5edb72-dd26-4eea-904d-efb7e2631f5e",
   "metadata": {},
   "outputs": [
    {
     "data": {
      "text/plain": [
       "Number of occupants                   15.492572\n",
       "House age                              3.245257\n",
       "Number of floor                        7.215510\n",
       "Total floor area                       5.804647\n",
       "summer daylight                       49.959969\n",
       "summer thermal comfort                33.112227\n",
       "summer natural ventilation            35.685869\n",
       "Winter daylight                       58.480855\n",
       "Winter thermal comfort                47.131225\n",
       "Winter natural ventilation            41.248472\n",
       "Gas consumption                        5.078573\n",
       "maximum electricity consumption       10.990658\n",
       "minimum electricity consumption       10.822817\n",
       "number of airconditioning             12.471068\n",
       "number of electricity water heater    13.445624\n",
       "Solar hotwater                         1.727581\n",
       "Energy efficiency equipment            2.578687\n",
       "Name: VIF, dtype: float64"
      ]
     },
     "execution_count": 4,
     "metadata": {},
     "output_type": "execute_result"
    }
   ],
   "source": [
    "vifs = pd.Series([variance_inflation_factor(numeric_df.dropna().values, i) for i in range(numeric_df.shape[1])],\n",
    "                numeric_df.columns, name='VIF')\n",
    "vifs"
   ]
  },
  {
   "cell_type": "markdown",
   "id": "a16eefd9-0686-4217-81df-f2e89a049adb",
   "metadata": {},
   "source": [
    "Chọn ra những thuộc tính có VIF < 5, là những thuộc tính không có mối tương quan với nhau hoặc có nhưng không nghiêm trọng. Sau đó phân tích hồi quy giữa \"maximum electricity consumption\" và những thuộc tính được chọn này"
   ]
  },
  {
   "cell_type": "code",
   "execution_count": 5,
   "id": "1c374024-fcbe-40c0-974a-036bacd141cb",
   "metadata": {},
   "outputs": [
    {
     "data": {
      "text/plain": [
       "Index(['House age', 'Solar hotwater', 'Energy efficiency equipment'], dtype='object')"
      ]
     },
     "execution_count": 5,
     "metadata": {},
     "output_type": "execute_result"
    }
   ],
   "source": [
    "numeric_df.columns[vifs < 5]"
   ]
  },
  {
   "cell_type": "code",
   "execution_count": 6,
   "id": "f309e5eb-f052-4240-9198-d9f4380ddc1a",
   "metadata": {},
   "outputs": [
    {
     "data": {
      "text/html": [
       "<table class=\"simpletable\">\n",
       "<caption>OLS Regression Results</caption>\n",
       "<tr>\n",
       "  <th>Dep. Variable:</th>    <td>maximum electricity consumption</td> <th>  R-squared:         </th> <td>   0.014</td>\n",
       "</tr>\n",
       "<tr>\n",
       "  <th>Model:</th>                          <td>OLS</td>               <th>  Adj. R-squared:    </th> <td>  -0.006</td>\n",
       "</tr>\n",
       "<tr>\n",
       "  <th>Method:</th>                    <td>Least Squares</td>          <th>  F-statistic:       </th> <td>  0.7026</td>\n",
       "</tr>\n",
       "<tr>\n",
       "  <th>Date:</th>                    <td>Sat, 17 Jul 2021</td>         <th>  Prob (F-statistic):</th>  <td> 0.552</td> \n",
       "</tr>\n",
       "<tr>\n",
       "  <th>Time:</th>                        <td>21:38:36</td>             <th>  Log-Likelihood:    </th> <td> -2163.4</td>\n",
       "</tr>\n",
       "<tr>\n",
       "  <th>No. Observations:</th>             <td>   148</td>              <th>  AIC:               </th> <td>   4335.</td>\n",
       "</tr>\n",
       "<tr>\n",
       "  <th>Df Residuals:</th>                 <td>   144</td>              <th>  BIC:               </th> <td>   4347.</td>\n",
       "</tr>\n",
       "<tr>\n",
       "  <th>Df Model:</th>                     <td>     3</td>              <th>                     </th>     <td> </td>   \n",
       "</tr>\n",
       "<tr>\n",
       "  <th>Covariance Type:</th>             <td>nonrobust</td>            <th>                     </th>     <td> </td>   \n",
       "</tr>\n",
       "</table>\n",
       "<table class=\"simpletable\">\n",
       "<tr>\n",
       "               <td></td>                  <th>coef</th>     <th>std err</th>      <th>t</th>      <th>P>|t|</th>  <th>[0.025</th>    <th>0.975]</th>  \n",
       "</tr>\n",
       "<tr>\n",
       "  <th>const</th>                       <td>  9.08e+05</td> <td> 9.79e+04</td> <td>    9.278</td> <td> 0.000</td> <td> 7.15e+05</td> <td>  1.1e+06</td>\n",
       "</tr>\n",
       "<tr>\n",
       "  <th>House age</th>                   <td> -597.7636</td> <td> 5730.861</td> <td>   -0.104</td> <td> 0.917</td> <td>-1.19e+04</td> <td> 1.07e+04</td>\n",
       "</tr>\n",
       "<tr>\n",
       "  <th>Solar hotwater</th>              <td> 1.483e+05</td> <td> 1.12e+05</td> <td>    1.325</td> <td> 0.187</td> <td>-7.29e+04</td> <td>  3.7e+05</td>\n",
       "</tr>\n",
       "<tr>\n",
       "  <th>Energy efficiency equipment</th> <td>  1.81e+04</td> <td> 9.26e+04</td> <td>    0.195</td> <td> 0.845</td> <td>-1.65e+05</td> <td> 2.01e+05</td>\n",
       "</tr>\n",
       "</table>\n",
       "<table class=\"simpletable\">\n",
       "<tr>\n",
       "  <th>Omnibus:</th>       <td>57.110</td> <th>  Durbin-Watson:     </th> <td>   1.930</td>\n",
       "</tr>\n",
       "<tr>\n",
       "  <th>Prob(Omnibus):</th> <td> 0.000</td> <th>  Jarque-Bera (JB):  </th> <td>  10.547</td>\n",
       "</tr>\n",
       "<tr>\n",
       "  <th>Skew:</th>          <td> 0.278</td> <th>  Prob(JB):          </th> <td> 0.00513</td>\n",
       "</tr>\n",
       "<tr>\n",
       "  <th>Kurtosis:</th>      <td> 1.816</td> <th>  Cond. No.          </th> <td>    38.0</td>\n",
       "</tr>\n",
       "</table><br/><br/>Notes:<br/>[1] Standard Errors assume that the covariance matrix of the errors is correctly specified."
      ],
      "text/plain": [
       "<class 'statsmodels.iolib.summary.Summary'>\n",
       "\"\"\"\n",
       "                                   OLS Regression Results                                  \n",
       "===========================================================================================\n",
       "Dep. Variable:     maximum electricity consumption   R-squared:                       0.014\n",
       "Model:                                         OLS   Adj. R-squared:                 -0.006\n",
       "Method:                              Least Squares   F-statistic:                    0.7026\n",
       "Date:                             Sat, 17 Jul 2021   Prob (F-statistic):              0.552\n",
       "Time:                                     21:38:36   Log-Likelihood:                -2163.4\n",
       "No. Observations:                              148   AIC:                             4335.\n",
       "Df Residuals:                                  144   BIC:                             4347.\n",
       "Df Model:                                        3                                         \n",
       "Covariance Type:                         nonrobust                                         \n",
       "===============================================================================================\n",
       "                                  coef    std err          t      P>|t|      [0.025      0.975]\n",
       "-----------------------------------------------------------------------------------------------\n",
       "const                         9.08e+05   9.79e+04      9.278      0.000    7.15e+05     1.1e+06\n",
       "House age                    -597.7636   5730.861     -0.104      0.917   -1.19e+04    1.07e+04\n",
       "Solar hotwater               1.483e+05   1.12e+05      1.325      0.187   -7.29e+04     3.7e+05\n",
       "Energy efficiency equipment   1.81e+04   9.26e+04      0.195      0.845   -1.65e+05    2.01e+05\n",
       "==============================================================================\n",
       "Omnibus:                       57.110   Durbin-Watson:                   1.930\n",
       "Prob(Omnibus):                  0.000   Jarque-Bera (JB):               10.547\n",
       "Skew:                           0.278   Prob(JB):                      0.00513\n",
       "Kurtosis:                       1.816   Cond. No.                         38.0\n",
       "==============================================================================\n",
       "\n",
       "Notes:\n",
       "[1] Standard Errors assume that the covariance matrix of the errors is correctly specified.\n",
       "\"\"\""
      ]
     },
     "execution_count": 6,
     "metadata": {},
     "output_type": "execute_result"
    }
   ],
   "source": [
    "y = numeric_df['maximum electricity consumption']\n",
    "X = numeric_df[numeric_df.columns[vifs < 5]]\n",
    "model = OLS(y, add_constant(X), missing='drop')\n",
    "result = model.fit()\n",
    "result.summary()"
   ]
  },
  {
   "cell_type": "markdown",
   "id": "08ae2307-bce3-43df-827b-cc8e28a3bd9f",
   "metadata": {},
   "source": [
    "**Nhận xét:**\n",
    "- Tất cả các biến được chọn đều không có ý nghĩa về mặt thống kê.\n",
    "- Mô hình này không thể giải thích được sự thay đổi của \"maximum electricity consumption\".\n",
    "- Như vậy với tập dữ liệu này, lượng điện tiêu thụ không thể được biểu diễn dưới dạng phụ thuộc vào các yếu tố khác, cho thấy các thông tin thu thập được trong tập dữ liệu này gần như không có quan hệ tuyến tính với nhau."
   ]
  },
  {
   "cell_type": "markdown",
   "id": "f1d3d542-c18c-4d12-acb4-4034f631d4cc",
   "metadata": {},
   "source": [
    "# Tài liệu tham khảo:\n",
    "- https://stackoverflow.com/questions/67255139/how-to-change-the-edgecolor-of-an-histogram-in-plotly\n",
    "- https://stackoverflow.com/questions/44941082/plot-multiple-columns-of-pandas-dataframe-using-seaborn\n",
    "- https://www.geeksforgeeks.org/detecting-multicollinearity-with-vif-python/"
   ]
  }
 ],
 "metadata": {
  "kernelspec": {
   "display_name": "Data Visualization",
   "language": "python",
   "name": "dv"
  },
  "language_info": {
   "codemirror_mode": {
    "name": "ipython",
    "version": 3
   },
   "file_extension": ".py",
   "mimetype": "text/x-python",
   "name": "python",
   "nbconvert_exporter": "python",
   "pygments_lexer": "ipython3",
   "version": "3.9.5"
  }
 },
 "nbformat": 4,
 "nbformat_minor": 5
}
